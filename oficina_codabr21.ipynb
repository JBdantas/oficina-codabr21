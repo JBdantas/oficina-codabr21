{
  "cells": [
    {
      "cell_type": "markdown",
      "metadata": {
        "id": "view-in-github",
        "colab_type": "text"
      },
      "source": [
        "<a href=\"https://colab.research.google.com/github/JBdantas/oficina-codabr21/blob/main/oficina_codabr21.ipynb\" target=\"_parent\"><img src=\"https://colab.research.google.com/assets/colab-badge.svg\" alt=\"Open In Colab\"/></a>"
      ]
    },
    {
      "cell_type": "markdown",
      "metadata": {
        "id": "o3aw455X5MXf"
      },
      "source": [
        "# **Programação do zero a prática: Primeiros passos com Python** 🐍🎲🐼"
      ]
    },
    {
      "cell_type": "markdown",
      "metadata": {
        "id": "LSC0aDZy52SM"
      },
      "source": [
        "## Notebooks 💻"
      ]
    },
    {
      "cell_type": "markdown",
      "metadata": {
        "id": "Pknz2Rup56p2"
      },
      "source": [
        "\n",
        "\n",
        "*   O que são\n",
        "*   Como funcionam\n",
        "*   Mini tour pelos principais lugares\n",
        "*   Erros comuns:\n",
        "  *  Congelar a célula\n",
        "  *  Erro na célula\n",
        "\n"
      ]
    },
    {
      "cell_type": "markdown",
      "metadata": {
        "id": "PeH8HQvT2SuR"
      },
      "source": [
        "## Python, bem basiquinho 🐍"
      ]
    },
    {
      "cell_type": "markdown",
      "metadata": {
        "id": "AKh7duJomW_D"
      },
      "source": [
        "### Agenda"
      ]
    },
    {
      "cell_type": "markdown",
      "metadata": {
        "id": "6_sfJ0dH6fOL"
      },
      "source": [
        "*    O que é o Python\n",
        "*    Comentários\n",
        "*    Import\n",
        "  *  Zen do Python\n",
        "*    Tipos de dados\n",
        "  *  Type\n",
        "  *  String\n",
        "      *  Funções\n",
        "  *  Números \n",
        "  *  Booleanos\n",
        "*    Variável\n",
        "*    Método\n",
        "*    Função Print\n",
        "* Coleção de dados\n",
        "  *  Listas\n",
        "  * Dicionários\n",
        "* For\n",
        "* If e Else\n",
        "\n",
        "\n",
        "\n"
      ]
    },
    {
      "cell_type": "markdown",
      "metadata": {
        "id": "HLeQ3P_2mfQ5"
      },
      "source": [
        "### Import"
      ]
    },
    {
      "cell_type": "code",
      "execution_count": 1,
      "metadata": {
        "id": "l7SKQx7Y2qj2",
        "outputId": "656e2411-8582-42f6-f481-16c6116b2f9e",
        "colab": {
          "base_uri": "https://localhost:8080/"
        }
      },
      "outputs": [
        {
          "output_type": "stream",
          "name": "stdout",
          "text": [
            "The Zen of Python, by Tim Peters\n",
            "\n",
            "Beautiful is better than ugly.\n",
            "Explicit is better than implicit.\n",
            "Simple is better than complex.\n",
            "Complex is better than complicated.\n",
            "Flat is better than nested.\n",
            "Sparse is better than dense.\n",
            "Readability counts.\n",
            "Special cases aren't special enough to break the rules.\n",
            "Although practicality beats purity.\n",
            "Errors should never pass silently.\n",
            "Unless explicitly silenced.\n",
            "In the face of ambiguity, refuse the temptation to guess.\n",
            "There should be one-- and preferably only one --obvious way to do it.\n",
            "Although that way may not be obvious at first unless you're Dutch.\n",
            "Now is better than never.\n",
            "Although never is often better than *right* now.\n",
            "If the implementation is hard to explain, it's a bad idea.\n",
            "If the implementation is easy to explain, it may be a good idea.\n",
            "Namespaces are one honking great idea -- let's do more of those!\n"
          ]
        }
      ],
      "source": [
        "#Zen do Python\n",
        "import this"
      ]
    },
    {
      "cell_type": "markdown",
      "metadata": {
        "id": "q9HwlFviQFg3"
      },
      "source": [
        "### String"
      ]
    },
    {
      "cell_type": "code",
      "execution_count": null,
      "metadata": {
        "id": "qJhRi0tCQX_8"
      },
      "outputs": [],
      "source": [
        "#'Olá Mundo'"
      ]
    },
    {
      "cell_type": "code",
      "execution_count": null,
      "metadata": {
        "id": "rJVt-fYuQdpk"
      },
      "outputs": [],
      "source": [
        "#\"Olá, pessoal!\""
      ]
    },
    {
      "cell_type": "code",
      "execution_count": null,
      "metadata": {
        "id": "M3zmmQNVSMJF"
      },
      "outputs": [],
      "source": [
        "#'Quinta'+'-'+'Feira'"
      ]
    },
    {
      "cell_type": "code",
      "execution_count": null,
      "metadata": {
        "id": "NfJXHnGRQ4_W"
      },
      "outputs": [],
      "source": [
        "#type('Oie')"
      ]
    },
    {
      "cell_type": "code",
      "execution_count": null,
      "metadata": {
        "id": "dJSFtgMsSdgF"
      },
      "outputs": [],
      "source": [
        "#Qual a diferença?\n",
        "#2+3 / '2'+'3'"
      ]
    },
    {
      "cell_type": "markdown",
      "metadata": {
        "id": "SnVrJqd7QWuw"
      },
      "source": [
        "### Números"
      ]
    },
    {
      "cell_type": "code",
      "execution_count": null,
      "metadata": {
        "id": "nsEzGSFiR-LS"
      },
      "outputs": [],
      "source": [
        "#Inteiros\n",
        "#type(21)"
      ]
    },
    {
      "cell_type": "code",
      "execution_count": null,
      "metadata": {
        "id": "wHLUI1B9W-t6"
      },
      "outputs": [],
      "source": [
        "type(21.2)"
      ]
    },
    {
      "cell_type": "markdown",
      "metadata": {
        "id": "jPJEVHVgXZOa"
      },
      "source": [
        "**Operações matemáticas**"
      ]
    },
    {
      "cell_type": "code",
      "execution_count": null,
      "metadata": {
        "id": "o6RSlfBtXFJl"
      },
      "outputs": [],
      "source": [
        "#Soma\n",
        "#2 + 2"
      ]
    },
    {
      "cell_type": "code",
      "execution_count": null,
      "metadata": {
        "id": "GNuSronLXidb"
      },
      "outputs": [],
      "source": [
        "#Subtração\n",
        "#2-2"
      ]
    },
    {
      "cell_type": "code",
      "execution_count": null,
      "metadata": {
        "id": "DjxtY33_XpsS"
      },
      "outputs": [],
      "source": [
        "#Divisão\n",
        "#2/2"
      ]
    },
    {
      "cell_type": "code",
      "execution_count": null,
      "metadata": {
        "id": "HjsSnH6HX2-N"
      },
      "outputs": [],
      "source": [
        "#Multiplicação\n",
        "#2*2"
      ]
    },
    {
      "cell_type": "code",
      "execution_count": null,
      "metadata": {
        "id": "TYQHlWb-X-k9"
      },
      "outputs": [],
      "source": [
        "#Potência\n",
        "#2**2"
      ]
    },
    {
      "cell_type": "code",
      "execution_count": null,
      "metadata": {
        "id": "I0Lysd_tYLyx"
      },
      "outputs": [],
      "source": [
        "#Qual o resultado?\n",
        "2+4/2"
      ]
    },
    {
      "cell_type": "markdown",
      "metadata": {
        "id": "lM6AMQZlY_Q9"
      },
      "source": [
        "### Booleano"
      ]
    },
    {
      "cell_type": "code",
      "execution_count": null,
      "metadata": {
        "id": "qPNS9hNXZERE"
      },
      "outputs": [],
      "source": [
        "type(False)"
      ]
    },
    {
      "cell_type": "code",
      "execution_count": null,
      "metadata": {
        "id": "G88_f0ICZUub"
      },
      "outputs": [],
      "source": [
        "type(True)"
      ]
    },
    {
      "cell_type": "markdown",
      "metadata": {
        "id": "gZR98mv7bn9z"
      },
      "source": [
        "### Variáveis"
      ]
    },
    {
      "cell_type": "code",
      "execution_count": null,
      "metadata": {
        "id": "DKJ6WTF-bvUQ"
      },
      "outputs": [],
      "source": [
        "#numero = 35"
      ]
    },
    {
      "cell_type": "markdown",
      "metadata": {
        "id": "7jfB1jfaZgVb"
      },
      "source": [
        "**Operadores lógicos**"
      ]
    },
    {
      "cell_type": "code",
      "execution_count": null,
      "metadata": {
        "id": "yWKjui3CcU7S"
      },
      "outputs": [],
      "source": [
        "#Comparação\n",
        "#numero == 34"
      ]
    },
    {
      "cell_type": "code",
      "execution_count": null,
      "metadata": {
        "id": "jXsexwB6dSNz"
      },
      "outputs": [],
      "source": [
        "#Diferente\n",
        "#numero != 15"
      ]
    },
    {
      "cell_type": "code",
      "execution_count": null,
      "metadata": {
        "id": "F2zOSRH3Zfrs"
      },
      "outputs": [],
      "source": [
        "#Maior que\n",
        "#2 > 4"
      ]
    },
    {
      "cell_type": "code",
      "execution_count": null,
      "metadata": {
        "id": "nURbtZWXZqlM"
      },
      "outputs": [],
      "source": [
        "#Menor que\n",
        "#2 < 4"
      ]
    },
    {
      "cell_type": "code",
      "execution_count": null,
      "metadata": {
        "id": "ym9Mp5ULbM6z"
      },
      "outputs": [],
      "source": [
        "#Maior igual\n",
        "#numero >= 8"
      ]
    },
    {
      "cell_type": "code",
      "execution_count": null,
      "metadata": {
        "id": "qOUidzyXbhyn"
      },
      "outputs": [],
      "source": [
        "#Menor igual\n",
        "#numero <= 100"
      ]
    },
    {
      "cell_type": "markdown",
      "metadata": {
        "id": "o2NEBmkGebuN"
      },
      "source": [
        "### Métodos"
      ]
    },
    {
      "cell_type": "code",
      "execution_count": null,
      "metadata": {
        "id": "d3_H30ykfVYT"
      },
      "outputs": [],
      "source": [
        "#minha_fruta =  'banana'"
      ]
    },
    {
      "cell_type": "code",
      "execution_count": null,
      "metadata": {
        "id": "p9S85QiNfvFU"
      },
      "outputs": [],
      "source": [
        "#minha_fruta.upper()"
      ]
    },
    {
      "cell_type": "code",
      "execution_count": null,
      "metadata": {
        "id": "XeRr27rKf21q"
      },
      "outputs": [],
      "source": [
        "#minha_fruta.lower()"
      ]
    },
    {
      "cell_type": "code",
      "execution_count": null,
      "metadata": {
        "id": "jRagsc0xgNal"
      },
      "outputs": [],
      "source": [
        "#minha_fruta.count('a')"
      ]
    },
    {
      "cell_type": "code",
      "execution_count": null,
      "metadata": {
        "id": "rDLhJB5YhQbM"
      },
      "outputs": [],
      "source": [
        "#bebida = 'água de coco'\n",
        "#bebida"
      ]
    },
    {
      "cell_type": "code",
      "execution_count": null,
      "metadata": {
        "id": "7_5n3qS9hiG0"
      },
      "outputs": [],
      "source": [
        "#Separar\n",
        "#bebida.split()"
      ]
    },
    {
      "cell_type": "code",
      "execution_count": null,
      "metadata": {
        "id": "BUooZvyyhrDl"
      },
      "outputs": [],
      "source": [
        "#Métodos encandeados\n",
        "#bebida.upper().split()"
      ]
    },
    {
      "cell_type": "code",
      "execution_count": null,
      "metadata": {
        "id": "YJxZUz_OikVk"
      },
      "outputs": [],
      "source": [
        "#Mudanças na String\n",
        "#bebida_grande = bebida.upper().split()\n",
        "#bebida_grande"
      ]
    },
    {
      "cell_type": "markdown",
      "metadata": {
        "id": "AlWV8GmCjCnf"
      },
      "source": [
        "### Print"
      ]
    },
    {
      "cell_type": "code",
      "execution_count": null,
      "metadata": {
        "id": "lcZ1NohJjFzE"
      },
      "outputs": [],
      "source": [
        "#print('bom dia') "
      ]
    },
    {
      "cell_type": "code",
      "execution_count": null,
      "metadata": {
        "id": "MVjRSuGljURo"
      },
      "outputs": [],
      "source": [
        "#evento = 'Coda'"
      ]
    },
    {
      "cell_type": "code",
      "execution_count": null,
      "metadata": {
        "id": "bwPdT2R8lkui"
      },
      "outputs": [],
      "source": [
        "#print(f'bom dia, {evento}')"
      ]
    },
    {
      "cell_type": "markdown",
      "metadata": {
        "id": "VO4-8HRAsJOB"
      },
      "source": [
        "###Listas"
      ]
    },
    {
      "cell_type": "code",
      "execution_count": null,
      "metadata": {
        "id": "jMoT_D-0sOIX"
      },
      "outputs": [],
      "source": [
        "#frutas = ['pera', 'uva', 'maçã','laranja']"
      ]
    },
    {
      "cell_type": "code",
      "execution_count": null,
      "metadata": {
        "id": "hEIy0voYskSz"
      },
      "outputs": [],
      "source": [
        "#Pegar o segundo elemento\n",
        "#frutas[2]"
      ]
    },
    {
      "cell_type": "code",
      "execution_count": null,
      "metadata": {
        "id": "liMHYxC0ss9Q"
      },
      "outputs": [],
      "source": [
        "#Pegar o último elemento\n",
        "#frutas[-1]"
      ]
    },
    {
      "cell_type": "markdown",
      "metadata": {
        "id": "raHCbb2vuzkC"
      },
      "source": [
        "**Fatiamento de listas**"
      ]
    },
    {
      "cell_type": "code",
      "execution_count": null,
      "metadata": {
        "id": "o9WJJ5kZs18X"
      },
      "outputs": [],
      "source": [
        "#frutas[0:2]"
      ]
    },
    {
      "cell_type": "code",
      "execution_count": null,
      "metadata": {
        "id": "M4ncQU9ftIkz"
      },
      "outputs": [],
      "source": [
        "#frutas[:1]"
      ]
    },
    {
      "cell_type": "code",
      "execution_count": null,
      "metadata": {
        "id": "pzXVu8actZ5G"
      },
      "outputs": [],
      "source": [
        "#frutas[3:]"
      ]
    },
    {
      "cell_type": "code",
      "execution_count": null,
      "metadata": {
        "id": "_wOCunk5tsSs"
      },
      "outputs": [],
      "source": [
        "#Tamanho de uma lista\n",
        "#len(frutas)"
      ]
    },
    {
      "cell_type": "code",
      "execution_count": null,
      "metadata": {
        "id": "0z1i5oLUtwhn"
      },
      "outputs": [],
      "source": [
        "#Incluir um item\n",
        "#frutas.append('melancia')"
      ]
    },
    {
      "cell_type": "code",
      "execution_count": null,
      "metadata": {
        "id": "JaarEYrkt08f"
      },
      "outputs": [],
      "source": [
        "#Excluir um item\n",
        "#frutas.pop()"
      ]
    },
    {
      "cell_type": "markdown",
      "metadata": {
        "id": "je3NQKdRxlWD"
      },
      "source": [
        "###Dicionário"
      ]
    },
    {
      "cell_type": "code",
      "execution_count": null,
      "metadata": {
        "id": "Z9DRA3uZt_33"
      },
      "outputs": [],
      "source": [
        "salada_de_frutas = {'ingredientes': frutas,\n",
        "                    'preparo':'corte tudo e misture',\n",
        "                    'tempo':60\n",
        "                    }\n"
      ]
    },
    {
      "cell_type": "code",
      "execution_count": null,
      "metadata": {
        "id": "czfbnt0nyZfz"
      },
      "outputs": [],
      "source": [
        "#pegar um item\n",
        "#salada_de_frutas['ingredientes']"
      ]
    },
    {
      "cell_type": "code",
      "execution_count": null,
      "metadata": {
        "id": "jJWLs4WnypPo"
      },
      "outputs": [],
      "source": [
        "#adicionar item \n",
        "#salada_de_frutas['porções'] = 7"
      ]
    },
    {
      "cell_type": "code",
      "execution_count": null,
      "metadata": {
        "id": "aw06ygBsyvqm"
      },
      "outputs": [],
      "source": [
        "#excluir item\n",
        "del salada_de_frutas['tempo']"
      ]
    },
    {
      "cell_type": "markdown",
      "metadata": {
        "id": "WCSgJGvdzbPY"
      },
      "source": [
        "### Estrutura de repetição `For`"
      ]
    },
    {
      "cell_type": "code",
      "execution_count": null,
      "metadata": {
        "id": "4FdRAfc51jLo"
      },
      "outputs": [],
      "source": [
        "#iterando em listas\n",
        "for fruta in frutas:\n",
        "  print(fruta)"
      ]
    },
    {
      "cell_type": "code",
      "execution_count": null,
      "metadata": {
        "id": "-A5IbDK_3BOp"
      },
      "outputs": [],
      "source": [
        "#Pegar as chaves do dicionário\n",
        "for chave in salada_de_frutas:\n",
        "  print(chave)"
      ]
    },
    {
      "cell_type": "code",
      "execution_count": null,
      "metadata": {
        "id": "bkyqGJu43fDP"
      },
      "outputs": [],
      "source": [
        "#Pegar valor das chaves no dicionário\n",
        "for chave in salada_de_frutas:\n",
        "  print(salada_de_frutas[chave])"
      ]
    },
    {
      "cell_type": "code",
      "execution_count": null,
      "metadata": {
        "id": "QH_itNsA2Kh6"
      },
      "outputs": [],
      "source": [
        "#Iterando em elementos de uma string\n",
        "for letra in evento:\n",
        "  print(letra)"
      ]
    },
    {
      "cell_type": "markdown",
      "metadata": {
        "id": "F1o4dtZR2F9I"
      },
      "source": [
        "### Estrutura condicional `if`"
      ]
    },
    {
      "cell_type": "code",
      "execution_count": null,
      "metadata": {
        "id": "1TOsBM274-7r"
      },
      "outputs": [],
      "source": [
        "if 4 > 3:\n",
        "  print('É maior sim!')"
      ]
    },
    {
      "cell_type": "code",
      "execution_count": null,
      "metadata": {
        "id": "qn0aSzyM5MpV"
      },
      "outputs": [],
      "source": [
        "if 4 >= 7:\n",
        "  print('É maior sim!')\n",
        "else:\n",
        "  print('Claro que não!')"
      ]
    },
    {
      "cell_type": "code",
      "execution_count": null,
      "metadata": {
        "id": "rDKJHAMb5fXq"
      },
      "outputs": [],
      "source": [
        "idade = 21\n",
        "\n",
        "if idade > 30:\n",
        "  print('Sou adulto')\n",
        "elif idade > 19 & idade <= 30:\n",
        "  print('sou jovem')\n",
        "else:\n",
        "  print('sou adolas')\n",
        "\n"
      ]
    },
    {
      "cell_type": "markdown",
      "metadata": {
        "id": "xo7NFdsf0Id5"
      },
      "source": [
        "## Pandas 🐼🎲"
      ]
    },
    {
      "cell_type": "markdown",
      "metadata": {
        "id": "uTpW1Kil0Vlf"
      },
      "source": [
        "*  Importar o pandas\n",
        "*  Carga de dados\n",
        "*  Detalhando os dados\n",
        "*  Organizando os dados\n",
        "*  Filtrando os dados\n",
        "*  Agrupando e agregando\n",
        "*  Exportando "
      ]
    },
    {
      "cell_type": "markdown",
      "metadata": {
        "id": "wR2nJ5Rj7PpM"
      },
      "source": [
        "### Importar a `Biblioteca`"
      ]
    },
    {
      "cell_type": "code",
      "execution_count": null,
      "metadata": {
        "id": "rWDNuStL41Te"
      },
      "outputs": [],
      "source": [
        "import pandas as pd"
      ]
    },
    {
      "cell_type": "markdown",
      "metadata": {
        "id": "87TxFyGU7Zm1"
      },
      "source": [
        "### Carga de dados"
      ]
    },
    {
      "cell_type": "code",
      "execution_count": null,
      "metadata": {
        "id": "n36diWCK43nk"
      },
      "outputs": [],
      "source": [
        "df_empresas = pd.read_csv('https://raw.githubusercontent.com/anicelysantos/oficina-codabr21/main/empresas_trabalho_escravo.csv')"
      ]
    },
    {
      "cell_type": "markdown",
      "metadata": {
        "id": "tkqPwgdO9mmX"
      },
      "source": [
        "### Detalhando os dados"
      ]
    },
    {
      "cell_type": "code",
      "execution_count": null,
      "metadata": {
        "id": "2lFuqije9lGb"
      },
      "outputs": [],
      "source": [
        "df_empresas.head(10)"
      ]
    },
    {
      "cell_type": "code",
      "execution_count": null,
      "metadata": {
        "id": "HcVqxZaO9vwB"
      },
      "outputs": [],
      "source": [
        "df_empresas.sample(3)"
      ]
    },
    {
      "cell_type": "code",
      "execution_count": null,
      "metadata": {
        "id": "P8MBZ68J915b"
      },
      "outputs": [],
      "source": [
        "df_empresas.tail(3)"
      ]
    },
    {
      "cell_type": "code",
      "execution_count": null,
      "metadata": {
        "id": "-hHkp0ba-Fsi"
      },
      "outputs": [],
      "source": [
        "#resumo estatístico\n",
        "df_empresas.describe()"
      ]
    },
    {
      "cell_type": "code",
      "execution_count": null,
      "metadata": {
        "id": "Y0Dszx3m-RjJ"
      },
      "outputs": [],
      "source": [
        "#Quantidade de linhas e colunas\n",
        "df_empresas.shape"
      ]
    },
    {
      "cell_type": "code",
      "execution_count": null,
      "metadata": {
        "id": "9EBTXADx-nZb"
      },
      "outputs": [],
      "source": [
        "#Nome das colunas e tipos de dados\n",
        "df_empresas.dtypes"
      ]
    },
    {
      "cell_type": "code",
      "execution_count": null,
      "metadata": {
        "id": "SN5JhRCV-1QY"
      },
      "outputs": [],
      "source": [
        "#Nome das colunas\n",
        "df_empresas.columns"
      ]
    },
    {
      "cell_type": "markdown",
      "metadata": {
        "id": "yfOIgKuT0zea"
      },
      "source": [
        "### Organizando os dados"
      ]
    },
    {
      "cell_type": "code",
      "execution_count": null,
      "metadata": {
        "id": "-NlClOYp04bF"
      },
      "outputs": [],
      "source": [
        "#Ordena os dados\n",
        "df_empresas.sort_values('UF')"
      ]
    },
    {
      "cell_type": "code",
      "execution_count": null,
      "metadata": {
        "id": "3SL5N9f11c_t"
      },
      "outputs": [],
      "source": [
        "#ordena decrescentemente\n",
        "df_empresas.sort_values('UF', ascending=False)"
      ]
    },
    {
      "cell_type": "code",
      "execution_count": null,
      "metadata": {
        "id": "oYMXid4N1mtF"
      },
      "outputs": [],
      "source": [
        "#As 10 primeiras linhas\n",
        "df_empresas.sort_values('UF').head(10)"
      ]
    },
    {
      "cell_type": "code",
      "execution_count": null,
      "metadata": {
        "id": "FI5uul4O2HuP"
      },
      "outputs": [],
      "source": [
        "#Ordenas por mais de uma coluna\n",
        "df_empresas.sort_values(['UF','Ano'])"
      ]
    },
    {
      "cell_type": "markdown",
      "metadata": {
        "id": "e7yLrQS13VLq"
      },
      "source": [
        "### Filtrando os dados"
      ]
    },
    {
      "cell_type": "markdown",
      "metadata": {
        "id": "2ARSqtmC3ghn"
      },
      "source": [
        "**Filtro de coluna**"
      ]
    },
    {
      "cell_type": "code",
      "execution_count": null,
      "metadata": {
        "id": "Lw2dmiQG3UmQ"
      },
      "outputs": [],
      "source": [
        "df_empresas.UF"
      ]
    },
    {
      "cell_type": "code",
      "execution_count": null,
      "metadata": {
        "id": "hfCpLyHS3s6T"
      },
      "outputs": [],
      "source": [
        "df_empresas['Município']"
      ]
    },
    {
      "cell_type": "code",
      "execution_count": null,
      "metadata": {
        "id": "01Us8vXb3-J-"
      },
      "outputs": [],
      "source": [
        "df_empresas['Descrição CNAE'].unique()"
      ]
    },
    {
      "cell_type": "code",
      "execution_count": null,
      "metadata": {
        "id": "KVlIlDvv4QVH"
      },
      "outputs": [],
      "source": [
        "#Contar valores\n",
        "df_empresas['Município'].value_counts()"
      ]
    },
    {
      "cell_type": "markdown",
      "metadata": {
        "id": "c-zQMcSD4m_3"
      },
      "source": [
        "Para colunas numérias:\n",
        "\n",
        "*  `min()` pega o menor valor\n",
        "*  `max()` pega o maior valor\n",
        "*  `median()` pega a mediana\n",
        "*  `mean()` pega a média\n",
        "*  `mode()` pega o valor mais comum"
      ]
    },
    {
      "cell_type": "code",
      "execution_count": null,
      "metadata": {
        "id": "L5_UxMR24k0H"
      },
      "outputs": [],
      "source": [
        "df_empresas['Nº Trab. cond. analog escravo'].max()"
      ]
    },
    {
      "cell_type": "code",
      "execution_count": null,
      "metadata": {
        "id": "J7tjlM_G7iSM"
      },
      "outputs": [],
      "source": [
        "df_empresas[df_empresas.UF == 'PE']"
      ]
    },
    {
      "cell_type": "markdown",
      "metadata": {
        "id": "OkCEKJks5nc2"
      },
      "source": [
        "**Filtro de linha**"
      ]
    },
    {
      "cell_type": "code",
      "execution_count": null,
      "metadata": {
        "id": "IRqPkCnH5qr-"
      },
      "outputs": [],
      "source": [
        "df_empresas[df_empresas['Nº Trab. cond. analog escravo'] > 10]"
      ]
    },
    {
      "cell_type": "code",
      "execution_count": null,
      "metadata": {
        "id": "7LsI6S9d6Gji"
      },
      "outputs": [],
      "source": [
        "df_empresas[df_empresas.Ano > 2017]"
      ]
    },
    {
      "cell_type": "code",
      "execution_count": null,
      "metadata": {
        "id": "P1bd3ukF6g9y"
      },
      "outputs": [],
      "source": [
        "#Filtros compostos\n",
        "\n",
        "acima_dez_libertos = df_empresas[df_empresas['Nº Trab. cond. analog escravo'] > 10]\n",
        "\n",
        "acima_dez_libertos[df_empresas.Ano > 2017].head()"
      ]
    },
    {
      "cell_type": "markdown",
      "metadata": {
        "id": "cy-n96aD_nwm"
      },
      "source": [
        "### Agrupar e agregar dados"
      ]
    },
    {
      "cell_type": "code",
      "execution_count": null,
      "metadata": {
        "id": "NklFoy1T8zvy"
      },
      "outputs": [],
      "source": [
        "df_empresas.groupby('Ano')"
      ]
    },
    {
      "cell_type": "code",
      "execution_count": null,
      "metadata": {
        "id": "tXmHdj6f9V7-"
      },
      "outputs": [],
      "source": [
        "df_empresas.groupby('Ano').sum()"
      ]
    },
    {
      "cell_type": "code",
      "execution_count": null,
      "metadata": {
        "id": "cjKCTqh39vys"
      },
      "outputs": [],
      "source": [
        "df_empresas[['Ano','Nº Trab. cond. analog escravo']].groupby('Ano').sum().sort_values('Nº Trab. cond. analog escravo', ascending=False)"
      ]
    },
    {
      "cell_type": "markdown",
      "metadata": {
        "id": "jiHaRn618PQA"
      },
      "source": [
        "### Bora Investigar? 🔎🕵🏾‍♀️"
      ]
    },
    {
      "cell_type": "code",
      "execution_count": null,
      "metadata": {
        "id": "9FhBEhT3D2l9"
      },
      "outputs": [],
      "source": [
        "#Total de pessoas em libertas do trabalho escravo de 2010 a 2020\n",
        "df_empresas['Nº Trab. cond. analog escravo'].sum()"
      ]
    },
    {
      "cell_type": "code",
      "execution_count": null,
      "metadata": {
        "id": "Z1xU62GA8GER"
      },
      "outputs": [],
      "source": [
        "#rancking de empresas (CNAE)\n",
        "df_empresas['Descrição CNAE'].value_counts().head(5)"
      ]
    },
    {
      "cell_type": "code",
      "execution_count": null,
      "metadata": {
        "id": "q39pGYa67doj"
      },
      "outputs": [],
      "source": [
        "#Qual os 10 estados com mais operações\n",
        "\n",
        "df_empresas[['UF','Operação']].groupby('UF').sum().sort_values('Operação', ascending=False).head(10)"
      ]
    },
    {
      "cell_type": "code",
      "execution_count": null,
      "metadata": {
        "id": "a9R7HIyW_D7c"
      },
      "outputs": [],
      "source": [
        "#Ano em que mais houve altuação\n",
        "df_empresas[['Ano','Operação']].groupby('Ano').sum().sort_values('Operação', ascending=False)\n"
      ]
    },
    {
      "cell_type": "code",
      "execution_count": null,
      "metadata": {
        "id": "K-XbAAluEWun"
      },
      "outputs": [],
      "source": [
        "#Numero total de pessoas libertas através dos anos por estado\n",
        "df_empresas[['UF','Nº Trab. cond. analog escravo']].groupby('UF').sum().sort_values('Nº Trab. cond. analog escravo', ascending=False)"
      ]
    },
    {
      "cell_type": "code",
      "execution_count": null,
      "metadata": {
        "id": "8u-jPzXFE4Rd"
      },
      "outputs": [],
      "source": [
        "#Qual ano que mais houveram pessoas libertadas\n",
        "df_empresas[['Ano','Nº Trab. cond. analog escravo']].groupby('Ano').sum().sort_values('Nº Trab. cond. analog escravo', ascending=False)"
      ]
    },
    {
      "cell_type": "markdown",
      "metadata": {
        "id": "wsVhE5A7_0pj"
      },
      "source": [
        "### Saaalvandooo 💾"
      ]
    },
    {
      "cell_type": "code",
      "execution_count": null,
      "metadata": {
        "id": "36v7H2LaAMn_"
      },
      "outputs": [],
      "source": [
        "df_empresas.to_csv('meu_arquivo.csv', index=False)"
      ]
    },
    {
      "cell_type": "markdown",
      "metadata": {
        "id": "SFJMdLjT30m_"
      },
      "source": [
        "# **MilkShake dos Dados** 🥤"
      ]
    },
    {
      "cell_type": "markdown",
      "metadata": {
        "id": "HYbfFpmN30m_"
      },
      "source": [
        "### Agenda"
      ]
    },
    {
      "cell_type": "markdown",
      "metadata": {
        "id": "Q-vubNCi30m_"
      },
      "source": [
        "*  Importar requests (interação com sites e APIs) e querido_diario_toolbox (utilitários do QD)\n",
        "*  Indentificar apenas os CNPJs dentre CNPJs, CEIs e CPFs\n",
        "*  Buscar CNPJs no Querido Diário\n",
        "*  Cruzar nossa base de dados com a da Receita Federal usando o Minha Receita"
      ]
    },
    {
      "cell_type": "markdown",
      "metadata": {
        "id": "thVPATbI30m_"
      },
      "source": [
        "### Imports"
      ]
    },
    {
      "cell_type": "code",
      "execution_count": null,
      "metadata": {
        "id": "g1hpkq0O30m_"
      },
      "outputs": [],
      "source": [
        "# Se não tiver o querido-diario-toolbox instalado (no Google Colab não tem), execute essa célula\n",
        "!apt-get install libmagic-dev\n",
        "!pip install --ignore-requires-python querido-diario-toolbox"
      ]
    },
    {
      "cell_type": "code",
      "execution_count": null,
      "metadata": {
        "id": "skJk0tjQLr-9"
      },
      "outputs": [],
      "source": [
        "import requests\n",
        "from querido_diario_toolbox.process.edition_process import is_valid_cnpj"
      ]
    },
    {
      "cell_type": "markdown",
      "metadata": {
        "id": "B-83a7bD30nA"
      },
      "source": [
        "### Identificando CNPJs"
      ]
    },
    {
      "cell_type": "code",
      "execution_count": null,
      "metadata": {
        "id": "eBqifx7H30nA"
      },
      "outputs": [],
      "source": [
        "df_empresas['CNPJ/CEI/CPF']"
      ]
    },
    {
      "cell_type": "code",
      "execution_count": null,
      "metadata": {
        "id": "HW_cCSnQ30nA"
      },
      "outputs": [],
      "source": [
        "# Observando o tipo da coluna\n",
        "df_empresas['CNPJ/CEI/CPF'].dtype"
      ]
    },
    {
      "cell_type": "code",
      "execution_count": null,
      "metadata": {
        "id": "VN8K29IQ30nA"
      },
      "outputs": [],
      "source": [
        "# A função de checar se é um CNPJ válido pede uma string (ou \"object\", como o pandas gosta de chamar)\n",
        "df_empresas['CNPJ/CEI/CPF'].apply(is_valid_cnpj)"
      ]
    },
    {
      "cell_type": "code",
      "execution_count": null,
      "metadata": {
        "id": "4ZbqNaY-30nA"
      },
      "outputs": [],
      "source": [
        "# Convertendo tipo da coluna\n",
        "df_empresas['CNPJ/CEI/CPF'] = df_empresas['CNPJ/CEI/CPF'].astype('str')\n",
        "df_empresas['CNPJ/CEI/CPF'].apply(is_valid_cnpj)"
      ]
    },
    {
      "cell_type": "code",
      "execution_count": null,
      "metadata": {
        "id": "yF3YQTgs30nA"
      },
      "outputs": [],
      "source": [
        "# Filtrando DataFrame apenas pelas linhas que tem empresas com CNPJ válido\n",
        "df_empresas = df_empresas[df_empresas['CNPJ/CEI/CPF'].apply(is_valid_cnpj)]"
      ]
    },
    {
      "cell_type": "markdown",
      "metadata": {
        "id": "Gts_6LLE30nA"
      },
      "source": [
        "### Buscando CNPJs no Querido Diário"
      ]
    },
    {
      "cell_type": "code",
      "execution_count": null,
      "metadata": {
        "id": "MW56L7Hg30nA"
      },
      "outputs": [],
      "source": [
        "# Selecionando linha específica\n",
        "df_empresas['CNPJ/CEI/CPF'].iloc[20]"
      ]
    },
    {
      "cell_type": "code",
      "execution_count": null,
      "metadata": {
        "id": "H7n1fCkI30nA"
      },
      "outputs": [],
      "source": [
        "# Inserindo código dentro de uma string com f-strings\n",
        "url = f\"https://queridodiario.ok.org.br/api/gazettes/?keywords={df_empresas['CNPJ/CEI/CPF'].iloc[20]}&size=10&fragment_size=1000&pre_tags=@@@&post_tags=@@@\"\n",
        "url"
      ]
    },
    {
      "cell_type": "code",
      "execution_count": null,
      "metadata": {
        "id": "sq1d9vrD30nB"
      },
      "outputs": [],
      "source": [
        "# Com requests, fica fácil fazer requisições para qualquer site na internet e assim podemos interagir com a API do QD\n",
        "response = requests.get(url)\n",
        "response.json()"
      ]
    },
    {
      "cell_type": "code",
      "execution_count": null,
      "metadata": {
        "id": "s_crGcIB30nB"
      },
      "outputs": [],
      "source": [
        "# Repetindo a busca no QD para todos os CNPJs\n",
        "ocorrencias = []\n",
        "for cnpj in df_empresas['CNPJ/CEI/CPF']:\n",
        "    url = f\"https://queridodiario.ok.org.br/api/gazettes/?keywords={cnpj}&size=10&fragment_size=1000\"\n",
        "    response_json = requests.get(url).json()\n",
        "    ocorrencia = {'cnpj': cnpj, 'n_ocorrencias': response_json['total_gazettes']}\n",
        "    ocorrencias.append(ocorrencia)\n",
        "\n",
        "# Criando um DataFrame a partir de uma lista de dicionários (ocorrencias)\n",
        "ocorrencias_por_cnpj = pd.DataFrame(ocorrencias)\n",
        "ocorrencias_por_cnpj"
      ]
    },
    {
      "cell_type": "code",
      "execution_count": null,
      "metadata": {
        "id": "0GcHgvvC30nB"
      },
      "outputs": [],
      "source": [
        "n_ocorrencias_positivo = ocorrencias_por_cnpj[ocorrencias_por_cnpj['n_ocorrencias'] > 0]\n",
        "n_ocorrencias_positivo"
      ]
    },
    {
      "cell_type": "code",
      "execution_count": null,
      "metadata": {
        "id": "b_2g91Ok30nB"
      },
      "outputs": [],
      "source": [
        "# Podemos excluir linhas duplicadas\n",
        "n_ocorrencias_positivo = n_ocorrencias_positivo.drop_duplicates()\n",
        "n_ocorrencias_positivo"
      ]
    },
    {
      "cell_type": "code",
      "execution_count": null,
      "metadata": {
        "id": "PV8O5M9h30nB"
      },
      "outputs": [],
      "source": [
        "# Também podemos visualizar em gráfico!\n",
        "n_ocorrencias_positivo.plot.barh(x='cnpj')"
      ]
    },
    {
      "cell_type": "code",
      "execution_count": null,
      "metadata": {
        "id": "cUgNOhx930nB"
      },
      "outputs": [],
      "source": [
        "n_ocorrencias_positivo['cnpj'].iloc[0]"
      ]
    },
    {
      "cell_type": "markdown",
      "metadata": {
        "id": "9uXQThNi30nB"
      },
      "source": [
        "### Cruzando dados com a RFB usando Minha Receita"
      ]
    },
    {
      "cell_type": "code",
      "execution_count": null,
      "metadata": {
        "id": "15M8pwCn30nB"
      },
      "outputs": [],
      "source": [
        "url = f\"https://minhareceita.org/{n_ocorrencias_positivo['cnpj'].iloc[0]}\"\n",
        "response = requests.get(url)\n",
        "response.json()"
      ]
    },
    {
      "cell_type": "code",
      "execution_count": null,
      "metadata": {
        "id": "NsEYeVn430nB"
      },
      "outputs": [],
      "source": [
        "cnpj_infos = []\n",
        "for cnpj in n_ocorrencias_positivo['cnpj']:\n",
        "    url = f\"https://minhareceita.org/{cnpj}\"\n",
        "    response_json = requests.get(url).json()\n",
        "    cnpj_infos.append(response_json)\n",
        "    \n",
        "cnpj_infos = pd.DataFrame(cnpj_infos)\n",
        "cnpj_infos"
      ]
    },
    {
      "cell_type": "code",
      "execution_count": null,
      "metadata": {
        "id": "UPNvv7zx30nB"
      },
      "outputs": [],
      "source": [
        "# Quando temos colunas com a mesma informação em dois DataFrames, podemos mesclá-los\n",
        "cnpj_infos = n_ocorrencias_positivo.merge(cnpj_infos, left_on='cnpj', right_on='cnpj')\n",
        "cnpj_infos"
      ]
    },
    {
      "cell_type": "code",
      "execution_count": null,
      "metadata": {
        "scrolled": true,
        "id": "DLwehywa30nC"
      },
      "outputs": [],
      "source": [
        "# E isso pode ser repetido até cruzarmos todas as informações que coletamos\n",
        "cnpj_infos.merge(df_empresas, left_on='cnpj', right_on='CNPJ/CEI/CPF')"
      ]
    }
  ],
  "metadata": {
    "colab": {
      "name": "oficina_codabr21.ipynb",
      "provenance": [],
      "include_colab_link": true
    },
    "kernelspec": {
      "display_name": "Python 3 (ipykernel)",
      "language": "python",
      "name": "python3"
    },
    "language_info": {
      "codemirror_mode": {
        "name": "ipython",
        "version": 3
      },
      "file_extension": ".py",
      "mimetype": "text/x-python",
      "name": "python",
      "nbconvert_exporter": "python",
      "pygments_lexer": "ipython3",
      "version": "3.9.7"
    }
  },
  "nbformat": 4,
  "nbformat_minor": 0
}