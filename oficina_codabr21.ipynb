{
  "cells": [
    {
      "cell_type": "markdown",
      "metadata": {
        "id": "view-in-github",
        "colab_type": "text"
      },
      "source": [
        "<a href=\"https://colab.research.google.com/github/JBdantas/oficina-codabr21/blob/main/oficina_codabr21.ipynb\" target=\"_parent\"><img src=\"https://colab.research.google.com/assets/colab-badge.svg\" alt=\"Open In Colab\"/></a>"
      ]
    },
    {
      "cell_type": "markdown",
      "metadata": {
        "id": "o3aw455X5MXf"
      },
      "source": [
        "# **Programação do zero a prática: Primeiros passos com Python** 🐍🎲🐼"
      ]
    },
    {
      "cell_type": "markdown",
      "metadata": {
        "id": "LSC0aDZy52SM"
      },
      "source": [
        "## Notebooks 💻"
      ]
    },
    {
      "cell_type": "markdown",
      "metadata": {
        "id": "Pknz2Rup56p2"
      },
      "source": [
        "\n",
        "\n",
        "*   O que são\n",
        "*   Como funcionam\n",
        "*   Mini tour pelos principais lugares\n",
        "*   Erros comuns:\n",
        "  *  Congelar a célula\n",
        "  *  Erro na célula\n",
        "\n"
      ]
    },
    {
      "cell_type": "markdown",
      "metadata": {
        "id": "PeH8HQvT2SuR"
      },
      "source": [
        "## Python, bem basiquinho 🐍"
      ]
    },
    {
      "cell_type": "markdown",
      "metadata": {
        "id": "AKh7duJomW_D"
      },
      "source": [
        "### Agenda"
      ]
    },
    {
      "cell_type": "markdown",
      "metadata": {
        "id": "6_sfJ0dH6fOL"
      },
      "source": [
        "*    O que é o Python\n",
        "*    Comentários\n",
        "*    Import\n",
        "  *  Zen do Python\n",
        "*    Tipos de dados\n",
        "  *  Type\n",
        "  *  String\n",
        "      *  Funções\n",
        "  *  Números \n",
        "  *  Booleanos\n",
        "*    Variável\n",
        "*    Método\n",
        "*    Função Print\n",
        "* Coleção de dados\n",
        "  *  Listas\n",
        "  * Dicionários\n",
        "* For\n",
        "* If e Else\n",
        "\n",
        "\n",
        "\n"
      ]
    },
    {
      "cell_type": "markdown",
      "metadata": {
        "id": "HLeQ3P_2mfQ5"
      },
      "source": [
        "### Import"
      ]
    },
    {
      "cell_type": "code",
      "execution_count": 1,
      "metadata": {
        "id": "l7SKQx7Y2qj2",
        "colab": {
          "base_uri": "https://localhost:8080/"
        },
        "outputId": "656e2411-8582-42f6-f481-16c6116b2f9e"
      },
      "outputs": [
        {
          "output_type": "stream",
          "name": "stdout",
          "text": [
            "The Zen of Python, by Tim Peters\n",
            "\n",
            "Beautiful is better than ugly.\n",
            "Explicit is better than implicit.\n",
            "Simple is better than complex.\n",
            "Complex is better than complicated.\n",
            "Flat is better than nested.\n",
            "Sparse is better than dense.\n",
            "Readability counts.\n",
            "Special cases aren't special enough to break the rules.\n",
            "Although practicality beats purity.\n",
            "Errors should never pass silently.\n",
            "Unless explicitly silenced.\n",
            "In the face of ambiguity, refuse the temptation to guess.\n",
            "There should be one-- and preferably only one --obvious way to do it.\n",
            "Although that way may not be obvious at first unless you're Dutch.\n",
            "Now is better than never.\n",
            "Although never is often better than *right* now.\n",
            "If the implementation is hard to explain, it's a bad idea.\n",
            "If the implementation is easy to explain, it may be a good idea.\n",
            "Namespaces are one honking great idea -- let's do more of those!\n"
          ]
        }
      ],
      "source": [
        "#Zen do Python\n",
        "import this"
      ]
    },
    {
      "cell_type": "markdown",
      "metadata": {
        "id": "q9HwlFviQFg3"
      },
      "source": [
        "### String"
      ]
    },
    {
      "cell_type": "code",
      "execution_count": 2,
      "metadata": {
        "id": "qJhRi0tCQX_8",
        "colab": {
          "base_uri": "https://localhost:8080/",
          "height": 36
        },
        "outputId": "7f4b7f1f-d99f-4a83-e81d-9cede0de6c4d"
      },
      "outputs": [
        {
          "output_type": "execute_result",
          "data": {
            "text/plain": [
              "'Olá Mundo'"
            ],
            "application/vnd.google.colaboratory.intrinsic+json": {
              "type": "string"
            }
          },
          "metadata": {},
          "execution_count": 2
        }
      ],
      "source": [
        "'Olá Mundo'"
      ]
    },
    {
      "cell_type": "code",
      "execution_count": 3,
      "metadata": {
        "id": "rJVt-fYuQdpk",
        "colab": {
          "base_uri": "https://localhost:8080/",
          "height": 36
        },
        "outputId": "7aedeb00-a000-4e3e-d19d-6f50b7014ab6"
      },
      "outputs": [
        {
          "output_type": "execute_result",
          "data": {
            "text/plain": [
              "'Olá, pessoal!'"
            ],
            "application/vnd.google.colaboratory.intrinsic+json": {
              "type": "string"
            }
          },
          "metadata": {},
          "execution_count": 3
        }
      ],
      "source": [
        "\"Olá, pessoal!\""
      ]
    },
    {
      "cell_type": "code",
      "execution_count": 5,
      "metadata": {
        "id": "M3zmmQNVSMJF",
        "colab": {
          "base_uri": "https://localhost:8080/",
          "height": 36
        },
        "outputId": "d9efc3b7-d5c0-4adc-a985-e78f3518c38f"
      },
      "outputs": [
        {
          "output_type": "execute_result",
          "data": {
            "text/plain": [
              "'Quinta-Feira'"
            ],
            "application/vnd.google.colaboratory.intrinsic+json": {
              "type": "string"
            }
          },
          "metadata": {},
          "execution_count": 5
        }
      ],
      "source": [
        "#concatenação\n",
        "'Quinta'+'-'+'Feira'"
      ]
    },
    {
      "cell_type": "code",
      "execution_count": 6,
      "metadata": {
        "id": "NfJXHnGRQ4_W",
        "colab": {
          "base_uri": "https://localhost:8080/"
        },
        "outputId": "62b23663-8e86-4642-8c0a-332b6fef6d99"
      },
      "outputs": [
        {
          "output_type": "execute_result",
          "data": {
            "text/plain": [
              "str"
            ]
          },
          "metadata": {},
          "execution_count": 6
        }
      ],
      "source": [
        "#Descobrir qual o tipo do dado/variavel\n",
        "type('Oie')"
      ]
    },
    {
      "cell_type": "code",
      "execution_count": null,
      "metadata": {
        "id": "dJSFtgMsSdgF"
      },
      "outputs": [],
      "source": [
        "#Qual a diferença?\n",
        "#2+3 / '2'+'3'\n",
        "#um é formula matematica, outro concatenação de str"
      ]
    },
    {
      "cell_type": "markdown",
      "metadata": {
        "id": "SnVrJqd7QWuw"
      },
      "source": [
        "### Números"
      ]
    },
    {
      "cell_type": "code",
      "execution_count": 7,
      "metadata": {
        "id": "nsEzGSFiR-LS",
        "colab": {
          "base_uri": "https://localhost:8080/"
        },
        "outputId": "e77a7c06-e1ea-4133-8cd9-212fda5e2ead"
      },
      "outputs": [
        {
          "output_type": "execute_result",
          "data": {
            "text/plain": [
              "int"
            ]
          },
          "metadata": {},
          "execution_count": 7
        }
      ],
      "source": [
        "#Inteiros\n",
        "type(21)"
      ]
    },
    {
      "cell_type": "code",
      "execution_count": 8,
      "metadata": {
        "id": "wHLUI1B9W-t6",
        "colab": {
          "base_uri": "https://localhost:8080/"
        },
        "outputId": "edbc7087-be71-40f6-e84d-c7b604e44cab"
      },
      "outputs": [
        {
          "output_type": "execute_result",
          "data": {
            "text/plain": [
              "float"
            ]
          },
          "metadata": {},
          "execution_count": 8
        }
      ],
      "source": [
        "type(21.2)"
      ]
    },
    {
      "cell_type": "markdown",
      "metadata": {
        "id": "jPJEVHVgXZOa"
      },
      "source": [
        "**Operações matemáticas**"
      ]
    },
    {
      "cell_type": "code",
      "execution_count": 9,
      "metadata": {
        "id": "o6RSlfBtXFJl",
        "colab": {
          "base_uri": "https://localhost:8080/"
        },
        "outputId": "5928057a-d628-4e24-ce4a-1f4d2daeca8b"
      },
      "outputs": [
        {
          "output_type": "execute_result",
          "data": {
            "text/plain": [
              "4"
            ]
          },
          "metadata": {},
          "execution_count": 9
        }
      ],
      "source": [
        "#Soma\n",
        "2 + 2"
      ]
    },
    {
      "cell_type": "code",
      "execution_count": 10,
      "metadata": {
        "id": "GNuSronLXidb",
        "colab": {
          "base_uri": "https://localhost:8080/"
        },
        "outputId": "41d945ee-c5a1-4e6f-a65a-698e1122d60b"
      },
      "outputs": [
        {
          "output_type": "execute_result",
          "data": {
            "text/plain": [
              "0"
            ]
          },
          "metadata": {},
          "execution_count": 10
        }
      ],
      "source": [
        "#Subtração\n",
        "2-2"
      ]
    },
    {
      "cell_type": "code",
      "execution_count": 11,
      "metadata": {
        "id": "DjxtY33_XpsS",
        "colab": {
          "base_uri": "https://localhost:8080/"
        },
        "outputId": "91331032-1b14-418b-f78c-0d7ec89f38dc"
      },
      "outputs": [
        {
          "output_type": "execute_result",
          "data": {
            "text/plain": [
              "1.0"
            ]
          },
          "metadata": {},
          "execution_count": 11
        }
      ],
      "source": [
        "#Divisão\n",
        "2/2"
      ]
    },
    {
      "cell_type": "code",
      "execution_count": 12,
      "metadata": {
        "id": "HjsSnH6HX2-N",
        "colab": {
          "base_uri": "https://localhost:8080/"
        },
        "outputId": "19ce5f75-d512-4ef5-84a3-489c8f0c63bd"
      },
      "outputs": [
        {
          "output_type": "execute_result",
          "data": {
            "text/plain": [
              "4"
            ]
          },
          "metadata": {},
          "execution_count": 12
        }
      ],
      "source": [
        "#Multiplicação\n",
        "2*2"
      ]
    },
    {
      "cell_type": "code",
      "execution_count": 13,
      "metadata": {
        "id": "TYQHlWb-X-k9",
        "colab": {
          "base_uri": "https://localhost:8080/"
        },
        "outputId": "ded2b82b-fa37-43b7-fb77-2bebaabc5d34"
      },
      "outputs": [
        {
          "output_type": "execute_result",
          "data": {
            "text/plain": [
              "4"
            ]
          },
          "metadata": {},
          "execution_count": 13
        }
      ],
      "source": [
        "#Potência\n",
        "2**2"
      ]
    },
    {
      "cell_type": "code",
      "execution_count": 14,
      "metadata": {
        "id": "I0Lysd_tYLyx",
        "colab": {
          "base_uri": "https://localhost:8080/"
        },
        "outputId": "86743b4e-8158-4187-fb0b-fef48bebf1f0"
      },
      "outputs": [
        {
          "output_type": "execute_result",
          "data": {
            "text/plain": [
              "4.0"
            ]
          },
          "metadata": {},
          "execution_count": 14
        }
      ],
      "source": [
        "#Qual o resultado?\n",
        "2+4/2"
      ]
    },
    {
      "cell_type": "markdown",
      "metadata": {
        "id": "lM6AMQZlY_Q9"
      },
      "source": [
        "### Booleano"
      ]
    },
    {
      "cell_type": "code",
      "execution_count": 15,
      "metadata": {
        "id": "qPNS9hNXZERE",
        "colab": {
          "base_uri": "https://localhost:8080/"
        },
        "outputId": "76031fd1-f7f0-4880-b52d-638bf7987af0"
      },
      "outputs": [
        {
          "output_type": "execute_result",
          "data": {
            "text/plain": [
              "bool"
            ]
          },
          "metadata": {},
          "execution_count": 15
        }
      ],
      "source": [
        "type(False)"
      ]
    },
    {
      "cell_type": "code",
      "execution_count": 16,
      "metadata": {
        "id": "G88_f0ICZUub",
        "colab": {
          "base_uri": "https://localhost:8080/"
        },
        "outputId": "3eef11db-889a-4a0d-b8ac-4344c4ba6714"
      },
      "outputs": [
        {
          "output_type": "execute_result",
          "data": {
            "text/plain": [
              "bool"
            ]
          },
          "metadata": {},
          "execution_count": 16
        }
      ],
      "source": [
        "type(True)"
      ]
    },
    {
      "cell_type": "markdown",
      "metadata": {
        "id": "gZR98mv7bn9z"
      },
      "source": [
        "### Variáveis"
      ]
    },
    {
      "cell_type": "code",
      "execution_count": 20,
      "metadata": {
        "id": "DKJ6WTF-bvUQ"
      },
      "outputs": [],
      "source": [
        "numero = 35"
      ]
    },
    {
      "cell_type": "code",
      "source": [
        "numero"
      ],
      "metadata": {
        "id": "S-S6fnDv-DeB",
        "outputId": "133450ee-584e-4e00-91b7-652cacb0189e",
        "colab": {
          "base_uri": "https://localhost:8080/"
        }
      },
      "execution_count": 21,
      "outputs": [
        {
          "output_type": "execute_result",
          "data": {
            "text/plain": [
              "35"
            ]
          },
          "metadata": {},
          "execution_count": 21
        }
      ]
    },
    {
      "cell_type": "markdown",
      "metadata": {
        "id": "7jfB1jfaZgVb"
      },
      "source": [
        "**Operadores lógicos**"
      ]
    },
    {
      "cell_type": "code",
      "execution_count": null,
      "metadata": {
        "id": "yWKjui3CcU7S"
      },
      "outputs": [],
      "source": [
        "#Comparação\n",
        "#numero == 34"
      ]
    },
    {
      "cell_type": "code",
      "execution_count": null,
      "metadata": {
        "id": "jXsexwB6dSNz"
      },
      "outputs": [],
      "source": [
        "#Diferente\n",
        "#numero != 15"
      ]
    },
    {
      "cell_type": "code",
      "execution_count": null,
      "metadata": {
        "id": "F2zOSRH3Zfrs"
      },
      "outputs": [],
      "source": [
        "#Maior que\n",
        "#2 > 4"
      ]
    },
    {
      "cell_type": "code",
      "execution_count": null,
      "metadata": {
        "id": "nURbtZWXZqlM"
      },
      "outputs": [],
      "source": [
        "#Menor que\n",
        "#2 < 4"
      ]
    },
    {
      "cell_type": "code",
      "execution_count": null,
      "metadata": {
        "id": "ym9Mp5ULbM6z"
      },
      "outputs": [],
      "source": [
        "#Maior igual\n",
        "#numero >= 8"
      ]
    },
    {
      "cell_type": "code",
      "execution_count": null,
      "metadata": {
        "id": "qOUidzyXbhyn"
      },
      "outputs": [],
      "source": [
        "#Menor igual\n",
        "#numero <= 100"
      ]
    },
    {
      "cell_type": "markdown",
      "metadata": {
        "id": "o2NEBmkGebuN"
      },
      "source": [
        "### Métodos"
      ]
    },
    {
      "cell_type": "code",
      "execution_count": 22,
      "metadata": {
        "id": "d3_H30ykfVYT"
      },
      "outputs": [],
      "source": [
        "minha_fruta =  'banana'"
      ]
    },
    {
      "cell_type": "code",
      "execution_count": 23,
      "metadata": {
        "id": "p9S85QiNfvFU",
        "colab": {
          "base_uri": "https://localhost:8080/",
          "height": 36
        },
        "outputId": "08781416-a7b7-48a0-b39b-0348a9fc40c2"
      },
      "outputs": [
        {
          "output_type": "execute_result",
          "data": {
            "text/plain": [
              "'BANANA'"
            ],
            "application/vnd.google.colaboratory.intrinsic+json": {
              "type": "string"
            }
          },
          "metadata": {},
          "execution_count": 23
        }
      ],
      "source": [
        "minha_fruta.upper()"
      ]
    },
    {
      "cell_type": "code",
      "execution_count": 24,
      "metadata": {
        "id": "XeRr27rKf21q",
        "colab": {
          "base_uri": "https://localhost:8080/",
          "height": 36
        },
        "outputId": "f47c89dc-c83f-49e5-f0cc-230684878265"
      },
      "outputs": [
        {
          "output_type": "execute_result",
          "data": {
            "text/plain": [
              "'banana'"
            ],
            "application/vnd.google.colaboratory.intrinsic+json": {
              "type": "string"
            }
          },
          "metadata": {},
          "execution_count": 24
        }
      ],
      "source": [
        "minha_fruta.lower()"
      ]
    },
    {
      "cell_type": "code",
      "execution_count": 26,
      "metadata": {
        "id": "jRagsc0xgNal",
        "colab": {
          "base_uri": "https://localhost:8080/"
        },
        "outputId": "59c8ca80-30f0-48f1-fe6e-2d5d2184f31d"
      },
      "outputs": [
        {
          "output_type": "execute_result",
          "data": {
            "text/plain": [
              "3"
            ]
          },
          "metadata": {},
          "execution_count": 26
        }
      ],
      "source": [
        "minha_fruta.count('a')"
      ]
    },
    {
      "cell_type": "code",
      "execution_count": 27,
      "metadata": {
        "colab": {
          "base_uri": "https://localhost:8080/",
          "height": 36
        },
        "id": "rDLhJB5YhQbM",
        "outputId": "1ea3a70c-0880-4477-ae2d-e32a9f61443c"
      },
      "outputs": [
        {
          "output_type": "execute_result",
          "data": {
            "text/plain": [
              "'água de coco'"
            ],
            "application/vnd.google.colaboratory.intrinsic+json": {
              "type": "string"
            }
          },
          "metadata": {},
          "execution_count": 27
        }
      ],
      "source": [
        "bebida = 'água de coco'\n",
        "bebida"
      ]
    },
    {
      "cell_type": "code",
      "execution_count": 28,
      "metadata": {
        "colab": {
          "base_uri": "https://localhost:8080/"
        },
        "id": "7_5n3qS9hiG0",
        "outputId": "c9c3abdd-7f0a-4f93-e52a-f9f29ebcd6f2"
      },
      "outputs": [
        {
          "output_type": "execute_result",
          "data": {
            "text/plain": [
              "['água', 'de', 'coco']"
            ]
          },
          "metadata": {},
          "execution_count": 28
        }
      ],
      "source": [
        "#Separar\n",
        "bebida.split()"
      ]
    },
    {
      "cell_type": "code",
      "execution_count": 29,
      "metadata": {
        "id": "BUooZvyyhrDl",
        "colab": {
          "base_uri": "https://localhost:8080/"
        },
        "outputId": "5733cdc9-c58b-4d94-8fe2-efc5bb21a1de"
      },
      "outputs": [
        {
          "output_type": "execute_result",
          "data": {
            "text/plain": [
              "['ÁGUA', 'DE', 'COCO']"
            ]
          },
          "metadata": {},
          "execution_count": 29
        }
      ],
      "source": [
        "#Métodos encandeados\n",
        "bebida.upper().split()"
      ]
    },
    {
      "cell_type": "code",
      "execution_count": 30,
      "metadata": {
        "id": "YJxZUz_OikVk",
        "colab": {
          "base_uri": "https://localhost:8080/"
        },
        "outputId": "0af005d4-b0d3-476a-c7ae-375c077c3edd"
      },
      "outputs": [
        {
          "output_type": "execute_result",
          "data": {
            "text/plain": [
              "['ÁGUA', 'DE', 'COCO']"
            ]
          },
          "metadata": {},
          "execution_count": 30
        }
      ],
      "source": [
        "#Mudanças na String\n",
        "bebida_grande = bebida.upper().split()\n",
        "bebida_grande"
      ]
    },
    {
      "cell_type": "markdown",
      "metadata": {
        "id": "AlWV8GmCjCnf"
      },
      "source": [
        "### Print"
      ]
    },
    {
      "cell_type": "code",
      "execution_count": 31,
      "metadata": {
        "id": "lcZ1NohJjFzE",
        "colab": {
          "base_uri": "https://localhost:8080/"
        },
        "outputId": "69321c89-50a8-4159-bbb6-55bd5ac1951a"
      },
      "outputs": [
        {
          "output_type": "stream",
          "name": "stdout",
          "text": [
            "bom dia\n"
          ]
        }
      ],
      "source": [
        "print('bom dia') "
      ]
    },
    {
      "cell_type": "code",
      "execution_count": 32,
      "metadata": {
        "id": "MVjRSuGljURo"
      },
      "outputs": [],
      "source": [
        "evento = 'Coda'"
      ]
    },
    {
      "cell_type": "code",
      "execution_count": 33,
      "metadata": {
        "id": "bwPdT2R8lkui",
        "colab": {
          "base_uri": "https://localhost:8080/"
        },
        "outputId": "d7beec52-25b0-4a7f-a197-123655d7f6e1"
      },
      "outputs": [
        {
          "output_type": "stream",
          "name": "stdout",
          "text": [
            "bom dia, Coda\n"
          ]
        }
      ],
      "source": [
        "print(f'bom dia, {evento}')"
      ]
    },
    {
      "cell_type": "markdown",
      "metadata": {
        "id": "VO4-8HRAsJOB"
      },
      "source": [
        "###Listas"
      ]
    },
    {
      "cell_type": "code",
      "execution_count": 34,
      "metadata": {
        "id": "jMoT_D-0sOIX"
      },
      "outputs": [],
      "source": [
        "frutas = ['pera', 'uva', 'maçã','laranja']"
      ]
    },
    {
      "cell_type": "code",
      "execution_count": 36,
      "metadata": {
        "id": "hEIy0voYskSz",
        "colab": {
          "base_uri": "https://localhost:8080/",
          "height": 36
        },
        "outputId": "62de175f-e880-47e3-f1e7-a3d25791b5f8"
      },
      "outputs": [
        {
          "output_type": "execute_result",
          "data": {
            "text/plain": [
              "'uva'"
            ],
            "application/vnd.google.colaboratory.intrinsic+json": {
              "type": "string"
            }
          },
          "metadata": {},
          "execution_count": 36
        }
      ],
      "source": [
        "#Pegar o segundo elemento\n",
        "frutas[1]"
      ]
    },
    {
      "cell_type": "code",
      "execution_count": 37,
      "metadata": {
        "id": "liMHYxC0ss9Q",
        "colab": {
          "base_uri": "https://localhost:8080/",
          "height": 36
        },
        "outputId": "1f0990d3-2df9-4405-8329-78e7c97270ab"
      },
      "outputs": [
        {
          "output_type": "execute_result",
          "data": {
            "text/plain": [
              "'laranja'"
            ],
            "application/vnd.google.colaboratory.intrinsic+json": {
              "type": "string"
            }
          },
          "metadata": {},
          "execution_count": 37
        }
      ],
      "source": [
        "#Pegar o último elemento\n",
        "frutas[-1]"
      ]
    },
    {
      "cell_type": "markdown",
      "metadata": {
        "id": "raHCbb2vuzkC"
      },
      "source": [
        "**Fatiamento de listas**"
      ]
    },
    {
      "cell_type": "code",
      "execution_count": 38,
      "metadata": {
        "id": "o9WJJ5kZs18X",
        "colab": {
          "base_uri": "https://localhost:8080/"
        },
        "outputId": "17522186-a4d1-42ae-a161-ed013f4ad64d"
      },
      "outputs": [
        {
          "output_type": "execute_result",
          "data": {
            "text/plain": [
              "['pera', 'uva']"
            ]
          },
          "metadata": {},
          "execution_count": 38
        }
      ],
      "source": [
        "frutas[0:2]"
      ]
    },
    {
      "cell_type": "code",
      "execution_count": 39,
      "metadata": {
        "id": "M4ncQU9ftIkz",
        "colab": {
          "base_uri": "https://localhost:8080/"
        },
        "outputId": "f100cd0b-fa56-4a00-883b-3f19701f3753"
      },
      "outputs": [
        {
          "output_type": "execute_result",
          "data": {
            "text/plain": [
              "['pera']"
            ]
          },
          "metadata": {},
          "execution_count": 39
        }
      ],
      "source": [
        "frutas[:1]"
      ]
    },
    {
      "cell_type": "code",
      "execution_count": 40,
      "metadata": {
        "id": "pzXVu8actZ5G",
        "colab": {
          "base_uri": "https://localhost:8080/"
        },
        "outputId": "06055cd5-ab6b-4176-e766-8d846ae13f9b"
      },
      "outputs": [
        {
          "output_type": "execute_result",
          "data": {
            "text/plain": [
              "['laranja']"
            ]
          },
          "metadata": {},
          "execution_count": 40
        }
      ],
      "source": [
        "frutas[3:]"
      ]
    },
    {
      "cell_type": "code",
      "execution_count": 43,
      "metadata": {
        "id": "_wOCunk5tsSs",
        "colab": {
          "base_uri": "https://localhost:8080/"
        },
        "outputId": "1350ad40-b373-4e5c-f512-620dc4fc875c"
      },
      "outputs": [
        {
          "output_type": "execute_result",
          "data": {
            "text/plain": [
              "5"
            ]
          },
          "metadata": {},
          "execution_count": 43
        }
      ],
      "source": [
        "#Tamanho de uma lista\n",
        "len(frutas)"
      ]
    },
    {
      "cell_type": "code",
      "execution_count": 42,
      "metadata": {
        "id": "0z1i5oLUtwhn"
      },
      "outputs": [],
      "source": [
        "#Incluir um item\n",
        "frutas.append('melancia')"
      ]
    },
    {
      "cell_type": "code",
      "source": [
        "frutas"
      ],
      "metadata": {
        "id": "wtKCaMY_EKLY",
        "outputId": "ff94f730-7871-4aa8-f06c-24ca902eb060",
        "colab": {
          "base_uri": "https://localhost:8080/"
        }
      },
      "execution_count": 44,
      "outputs": [
        {
          "output_type": "execute_result",
          "data": {
            "text/plain": [
              "['pera', 'uva', 'maçã', 'laranja', 'melancia']"
            ]
          },
          "metadata": {},
          "execution_count": 44
        }
      ]
    },
    {
      "cell_type": "code",
      "execution_count": 45,
      "metadata": {
        "id": "JaarEYrkt08f",
        "colab": {
          "base_uri": "https://localhost:8080/",
          "height": 36
        },
        "outputId": "86eb25a9-45f7-4ce0-9228-8f01186918d0"
      },
      "outputs": [
        {
          "output_type": "execute_result",
          "data": {
            "text/plain": [
              "'melancia'"
            ],
            "application/vnd.google.colaboratory.intrinsic+json": {
              "type": "string"
            }
          },
          "metadata": {},
          "execution_count": 45
        }
      ],
      "source": [
        "#Excluir um item\n",
        "frutas.pop()"
      ]
    },
    {
      "cell_type": "code",
      "source": [
        "frutas"
      ],
      "metadata": {
        "id": "dLbQvFb-EQsq",
        "outputId": "35f6cc80-418b-4786-a3f4-290fee1e8514",
        "colab": {
          "base_uri": "https://localhost:8080/"
        }
      },
      "execution_count": 46,
      "outputs": [
        {
          "output_type": "execute_result",
          "data": {
            "text/plain": [
              "['pera', 'uva', 'maçã', 'laranja']"
            ]
          },
          "metadata": {},
          "execution_count": 46
        }
      ]
    },
    {
      "cell_type": "markdown",
      "metadata": {
        "id": "je3NQKdRxlWD"
      },
      "source": [
        "###Dicionário"
      ]
    },
    {
      "cell_type": "code",
      "execution_count": 47,
      "metadata": {
        "id": "Z9DRA3uZt_33"
      },
      "outputs": [],
      "source": [
        "salada_de_frutas = {'ingredientes': frutas,\n",
        "                    'preparo':'corte tudo e misture',\n",
        "                    'tempo':60\n",
        "                    }\n"
      ]
    },
    {
      "cell_type": "code",
      "execution_count": 48,
      "metadata": {
        "id": "czfbnt0nyZfz",
        "colab": {
          "base_uri": "https://localhost:8080/"
        },
        "outputId": "7e37e16c-5e45-4b19-9053-9fdc40c3e652"
      },
      "outputs": [
        {
          "output_type": "execute_result",
          "data": {
            "text/plain": [
              "['pera', 'uva', 'maçã', 'laranja']"
            ]
          },
          "metadata": {},
          "execution_count": 48
        }
      ],
      "source": [
        "#pegar um item\n",
        "salada_de_frutas['ingredientes']"
      ]
    },
    {
      "cell_type": "code",
      "execution_count": 49,
      "metadata": {
        "id": "jJWLs4WnypPo"
      },
      "outputs": [],
      "source": [
        "#adicionar item \n",
        "salada_de_frutas['porções'] = 7"
      ]
    },
    {
      "cell_type": "code",
      "execution_count": 50,
      "metadata": {
        "id": "aw06ygBsyvqm"
      },
      "outputs": [],
      "source": [
        "#excluir item\n",
        "del salada_de_frutas['tempo']"
      ]
    },
    {
      "cell_type": "code",
      "source": [
        "salada_de_frutas"
      ],
      "metadata": {
        "id": "5djiw1NAG8Sg",
        "outputId": "4f9f9357-9863-4f76-be20-28ce4185af97",
        "colab": {
          "base_uri": "https://localhost:8080/"
        }
      },
      "execution_count": 54,
      "outputs": [
        {
          "output_type": "execute_result",
          "data": {
            "text/plain": [
              "{'ingredientes': ['pera', 'uva', 'maçã', 'laranja'],\n",
              " 'preparo': 'corte tudo e misture',\n",
              " 'porções': 7}"
            ]
          },
          "metadata": {},
          "execution_count": 54
        }
      ]
    },
    {
      "cell_type": "markdown",
      "metadata": {
        "id": "WCSgJGvdzbPY"
      },
      "source": [
        "### Estrutura de repetição `For`"
      ]
    },
    {
      "cell_type": "code",
      "execution_count": 51,
      "metadata": {
        "id": "4FdRAfc51jLo",
        "colab": {
          "base_uri": "https://localhost:8080/"
        },
        "outputId": "40cbef68-e8e4-402a-f1e3-5b1e8e457b62"
      },
      "outputs": [
        {
          "output_type": "stream",
          "name": "stdout",
          "text": [
            "pera\n",
            "uva\n",
            "maçã\n",
            "laranja\n"
          ]
        }
      ],
      "source": [
        "#iterando em listas\n",
        "for fruta in frutas:\n",
        "  print(fruta)"
      ]
    },
    {
      "cell_type": "code",
      "execution_count": 52,
      "metadata": {
        "id": "-A5IbDK_3BOp",
        "colab": {
          "base_uri": "https://localhost:8080/"
        },
        "outputId": "2bceead5-0631-4e43-aa59-f1b03950c7fc"
      },
      "outputs": [
        {
          "output_type": "stream",
          "name": "stdout",
          "text": [
            "ingredientes\n",
            "preparo\n",
            "porções\n"
          ]
        }
      ],
      "source": [
        "#Pegar as chaves do dicionário\n",
        "for chave in salada_de_frutas:\n",
        "  print(chave)"
      ]
    },
    {
      "cell_type": "code",
      "execution_count": 53,
      "metadata": {
        "id": "bkyqGJu43fDP",
        "colab": {
          "base_uri": "https://localhost:8080/"
        },
        "outputId": "6a63f2b3-1796-4e5c-f5a9-776eedcca500"
      },
      "outputs": [
        {
          "output_type": "stream",
          "name": "stdout",
          "text": [
            "['pera', 'uva', 'maçã', 'laranja']\n",
            "corte tudo e misture\n",
            "7\n"
          ]
        }
      ],
      "source": [
        "#Pegar valor das chaves no dicionário\n",
        "for chave in salada_de_frutas:\n",
        "  print(salada_de_frutas[chave])"
      ]
    },
    {
      "cell_type": "code",
      "execution_count": 55,
      "metadata": {
        "id": "QH_itNsA2Kh6",
        "colab": {
          "base_uri": "https://localhost:8080/"
        },
        "outputId": "930b8b3f-c721-4001-c6e9-539f13ad1f46"
      },
      "outputs": [
        {
          "output_type": "stream",
          "name": "stdout",
          "text": [
            "C\n",
            "o\n",
            "d\n",
            "a\n"
          ]
        }
      ],
      "source": [
        "#Iterando em elementos de uma string\n",
        "for letra in evento:\n",
        "  print(letra)"
      ]
    },
    {
      "cell_type": "markdown",
      "metadata": {
        "id": "F1o4dtZR2F9I"
      },
      "source": [
        "### Estrutura condicional `if`"
      ]
    },
    {
      "cell_type": "code",
      "execution_count": 56,
      "metadata": {
        "id": "1TOsBM274-7r",
        "colab": {
          "base_uri": "https://localhost:8080/"
        },
        "outputId": "b5fbc55b-aca1-4572-ee4e-4ffdccfcda50"
      },
      "outputs": [
        {
          "output_type": "stream",
          "name": "stdout",
          "text": [
            "É maior sim!\n"
          ]
        }
      ],
      "source": [
        "if 4 > 3:\n",
        "  print('É maior sim!')"
      ]
    },
    {
      "cell_type": "code",
      "execution_count": 57,
      "metadata": {
        "id": "qn0aSzyM5MpV",
        "colab": {
          "base_uri": "https://localhost:8080/"
        },
        "outputId": "a9a32622-458a-4797-e5d7-8e76205fde7d"
      },
      "outputs": [
        {
          "output_type": "stream",
          "name": "stdout",
          "text": [
            "Claro que não!\n"
          ]
        }
      ],
      "source": [
        "if 4 >= 7:\n",
        "  print('É maior sim!')\n",
        "else:\n",
        "  print('Claro que não!')"
      ]
    },
    {
      "cell_type": "code",
      "execution_count": 58,
      "metadata": {
        "id": "rDKJHAMb5fXq",
        "colab": {
          "base_uri": "https://localhost:8080/"
        },
        "outputId": "65f64ba6-6994-4637-bf34-afeb319ee126"
      },
      "outputs": [
        {
          "output_type": "stream",
          "name": "stdout",
          "text": [
            "sou jovem\n"
          ]
        }
      ],
      "source": [
        "idade = 21\n",
        "\n",
        "if idade > 30:\n",
        "  print('Sou adulto')\n",
        "elif idade > 19 & idade <= 30:\n",
        "  print('sou jovem')\n",
        "else:\n",
        "  print('sou adolas')\n",
        "\n"
      ]
    },
    {
      "cell_type": "markdown",
      "metadata": {
        "id": "xo7NFdsf0Id5"
      },
      "source": [
        "## Pandas 🐼🎲"
      ]
    },
    {
      "cell_type": "markdown",
      "metadata": {
        "id": "uTpW1Kil0Vlf"
      },
      "source": [
        "*  Importar o pandas\n",
        "*  Carga de dados\n",
        "*  Detalhando os dados\n",
        "*  Organizando os dados\n",
        "*  Filtrando os dados\n",
        "*  Agrupando e agregando\n",
        "*  Exportando "
      ]
    },
    {
      "cell_type": "markdown",
      "metadata": {
        "id": "wR2nJ5Rj7PpM"
      },
      "source": [
        "### Importar a `Biblioteca`"
      ]
    },
    {
      "cell_type": "code",
      "execution_count": 59,
      "metadata": {
        "id": "rWDNuStL41Te"
      },
      "outputs": [],
      "source": [
        "import pandas as pd"
      ]
    },
    {
      "cell_type": "markdown",
      "metadata": {
        "id": "87TxFyGU7Zm1"
      },
      "source": [
        "### Carga de dados"
      ]
    },
    {
      "cell_type": "code",
      "execution_count": 60,
      "metadata": {
        "id": "n36diWCK43nk"
      },
      "outputs": [],
      "source": [
        "df_empresas = pd.read_csv('https://raw.githubusercontent.com/anicelysantos/oficina-codabr21/main/empresas_trabalho_escravo.csv')"
      ]
    },
    {
      "cell_type": "markdown",
      "metadata": {
        "id": "tkqPwgdO9mmX"
      },
      "source": [
        "### Detalhando os dados"
      ]
    },
    {
      "cell_type": "code",
      "execution_count": 61,
      "metadata": {
        "id": "2lFuqije9lGb",
        "colab": {
          "base_uri": "https://localhost:8080/",
          "height": 598
        },
        "outputId": "e961b9b4-3b59-4357-f65b-6be34382b680"
      },
      "outputs": [
        {
          "output_type": "execute_result",
          "data": {
            "text/plain": [
              "    Ano  Operação                  Dia/Mês  UF                  Município  \\\n",
              "0  2010         1  19/01/2010 a 29/01/2010  GO      MONTE ALEGRE DE GOIÁS   \n",
              "1  2010         1  19/01/2010 a 29/01/2010  GO      MONTE ALEGRE DE GOIÁS   \n",
              "2  2010         1  19/01/2010 a 29/01/2010  TO                 NATIVIDADE   \n",
              "3  2010         2  26/01/2010 a 05/02/2010  PA                     MARABÁ   \n",
              "4  2010         3  27/01/2010 a 05/02/2010  PA  SANTA MARIA DAS BARREIRAS   \n",
              "5  2010         4  23/12/2010 a 29/01/2010  MG                   ARAGUARI   \n",
              "6  2010         5  23/02/2010 a 05/03/2010  PA      CONCEIÇÃO DO ARAGUAIA   \n",
              "7  2010         7  22/01/2010 a 18/02/2010  AC                 PORTO ACRE   \n",
              "8  2010         8  02/03/2010 a 08/03/2010  RO                PORTO VELHO   \n",
              "9  2010         9  03/03/2010 a 09/03/2010  RS                  BOM JESUS   \n",
              "\n",
              "      CNAE        Descrição CNAE                            Proprietário  \\\n",
              "0  0151201  CRIAÇÃO DE BOVINOS P                 THIAGO NEIVA HONORATO\\n   \n",
              "1  0151201  CRIAÇÃO DE BOVINOS P              RENIUTON SOUZA DE MORAES\\n   \n",
              "2  0151201  CRIAÇÃO DE BOVINOS P             EMIVAL RAMOS CAIADO FILHO\\n   \n",
              "3  0151202  CRIAÇÃO DE BOVINOS P                   HÉLIO DUARTE SOARES\\n   \n",
              "4  0151201  CRIAÇÃO DE BOVINOS P  CSM AGROPECUÁRIA S.A\\n(FAZENDA TARUMÃ)   \n",
              "5  0119999  CULTIVO DE OUTRAS PL            PEDRO EUSTÁQUIO PELLEGRINI\\n   \n",
              "6  0151201  CRIAÇÃO DE BOVINOS P               ANTÔNIO MARTINS RIBEIRO\\n   \n",
              "7  0151202  CRIAÇÃO DE BOVINOS P           ROQUE REIS BARREIROS JÚNIOR\\n   \n",
              "8  0151201  CRIAÇÃO DE BOVINOS P        JOÃO ALTAIR CAETANO DOS SANTOS\\n   \n",
              "9  0119903  CULTIVO DE BATATA-IN                    PAULO CEZAR SEGALA\\n   \n",
              "\n",
              "    CNPJ/CEI/CPF            Estabelecimento Inspecionado  \\\n",
              "0      330874152                       FAZENDA JOÃO LUIZ   \n",
              "1    24845256134                     FAZENDA OLHO D'ÁGUA   \n",
              "2     9655298191                    FAZENDA SANTA MÔNICA   \n",
              "3     4454931860                       FAZENDA BOA SORTE   \n",
              "4  5303431000221  CSM AGROPECUÁRIA S.A\\n(FAZENDA TARUMÃ)   \n",
              "5    35048328604                          FAZENDA CUNHAS   \n",
              "6    13521519104                       FAZENDA SÃO PEDRO   \n",
              "7    33954305291                        FAZENDA HARMONIA   \n",
              "8    36841323904                 FAZENDA RANCHO COLORADO   \n",
              "9    73466778034                    PAULO CEZAR SEGALA\\n   \n",
              "\n",
              "   Nº Trab. cond. analog escravo  \n",
              "0                              3  \n",
              "1                              5  \n",
              "2                             26  \n",
              "3                              2  \n",
              "4                             28  \n",
              "5                             14  \n",
              "6                              4  \n",
              "7                              8  \n",
              "8                              8  \n",
              "9                             24  "
            ],
            "text/html": [
              "\n",
              "  <div id=\"df-42ae1986-1ff4-423c-8b9f-b9a7d7cc166b\">\n",
              "    <div class=\"colab-df-container\">\n",
              "      <div>\n",
              "<style scoped>\n",
              "    .dataframe tbody tr th:only-of-type {\n",
              "        vertical-align: middle;\n",
              "    }\n",
              "\n",
              "    .dataframe tbody tr th {\n",
              "        vertical-align: top;\n",
              "    }\n",
              "\n",
              "    .dataframe thead th {\n",
              "        text-align: right;\n",
              "    }\n",
              "</style>\n",
              "<table border=\"1\" class=\"dataframe\">\n",
              "  <thead>\n",
              "    <tr style=\"text-align: right;\">\n",
              "      <th></th>\n",
              "      <th>Ano</th>\n",
              "      <th>Operação</th>\n",
              "      <th>Dia/Mês</th>\n",
              "      <th>UF</th>\n",
              "      <th>Município</th>\n",
              "      <th>CNAE</th>\n",
              "      <th>Descrição CNAE</th>\n",
              "      <th>Proprietário</th>\n",
              "      <th>CNPJ/CEI/CPF</th>\n",
              "      <th>Estabelecimento Inspecionado</th>\n",
              "      <th>Nº Trab. cond. analog escravo</th>\n",
              "    </tr>\n",
              "  </thead>\n",
              "  <tbody>\n",
              "    <tr>\n",
              "      <th>0</th>\n",
              "      <td>2010</td>\n",
              "      <td>1</td>\n",
              "      <td>19/01/2010 a 29/01/2010</td>\n",
              "      <td>GO</td>\n",
              "      <td>MONTE ALEGRE DE GOIÁS</td>\n",
              "      <td>0151201</td>\n",
              "      <td>CRIAÇÃO DE BOVINOS P</td>\n",
              "      <td>THIAGO NEIVA HONORATO\\n</td>\n",
              "      <td>330874152</td>\n",
              "      <td>FAZENDA JOÃO LUIZ</td>\n",
              "      <td>3</td>\n",
              "    </tr>\n",
              "    <tr>\n",
              "      <th>1</th>\n",
              "      <td>2010</td>\n",
              "      <td>1</td>\n",
              "      <td>19/01/2010 a 29/01/2010</td>\n",
              "      <td>GO</td>\n",
              "      <td>MONTE ALEGRE DE GOIÁS</td>\n",
              "      <td>0151201</td>\n",
              "      <td>CRIAÇÃO DE BOVINOS P</td>\n",
              "      <td>RENIUTON SOUZA DE MORAES\\n</td>\n",
              "      <td>24845256134</td>\n",
              "      <td>FAZENDA OLHO D'ÁGUA</td>\n",
              "      <td>5</td>\n",
              "    </tr>\n",
              "    <tr>\n",
              "      <th>2</th>\n",
              "      <td>2010</td>\n",
              "      <td>1</td>\n",
              "      <td>19/01/2010 a 29/01/2010</td>\n",
              "      <td>TO</td>\n",
              "      <td>NATIVIDADE</td>\n",
              "      <td>0151201</td>\n",
              "      <td>CRIAÇÃO DE BOVINOS P</td>\n",
              "      <td>EMIVAL RAMOS CAIADO FILHO\\n</td>\n",
              "      <td>9655298191</td>\n",
              "      <td>FAZENDA SANTA MÔNICA</td>\n",
              "      <td>26</td>\n",
              "    </tr>\n",
              "    <tr>\n",
              "      <th>3</th>\n",
              "      <td>2010</td>\n",
              "      <td>2</td>\n",
              "      <td>26/01/2010 a 05/02/2010</td>\n",
              "      <td>PA</td>\n",
              "      <td>MARABÁ</td>\n",
              "      <td>0151202</td>\n",
              "      <td>CRIAÇÃO DE BOVINOS P</td>\n",
              "      <td>HÉLIO DUARTE SOARES\\n</td>\n",
              "      <td>4454931860</td>\n",
              "      <td>FAZENDA BOA SORTE</td>\n",
              "      <td>2</td>\n",
              "    </tr>\n",
              "    <tr>\n",
              "      <th>4</th>\n",
              "      <td>2010</td>\n",
              "      <td>3</td>\n",
              "      <td>27/01/2010 a 05/02/2010</td>\n",
              "      <td>PA</td>\n",
              "      <td>SANTA MARIA DAS BARREIRAS</td>\n",
              "      <td>0151201</td>\n",
              "      <td>CRIAÇÃO DE BOVINOS P</td>\n",
              "      <td>CSM AGROPECUÁRIA S.A\\n(FAZENDA TARUMÃ)</td>\n",
              "      <td>5303431000221</td>\n",
              "      <td>CSM AGROPECUÁRIA S.A\\n(FAZENDA TARUMÃ)</td>\n",
              "      <td>28</td>\n",
              "    </tr>\n",
              "    <tr>\n",
              "      <th>5</th>\n",
              "      <td>2010</td>\n",
              "      <td>4</td>\n",
              "      <td>23/12/2010 a 29/01/2010</td>\n",
              "      <td>MG</td>\n",
              "      <td>ARAGUARI</td>\n",
              "      <td>0119999</td>\n",
              "      <td>CULTIVO DE OUTRAS PL</td>\n",
              "      <td>PEDRO EUSTÁQUIO PELLEGRINI\\n</td>\n",
              "      <td>35048328604</td>\n",
              "      <td>FAZENDA CUNHAS</td>\n",
              "      <td>14</td>\n",
              "    </tr>\n",
              "    <tr>\n",
              "      <th>6</th>\n",
              "      <td>2010</td>\n",
              "      <td>5</td>\n",
              "      <td>23/02/2010 a 05/03/2010</td>\n",
              "      <td>PA</td>\n",
              "      <td>CONCEIÇÃO DO ARAGUAIA</td>\n",
              "      <td>0151201</td>\n",
              "      <td>CRIAÇÃO DE BOVINOS P</td>\n",
              "      <td>ANTÔNIO MARTINS RIBEIRO\\n</td>\n",
              "      <td>13521519104</td>\n",
              "      <td>FAZENDA SÃO PEDRO</td>\n",
              "      <td>4</td>\n",
              "    </tr>\n",
              "    <tr>\n",
              "      <th>7</th>\n",
              "      <td>2010</td>\n",
              "      <td>7</td>\n",
              "      <td>22/01/2010 a 18/02/2010</td>\n",
              "      <td>AC</td>\n",
              "      <td>PORTO ACRE</td>\n",
              "      <td>0151202</td>\n",
              "      <td>CRIAÇÃO DE BOVINOS P</td>\n",
              "      <td>ROQUE REIS BARREIROS JÚNIOR\\n</td>\n",
              "      <td>33954305291</td>\n",
              "      <td>FAZENDA HARMONIA</td>\n",
              "      <td>8</td>\n",
              "    </tr>\n",
              "    <tr>\n",
              "      <th>8</th>\n",
              "      <td>2010</td>\n",
              "      <td>8</td>\n",
              "      <td>02/03/2010 a 08/03/2010</td>\n",
              "      <td>RO</td>\n",
              "      <td>PORTO VELHO</td>\n",
              "      <td>0151201</td>\n",
              "      <td>CRIAÇÃO DE BOVINOS P</td>\n",
              "      <td>JOÃO ALTAIR CAETANO DOS SANTOS\\n</td>\n",
              "      <td>36841323904</td>\n",
              "      <td>FAZENDA RANCHO COLORADO</td>\n",
              "      <td>8</td>\n",
              "    </tr>\n",
              "    <tr>\n",
              "      <th>9</th>\n",
              "      <td>2010</td>\n",
              "      <td>9</td>\n",
              "      <td>03/03/2010 a 09/03/2010</td>\n",
              "      <td>RS</td>\n",
              "      <td>BOM JESUS</td>\n",
              "      <td>0119903</td>\n",
              "      <td>CULTIVO DE BATATA-IN</td>\n",
              "      <td>PAULO CEZAR SEGALA\\n</td>\n",
              "      <td>73466778034</td>\n",
              "      <td>PAULO CEZAR SEGALA\\n</td>\n",
              "      <td>24</td>\n",
              "    </tr>\n",
              "  </tbody>\n",
              "</table>\n",
              "</div>\n",
              "      <button class=\"colab-df-convert\" onclick=\"convertToInteractive('df-42ae1986-1ff4-423c-8b9f-b9a7d7cc166b')\"\n",
              "              title=\"Convert this dataframe to an interactive table.\"\n",
              "              style=\"display:none;\">\n",
              "        \n",
              "  <svg xmlns=\"http://www.w3.org/2000/svg\" height=\"24px\"viewBox=\"0 0 24 24\"\n",
              "       width=\"24px\">\n",
              "    <path d=\"M0 0h24v24H0V0z\" fill=\"none\"/>\n",
              "    <path d=\"M18.56 5.44l.94 2.06.94-2.06 2.06-.94-2.06-.94-.94-2.06-.94 2.06-2.06.94zm-11 1L8.5 8.5l.94-2.06 2.06-.94-2.06-.94L8.5 2.5l-.94 2.06-2.06.94zm10 10l.94 2.06.94-2.06 2.06-.94-2.06-.94-.94-2.06-.94 2.06-2.06.94z\"/><path d=\"M17.41 7.96l-1.37-1.37c-.4-.4-.92-.59-1.43-.59-.52 0-1.04.2-1.43.59L10.3 9.45l-7.72 7.72c-.78.78-.78 2.05 0 2.83L4 21.41c.39.39.9.59 1.41.59.51 0 1.02-.2 1.41-.59l7.78-7.78 2.81-2.81c.8-.78.8-2.07 0-2.86zM5.41 20L4 18.59l7.72-7.72 1.47 1.35L5.41 20z\"/>\n",
              "  </svg>\n",
              "      </button>\n",
              "      \n",
              "  <style>\n",
              "    .colab-df-container {\n",
              "      display:flex;\n",
              "      flex-wrap:wrap;\n",
              "      gap: 12px;\n",
              "    }\n",
              "\n",
              "    .colab-df-convert {\n",
              "      background-color: #E8F0FE;\n",
              "      border: none;\n",
              "      border-radius: 50%;\n",
              "      cursor: pointer;\n",
              "      display: none;\n",
              "      fill: #1967D2;\n",
              "      height: 32px;\n",
              "      padding: 0 0 0 0;\n",
              "      width: 32px;\n",
              "    }\n",
              "\n",
              "    .colab-df-convert:hover {\n",
              "      background-color: #E2EBFA;\n",
              "      box-shadow: 0px 1px 2px rgba(60, 64, 67, 0.3), 0px 1px 3px 1px rgba(60, 64, 67, 0.15);\n",
              "      fill: #174EA6;\n",
              "    }\n",
              "\n",
              "    [theme=dark] .colab-df-convert {\n",
              "      background-color: #3B4455;\n",
              "      fill: #D2E3FC;\n",
              "    }\n",
              "\n",
              "    [theme=dark] .colab-df-convert:hover {\n",
              "      background-color: #434B5C;\n",
              "      box-shadow: 0px 1px 3px 1px rgba(0, 0, 0, 0.15);\n",
              "      filter: drop-shadow(0px 1px 2px rgba(0, 0, 0, 0.3));\n",
              "      fill: #FFFFFF;\n",
              "    }\n",
              "  </style>\n",
              "\n",
              "      <script>\n",
              "        const buttonEl =\n",
              "          document.querySelector('#df-42ae1986-1ff4-423c-8b9f-b9a7d7cc166b button.colab-df-convert');\n",
              "        buttonEl.style.display =\n",
              "          google.colab.kernel.accessAllowed ? 'block' : 'none';\n",
              "\n",
              "        async function convertToInteractive(key) {\n",
              "          const element = document.querySelector('#df-42ae1986-1ff4-423c-8b9f-b9a7d7cc166b');\n",
              "          const dataTable =\n",
              "            await google.colab.kernel.invokeFunction('convertToInteractive',\n",
              "                                                     [key], {});\n",
              "          if (!dataTable) return;\n",
              "\n",
              "          const docLinkHtml = 'Like what you see? Visit the ' +\n",
              "            '<a target=\"_blank\" href=https://colab.research.google.com/notebooks/data_table.ipynb>data table notebook</a>'\n",
              "            + ' to learn more about interactive tables.';\n",
              "          element.innerHTML = '';\n",
              "          dataTable['output_type'] = 'display_data';\n",
              "          await google.colab.output.renderOutput(dataTable, element);\n",
              "          const docLink = document.createElement('div');\n",
              "          docLink.innerHTML = docLinkHtml;\n",
              "          element.appendChild(docLink);\n",
              "        }\n",
              "      </script>\n",
              "    </div>\n",
              "  </div>\n",
              "  "
            ]
          },
          "metadata": {},
          "execution_count": 61
        }
      ],
      "source": [
        "df_empresas.head(10)"
      ]
    },
    {
      "cell_type": "code",
      "execution_count": 62,
      "metadata": {
        "id": "HcVqxZaO9vwB",
        "colab": {
          "base_uri": "https://localhost:8080/",
          "height": 257
        },
        "outputId": "41a6e8f3-4578-4c41-ffb9-25a61ce7a5e4"
      },
      "outputs": [
        {
          "output_type": "execute_result",
          "data": {
            "text/plain": [
              "       Ano  Operação                  Dia/Mês  UF      Município     CNAE  \\\n",
              "1097  2018        33  19/04/2018 a 27/04/2018  RR      BOA VISTA  4120400   \n",
              "1038  2017        82  11/09/2017 a 22/09/2017  MA  VARGEM GRANDE  0220999   \n",
              "1021  2017        57  03/07/2017 a 31/07/2017  MG          JAÍBA  0133402   \n",
              "\n",
              "            Descrição CNAE                     Proprietário  CNPJ/CEI/CPF  \\\n",
              "1097  CONSTRUÇÃO DE EDIFÍC        VICTOR HUGO CORRÊA MANSUR    1287046240   \n",
              "1038  COLETA DE PRODUTOS N         EDMILSON ARAGÃO DA CUNHA     178410381   \n",
              "1021     CULTIVO DE BANANA  GILBERTO FERREIRA DE SOUZA - ME    3769862635   \n",
              "\n",
              "                   Estabelecimento Inspecionado  Nº Trab. cond. analog escravo  \n",
              "1097            CANTEIRO DE OBRAS - RESIDENCIAL                              3  \n",
              "1038  CARNAUBAIS DA ZONA RURAL DE VARGEM GRANDE                              6  \n",
              "1021                          LOTES 10, 11 E 15                              1  "
            ],
            "text/html": [
              "\n",
              "  <div id=\"df-9eedbc56-1ba5-425f-b064-51229d17211d\">\n",
              "    <div class=\"colab-df-container\">\n",
              "      <div>\n",
              "<style scoped>\n",
              "    .dataframe tbody tr th:only-of-type {\n",
              "        vertical-align: middle;\n",
              "    }\n",
              "\n",
              "    .dataframe tbody tr th {\n",
              "        vertical-align: top;\n",
              "    }\n",
              "\n",
              "    .dataframe thead th {\n",
              "        text-align: right;\n",
              "    }\n",
              "</style>\n",
              "<table border=\"1\" class=\"dataframe\">\n",
              "  <thead>\n",
              "    <tr style=\"text-align: right;\">\n",
              "      <th></th>\n",
              "      <th>Ano</th>\n",
              "      <th>Operação</th>\n",
              "      <th>Dia/Mês</th>\n",
              "      <th>UF</th>\n",
              "      <th>Município</th>\n",
              "      <th>CNAE</th>\n",
              "      <th>Descrição CNAE</th>\n",
              "      <th>Proprietário</th>\n",
              "      <th>CNPJ/CEI/CPF</th>\n",
              "      <th>Estabelecimento Inspecionado</th>\n",
              "      <th>Nº Trab. cond. analog escravo</th>\n",
              "    </tr>\n",
              "  </thead>\n",
              "  <tbody>\n",
              "    <tr>\n",
              "      <th>1097</th>\n",
              "      <td>2018</td>\n",
              "      <td>33</td>\n",
              "      <td>19/04/2018 a 27/04/2018</td>\n",
              "      <td>RR</td>\n",
              "      <td>BOA VISTA</td>\n",
              "      <td>4120400</td>\n",
              "      <td>CONSTRUÇÃO DE EDIFÍC</td>\n",
              "      <td>VICTOR HUGO CORRÊA MANSUR</td>\n",
              "      <td>1287046240</td>\n",
              "      <td>CANTEIRO DE OBRAS - RESIDENCIAL</td>\n",
              "      <td>3</td>\n",
              "    </tr>\n",
              "    <tr>\n",
              "      <th>1038</th>\n",
              "      <td>2017</td>\n",
              "      <td>82</td>\n",
              "      <td>11/09/2017 a 22/09/2017</td>\n",
              "      <td>MA</td>\n",
              "      <td>VARGEM GRANDE</td>\n",
              "      <td>0220999</td>\n",
              "      <td>COLETA DE PRODUTOS N</td>\n",
              "      <td>EDMILSON ARAGÃO DA CUNHA</td>\n",
              "      <td>178410381</td>\n",
              "      <td>CARNAUBAIS DA ZONA RURAL DE VARGEM GRANDE</td>\n",
              "      <td>6</td>\n",
              "    </tr>\n",
              "    <tr>\n",
              "      <th>1021</th>\n",
              "      <td>2017</td>\n",
              "      <td>57</td>\n",
              "      <td>03/07/2017 a 31/07/2017</td>\n",
              "      <td>MG</td>\n",
              "      <td>JAÍBA</td>\n",
              "      <td>0133402</td>\n",
              "      <td>CULTIVO DE BANANA</td>\n",
              "      <td>GILBERTO FERREIRA DE SOUZA - ME</td>\n",
              "      <td>3769862635</td>\n",
              "      <td>LOTES 10, 11 E 15</td>\n",
              "      <td>1</td>\n",
              "    </tr>\n",
              "  </tbody>\n",
              "</table>\n",
              "</div>\n",
              "      <button class=\"colab-df-convert\" onclick=\"convertToInteractive('df-9eedbc56-1ba5-425f-b064-51229d17211d')\"\n",
              "              title=\"Convert this dataframe to an interactive table.\"\n",
              "              style=\"display:none;\">\n",
              "        \n",
              "  <svg xmlns=\"http://www.w3.org/2000/svg\" height=\"24px\"viewBox=\"0 0 24 24\"\n",
              "       width=\"24px\">\n",
              "    <path d=\"M0 0h24v24H0V0z\" fill=\"none\"/>\n",
              "    <path d=\"M18.56 5.44l.94 2.06.94-2.06 2.06-.94-2.06-.94-.94-2.06-.94 2.06-2.06.94zm-11 1L8.5 8.5l.94-2.06 2.06-.94-2.06-.94L8.5 2.5l-.94 2.06-2.06.94zm10 10l.94 2.06.94-2.06 2.06-.94-2.06-.94-.94-2.06-.94 2.06-2.06.94z\"/><path d=\"M17.41 7.96l-1.37-1.37c-.4-.4-.92-.59-1.43-.59-.52 0-1.04.2-1.43.59L10.3 9.45l-7.72 7.72c-.78.78-.78 2.05 0 2.83L4 21.41c.39.39.9.59 1.41.59.51 0 1.02-.2 1.41-.59l7.78-7.78 2.81-2.81c.8-.78.8-2.07 0-2.86zM5.41 20L4 18.59l7.72-7.72 1.47 1.35L5.41 20z\"/>\n",
              "  </svg>\n",
              "      </button>\n",
              "      \n",
              "  <style>\n",
              "    .colab-df-container {\n",
              "      display:flex;\n",
              "      flex-wrap:wrap;\n",
              "      gap: 12px;\n",
              "    }\n",
              "\n",
              "    .colab-df-convert {\n",
              "      background-color: #E8F0FE;\n",
              "      border: none;\n",
              "      border-radius: 50%;\n",
              "      cursor: pointer;\n",
              "      display: none;\n",
              "      fill: #1967D2;\n",
              "      height: 32px;\n",
              "      padding: 0 0 0 0;\n",
              "      width: 32px;\n",
              "    }\n",
              "\n",
              "    .colab-df-convert:hover {\n",
              "      background-color: #E2EBFA;\n",
              "      box-shadow: 0px 1px 2px rgba(60, 64, 67, 0.3), 0px 1px 3px 1px rgba(60, 64, 67, 0.15);\n",
              "      fill: #174EA6;\n",
              "    }\n",
              "\n",
              "    [theme=dark] .colab-df-convert {\n",
              "      background-color: #3B4455;\n",
              "      fill: #D2E3FC;\n",
              "    }\n",
              "\n",
              "    [theme=dark] .colab-df-convert:hover {\n",
              "      background-color: #434B5C;\n",
              "      box-shadow: 0px 1px 3px 1px rgba(0, 0, 0, 0.15);\n",
              "      filter: drop-shadow(0px 1px 2px rgba(0, 0, 0, 0.3));\n",
              "      fill: #FFFFFF;\n",
              "    }\n",
              "  </style>\n",
              "\n",
              "      <script>\n",
              "        const buttonEl =\n",
              "          document.querySelector('#df-9eedbc56-1ba5-425f-b064-51229d17211d button.colab-df-convert');\n",
              "        buttonEl.style.display =\n",
              "          google.colab.kernel.accessAllowed ? 'block' : 'none';\n",
              "\n",
              "        async function convertToInteractive(key) {\n",
              "          const element = document.querySelector('#df-9eedbc56-1ba5-425f-b064-51229d17211d');\n",
              "          const dataTable =\n",
              "            await google.colab.kernel.invokeFunction('convertToInteractive',\n",
              "                                                     [key], {});\n",
              "          if (!dataTable) return;\n",
              "\n",
              "          const docLinkHtml = 'Like what you see? Visit the ' +\n",
              "            '<a target=\"_blank\" href=https://colab.research.google.com/notebooks/data_table.ipynb>data table notebook</a>'\n",
              "            + ' to learn more about interactive tables.';\n",
              "          element.innerHTML = '';\n",
              "          dataTable['output_type'] = 'display_data';\n",
              "          await google.colab.output.renderOutput(dataTable, element);\n",
              "          const docLink = document.createElement('div');\n",
              "          docLink.innerHTML = docLinkHtml;\n",
              "          element.appendChild(docLink);\n",
              "        }\n",
              "      </script>\n",
              "    </div>\n",
              "  </div>\n",
              "  "
            ]
          },
          "metadata": {},
          "execution_count": 62
        }
      ],
      "source": [
        "df_empresas.sample(3)"
      ]
    },
    {
      "cell_type": "code",
      "execution_count": 63,
      "metadata": {
        "id": "P8MBZ68J915b",
        "colab": {
          "base_uri": "https://localhost:8080/",
          "height": 257
        },
        "outputId": "df63a4d2-b5a9-4c9b-9bfa-07a5e25c5ca5"
      },
      "outputs": [
        {
          "output_type": "execute_result",
          "data": {
            "text/plain": [
              "       Ano  Operação                  Dia/Mês  UF       Município     CNAE  \\\n",
              "1384  2020       189  01/12/2020 a 12/01/2021  PA  RONDON DO PARÁ  4671100   \n",
              "1385  2020       190  26/11/2020 a 15/12/2020  PI        PARNAÍBA  1529700   \n",
              "1386  2020       195  03/12/2020 a 13/01/2021  MS         NIOAQUE  0115600   \n",
              "\n",
              "            Descrição CNAE                                       Proprietário  \\\n",
              "1384  COMÉRCIO ATACADISTA   GUAMA COMÉRCIO DE COMPENSADOS E REPRESENTAÇÕES...   \n",
              "1385  FABRICAÇÃO DE ARTEFA                                     NR N SANTOS ME   \n",
              "1386       CULTIVO DE SOJA                           MAISA RODRIGUES DA COSTA   \n",
              "\n",
              "        CNPJ/CEI/CPF                       Estabelecimento Inspecionado  \\\n",
              "1384   8724077000205  FAZENDA MOREIRA, 4º31’16.4’’S – 48º15’03.2’’W,...   \n",
              "1385  63346605000159                                    CASA DOS COUROS   \n",
              "1386      1385847107                                      FAZENDA SALTO   \n",
              "\n",
              "      Nº Trab. cond. analog escravo  \n",
              "1384                             13  \n",
              "1385                              1  \n",
              "1386                             15  "
            ],
            "text/html": [
              "\n",
              "  <div id=\"df-806e69da-6b8e-46bc-a62e-2df7a6a9dcfb\">\n",
              "    <div class=\"colab-df-container\">\n",
              "      <div>\n",
              "<style scoped>\n",
              "    .dataframe tbody tr th:only-of-type {\n",
              "        vertical-align: middle;\n",
              "    }\n",
              "\n",
              "    .dataframe tbody tr th {\n",
              "        vertical-align: top;\n",
              "    }\n",
              "\n",
              "    .dataframe thead th {\n",
              "        text-align: right;\n",
              "    }\n",
              "</style>\n",
              "<table border=\"1\" class=\"dataframe\">\n",
              "  <thead>\n",
              "    <tr style=\"text-align: right;\">\n",
              "      <th></th>\n",
              "      <th>Ano</th>\n",
              "      <th>Operação</th>\n",
              "      <th>Dia/Mês</th>\n",
              "      <th>UF</th>\n",
              "      <th>Município</th>\n",
              "      <th>CNAE</th>\n",
              "      <th>Descrição CNAE</th>\n",
              "      <th>Proprietário</th>\n",
              "      <th>CNPJ/CEI/CPF</th>\n",
              "      <th>Estabelecimento Inspecionado</th>\n",
              "      <th>Nº Trab. cond. analog escravo</th>\n",
              "    </tr>\n",
              "  </thead>\n",
              "  <tbody>\n",
              "    <tr>\n",
              "      <th>1384</th>\n",
              "      <td>2020</td>\n",
              "      <td>189</td>\n",
              "      <td>01/12/2020 a 12/01/2021</td>\n",
              "      <td>PA</td>\n",
              "      <td>RONDON DO PARÁ</td>\n",
              "      <td>4671100</td>\n",
              "      <td>COMÉRCIO ATACADISTA</td>\n",
              "      <td>GUAMA COMÉRCIO DE COMPENSADOS E REPRESENTAÇÕES...</td>\n",
              "      <td>8724077000205</td>\n",
              "      <td>FAZENDA MOREIRA, 4º31’16.4’’S – 48º15’03.2’’W,...</td>\n",
              "      <td>13</td>\n",
              "    </tr>\n",
              "    <tr>\n",
              "      <th>1385</th>\n",
              "      <td>2020</td>\n",
              "      <td>190</td>\n",
              "      <td>26/11/2020 a 15/12/2020</td>\n",
              "      <td>PI</td>\n",
              "      <td>PARNAÍBA</td>\n",
              "      <td>1529700</td>\n",
              "      <td>FABRICAÇÃO DE ARTEFA</td>\n",
              "      <td>NR N SANTOS ME</td>\n",
              "      <td>63346605000159</td>\n",
              "      <td>CASA DOS COUROS</td>\n",
              "      <td>1</td>\n",
              "    </tr>\n",
              "    <tr>\n",
              "      <th>1386</th>\n",
              "      <td>2020</td>\n",
              "      <td>195</td>\n",
              "      <td>03/12/2020 a 13/01/2021</td>\n",
              "      <td>MS</td>\n",
              "      <td>NIOAQUE</td>\n",
              "      <td>0115600</td>\n",
              "      <td>CULTIVO DE SOJA</td>\n",
              "      <td>MAISA RODRIGUES DA COSTA</td>\n",
              "      <td>1385847107</td>\n",
              "      <td>FAZENDA SALTO</td>\n",
              "      <td>15</td>\n",
              "    </tr>\n",
              "  </tbody>\n",
              "</table>\n",
              "</div>\n",
              "      <button class=\"colab-df-convert\" onclick=\"convertToInteractive('df-806e69da-6b8e-46bc-a62e-2df7a6a9dcfb')\"\n",
              "              title=\"Convert this dataframe to an interactive table.\"\n",
              "              style=\"display:none;\">\n",
              "        \n",
              "  <svg xmlns=\"http://www.w3.org/2000/svg\" height=\"24px\"viewBox=\"0 0 24 24\"\n",
              "       width=\"24px\">\n",
              "    <path d=\"M0 0h24v24H0V0z\" fill=\"none\"/>\n",
              "    <path d=\"M18.56 5.44l.94 2.06.94-2.06 2.06-.94-2.06-.94-.94-2.06-.94 2.06-2.06.94zm-11 1L8.5 8.5l.94-2.06 2.06-.94-2.06-.94L8.5 2.5l-.94 2.06-2.06.94zm10 10l.94 2.06.94-2.06 2.06-.94-2.06-.94-.94-2.06-.94 2.06-2.06.94z\"/><path d=\"M17.41 7.96l-1.37-1.37c-.4-.4-.92-.59-1.43-.59-.52 0-1.04.2-1.43.59L10.3 9.45l-7.72 7.72c-.78.78-.78 2.05 0 2.83L4 21.41c.39.39.9.59 1.41.59.51 0 1.02-.2 1.41-.59l7.78-7.78 2.81-2.81c.8-.78.8-2.07 0-2.86zM5.41 20L4 18.59l7.72-7.72 1.47 1.35L5.41 20z\"/>\n",
              "  </svg>\n",
              "      </button>\n",
              "      \n",
              "  <style>\n",
              "    .colab-df-container {\n",
              "      display:flex;\n",
              "      flex-wrap:wrap;\n",
              "      gap: 12px;\n",
              "    }\n",
              "\n",
              "    .colab-df-convert {\n",
              "      background-color: #E8F0FE;\n",
              "      border: none;\n",
              "      border-radius: 50%;\n",
              "      cursor: pointer;\n",
              "      display: none;\n",
              "      fill: #1967D2;\n",
              "      height: 32px;\n",
              "      padding: 0 0 0 0;\n",
              "      width: 32px;\n",
              "    }\n",
              "\n",
              "    .colab-df-convert:hover {\n",
              "      background-color: #E2EBFA;\n",
              "      box-shadow: 0px 1px 2px rgba(60, 64, 67, 0.3), 0px 1px 3px 1px rgba(60, 64, 67, 0.15);\n",
              "      fill: #174EA6;\n",
              "    }\n",
              "\n",
              "    [theme=dark] .colab-df-convert {\n",
              "      background-color: #3B4455;\n",
              "      fill: #D2E3FC;\n",
              "    }\n",
              "\n",
              "    [theme=dark] .colab-df-convert:hover {\n",
              "      background-color: #434B5C;\n",
              "      box-shadow: 0px 1px 3px 1px rgba(0, 0, 0, 0.15);\n",
              "      filter: drop-shadow(0px 1px 2px rgba(0, 0, 0, 0.3));\n",
              "      fill: #FFFFFF;\n",
              "    }\n",
              "  </style>\n",
              "\n",
              "      <script>\n",
              "        const buttonEl =\n",
              "          document.querySelector('#df-806e69da-6b8e-46bc-a62e-2df7a6a9dcfb button.colab-df-convert');\n",
              "        buttonEl.style.display =\n",
              "          google.colab.kernel.accessAllowed ? 'block' : 'none';\n",
              "\n",
              "        async function convertToInteractive(key) {\n",
              "          const element = document.querySelector('#df-806e69da-6b8e-46bc-a62e-2df7a6a9dcfb');\n",
              "          const dataTable =\n",
              "            await google.colab.kernel.invokeFunction('convertToInteractive',\n",
              "                                                     [key], {});\n",
              "          if (!dataTable) return;\n",
              "\n",
              "          const docLinkHtml = 'Like what you see? Visit the ' +\n",
              "            '<a target=\"_blank\" href=https://colab.research.google.com/notebooks/data_table.ipynb>data table notebook</a>'\n",
              "            + ' to learn more about interactive tables.';\n",
              "          element.innerHTML = '';\n",
              "          dataTable['output_type'] = 'display_data';\n",
              "          await google.colab.output.renderOutput(dataTable, element);\n",
              "          const docLink = document.createElement('div');\n",
              "          docLink.innerHTML = docLinkHtml;\n",
              "          element.appendChild(docLink);\n",
              "        }\n",
              "      </script>\n",
              "    </div>\n",
              "  </div>\n",
              "  "
            ]
          },
          "metadata": {},
          "execution_count": 63
        }
      ],
      "source": [
        "df_empresas.tail(3)"
      ]
    },
    {
      "cell_type": "code",
      "execution_count": 64,
      "metadata": {
        "id": "-hHkp0ba-Fsi",
        "colab": {
          "base_uri": "https://localhost:8080/",
          "height": 300
        },
        "outputId": "60dfd317-db62-47f9-a175-4c4815125269"
      },
      "outputs": [
        {
          "output_type": "execute_result",
          "data": {
            "text/plain": [
              "               Ano     Operação  CNPJ/CEI/CPF  Nº Trab. cond. analog escravo\n",
              "count  1387.000000  1387.000000  1.387000e+03                    1387.000000\n",
              "mean   2014.268926    77.988464  6.471429e+12                      13.744773\n",
              "std       3.175335    49.190898  1.543392e+13                      26.791397\n",
              "min    2010.000000     1.000000  9.889597e+06                       1.000000\n",
              "25%    2011.000000    36.000000  1.608456e+10                       4.000000\n",
              "50%    2014.000000    73.000000  5.550614e+10                       7.000000\n",
              "75%    2017.000000   116.000000  5.626995e+12                      14.000000\n",
              "max    2020.000000   261.000000  9.702967e+13                     433.000000"
            ],
            "text/html": [
              "\n",
              "  <div id=\"df-f135548f-17ca-46d8-bc95-02bf0ba67f1c\">\n",
              "    <div class=\"colab-df-container\">\n",
              "      <div>\n",
              "<style scoped>\n",
              "    .dataframe tbody tr th:only-of-type {\n",
              "        vertical-align: middle;\n",
              "    }\n",
              "\n",
              "    .dataframe tbody tr th {\n",
              "        vertical-align: top;\n",
              "    }\n",
              "\n",
              "    .dataframe thead th {\n",
              "        text-align: right;\n",
              "    }\n",
              "</style>\n",
              "<table border=\"1\" class=\"dataframe\">\n",
              "  <thead>\n",
              "    <tr style=\"text-align: right;\">\n",
              "      <th></th>\n",
              "      <th>Ano</th>\n",
              "      <th>Operação</th>\n",
              "      <th>CNPJ/CEI/CPF</th>\n",
              "      <th>Nº Trab. cond. analog escravo</th>\n",
              "    </tr>\n",
              "  </thead>\n",
              "  <tbody>\n",
              "    <tr>\n",
              "      <th>count</th>\n",
              "      <td>1387.000000</td>\n",
              "      <td>1387.000000</td>\n",
              "      <td>1.387000e+03</td>\n",
              "      <td>1387.000000</td>\n",
              "    </tr>\n",
              "    <tr>\n",
              "      <th>mean</th>\n",
              "      <td>2014.268926</td>\n",
              "      <td>77.988464</td>\n",
              "      <td>6.471429e+12</td>\n",
              "      <td>13.744773</td>\n",
              "    </tr>\n",
              "    <tr>\n",
              "      <th>std</th>\n",
              "      <td>3.175335</td>\n",
              "      <td>49.190898</td>\n",
              "      <td>1.543392e+13</td>\n",
              "      <td>26.791397</td>\n",
              "    </tr>\n",
              "    <tr>\n",
              "      <th>min</th>\n",
              "      <td>2010.000000</td>\n",
              "      <td>1.000000</td>\n",
              "      <td>9.889597e+06</td>\n",
              "      <td>1.000000</td>\n",
              "    </tr>\n",
              "    <tr>\n",
              "      <th>25%</th>\n",
              "      <td>2011.000000</td>\n",
              "      <td>36.000000</td>\n",
              "      <td>1.608456e+10</td>\n",
              "      <td>4.000000</td>\n",
              "    </tr>\n",
              "    <tr>\n",
              "      <th>50%</th>\n",
              "      <td>2014.000000</td>\n",
              "      <td>73.000000</td>\n",
              "      <td>5.550614e+10</td>\n",
              "      <td>7.000000</td>\n",
              "    </tr>\n",
              "    <tr>\n",
              "      <th>75%</th>\n",
              "      <td>2017.000000</td>\n",
              "      <td>116.000000</td>\n",
              "      <td>5.626995e+12</td>\n",
              "      <td>14.000000</td>\n",
              "    </tr>\n",
              "    <tr>\n",
              "      <th>max</th>\n",
              "      <td>2020.000000</td>\n",
              "      <td>261.000000</td>\n",
              "      <td>9.702967e+13</td>\n",
              "      <td>433.000000</td>\n",
              "    </tr>\n",
              "  </tbody>\n",
              "</table>\n",
              "</div>\n",
              "      <button class=\"colab-df-convert\" onclick=\"convertToInteractive('df-f135548f-17ca-46d8-bc95-02bf0ba67f1c')\"\n",
              "              title=\"Convert this dataframe to an interactive table.\"\n",
              "              style=\"display:none;\">\n",
              "        \n",
              "  <svg xmlns=\"http://www.w3.org/2000/svg\" height=\"24px\"viewBox=\"0 0 24 24\"\n",
              "       width=\"24px\">\n",
              "    <path d=\"M0 0h24v24H0V0z\" fill=\"none\"/>\n",
              "    <path d=\"M18.56 5.44l.94 2.06.94-2.06 2.06-.94-2.06-.94-.94-2.06-.94 2.06-2.06.94zm-11 1L8.5 8.5l.94-2.06 2.06-.94-2.06-.94L8.5 2.5l-.94 2.06-2.06.94zm10 10l.94 2.06.94-2.06 2.06-.94-2.06-.94-.94-2.06-.94 2.06-2.06.94z\"/><path d=\"M17.41 7.96l-1.37-1.37c-.4-.4-.92-.59-1.43-.59-.52 0-1.04.2-1.43.59L10.3 9.45l-7.72 7.72c-.78.78-.78 2.05 0 2.83L4 21.41c.39.39.9.59 1.41.59.51 0 1.02-.2 1.41-.59l7.78-7.78 2.81-2.81c.8-.78.8-2.07 0-2.86zM5.41 20L4 18.59l7.72-7.72 1.47 1.35L5.41 20z\"/>\n",
              "  </svg>\n",
              "      </button>\n",
              "      \n",
              "  <style>\n",
              "    .colab-df-container {\n",
              "      display:flex;\n",
              "      flex-wrap:wrap;\n",
              "      gap: 12px;\n",
              "    }\n",
              "\n",
              "    .colab-df-convert {\n",
              "      background-color: #E8F0FE;\n",
              "      border: none;\n",
              "      border-radius: 50%;\n",
              "      cursor: pointer;\n",
              "      display: none;\n",
              "      fill: #1967D2;\n",
              "      height: 32px;\n",
              "      padding: 0 0 0 0;\n",
              "      width: 32px;\n",
              "    }\n",
              "\n",
              "    .colab-df-convert:hover {\n",
              "      background-color: #E2EBFA;\n",
              "      box-shadow: 0px 1px 2px rgba(60, 64, 67, 0.3), 0px 1px 3px 1px rgba(60, 64, 67, 0.15);\n",
              "      fill: #174EA6;\n",
              "    }\n",
              "\n",
              "    [theme=dark] .colab-df-convert {\n",
              "      background-color: #3B4455;\n",
              "      fill: #D2E3FC;\n",
              "    }\n",
              "\n",
              "    [theme=dark] .colab-df-convert:hover {\n",
              "      background-color: #434B5C;\n",
              "      box-shadow: 0px 1px 3px 1px rgba(0, 0, 0, 0.15);\n",
              "      filter: drop-shadow(0px 1px 2px rgba(0, 0, 0, 0.3));\n",
              "      fill: #FFFFFF;\n",
              "    }\n",
              "  </style>\n",
              "\n",
              "      <script>\n",
              "        const buttonEl =\n",
              "          document.querySelector('#df-f135548f-17ca-46d8-bc95-02bf0ba67f1c button.colab-df-convert');\n",
              "        buttonEl.style.display =\n",
              "          google.colab.kernel.accessAllowed ? 'block' : 'none';\n",
              "\n",
              "        async function convertToInteractive(key) {\n",
              "          const element = document.querySelector('#df-f135548f-17ca-46d8-bc95-02bf0ba67f1c');\n",
              "          const dataTable =\n",
              "            await google.colab.kernel.invokeFunction('convertToInteractive',\n",
              "                                                     [key], {});\n",
              "          if (!dataTable) return;\n",
              "\n",
              "          const docLinkHtml = 'Like what you see? Visit the ' +\n",
              "            '<a target=\"_blank\" href=https://colab.research.google.com/notebooks/data_table.ipynb>data table notebook</a>'\n",
              "            + ' to learn more about interactive tables.';\n",
              "          element.innerHTML = '';\n",
              "          dataTable['output_type'] = 'display_data';\n",
              "          await google.colab.output.renderOutput(dataTable, element);\n",
              "          const docLink = document.createElement('div');\n",
              "          docLink.innerHTML = docLinkHtml;\n",
              "          element.appendChild(docLink);\n",
              "        }\n",
              "      </script>\n",
              "    </div>\n",
              "  </div>\n",
              "  "
            ]
          },
          "metadata": {},
          "execution_count": 64
        }
      ],
      "source": [
        "#resumo estatístico\n",
        "df_empresas.describe()"
      ]
    },
    {
      "cell_type": "code",
      "execution_count": 65,
      "metadata": {
        "id": "Y0Dszx3m-RjJ",
        "colab": {
          "base_uri": "https://localhost:8080/"
        },
        "outputId": "99b5f924-6d7a-460f-a847-e535ebc6a7da"
      },
      "outputs": [
        {
          "output_type": "execute_result",
          "data": {
            "text/plain": [
              "(1387, 11)"
            ]
          },
          "metadata": {},
          "execution_count": 65
        }
      ],
      "source": [
        "#Quantidade de linhas e colunas\n",
        "df_empresas.shape"
      ]
    },
    {
      "cell_type": "code",
      "execution_count": 66,
      "metadata": {
        "id": "9EBTXADx-nZb",
        "colab": {
          "base_uri": "https://localhost:8080/"
        },
        "outputId": "e0fdd1d4-5c5a-4d38-ca53-986b47baea95"
      },
      "outputs": [
        {
          "output_type": "execute_result",
          "data": {
            "text/plain": [
              "Ano                               int64\n",
              "Operação                          int64\n",
              "Dia/Mês                          object\n",
              "UF                               object\n",
              "Município                        object\n",
              "CNAE                             object\n",
              "Descrição CNAE                   object\n",
              "Proprietário                     object\n",
              "CNPJ/CEI/CPF                      int64\n",
              "Estabelecimento Inspecionado     object\n",
              "Nº Trab. cond. analog escravo     int64\n",
              "dtype: object"
            ]
          },
          "metadata": {},
          "execution_count": 66
        }
      ],
      "source": [
        "#Nome das colunas e tipos de dados\n",
        "df_empresas.dtypes"
      ]
    },
    {
      "cell_type": "code",
      "execution_count": 67,
      "metadata": {
        "id": "SN5JhRCV-1QY",
        "colab": {
          "base_uri": "https://localhost:8080/"
        },
        "outputId": "907c2804-fbc2-4cbe-ed51-ec76a108a6c7"
      },
      "outputs": [
        {
          "output_type": "execute_result",
          "data": {
            "text/plain": [
              "Index(['Ano', 'Operação', 'Dia/Mês', 'UF', 'Município', 'CNAE',\n",
              "       'Descrição CNAE', 'Proprietário', 'CNPJ/CEI/CPF',\n",
              "       'Estabelecimento Inspecionado', 'Nº Trab. cond. analog escravo'],\n",
              "      dtype='object')"
            ]
          },
          "metadata": {},
          "execution_count": 67
        }
      ],
      "source": [
        "#Nome das colunas\n",
        "df_empresas.columns"
      ]
    },
    {
      "cell_type": "markdown",
      "metadata": {
        "id": "yfOIgKuT0zea"
      },
      "source": [
        "### Organizando os dados"
      ]
    },
    {
      "cell_type": "code",
      "execution_count": 68,
      "metadata": {
        "id": "-NlClOYp04bF",
        "colab": {
          "base_uri": "https://localhost:8080/",
          "height": 658
        },
        "outputId": "06a84556-e40c-412f-d151-3b9cbbb01f32"
      },
      "outputs": [
        {
          "output_type": "execute_result",
          "data": {
            "text/plain": [
              "      Ano  Operação                  Dia/Mês  UF               Município  \\\n",
              "789  2014       145  18/11/2014 a 19/12/2014  AC              RIO BRANCO   \n",
              "685  2014        21  11/03/2014 a 21/03/2014  AC          SENA MADUREIRA   \n",
              "698  2014        33  29/07/2014 a 08/08/2014  AC                TARAUACÁ   \n",
              "726  2014        67  22/04/2014 a 17/07/2014  AC              RIO BRANCO   \n",
              "921  2016        22  29/03/2016 a 08/04/2016  AC              RIO BRANCO   \n",
              "..    ...       ...                      ...  ..                     ...   \n",
              "399  2012        37  09/04/2012 a 27/04/2012  TO              DIANÓPOLIS   \n",
              "400  2012        37  09/04/2012 a 27/04/2012  TO      PRESIDENTE KENNEDY   \n",
              "401  2012        37  09/04/2012 a 27/04/2012  TO            CRISTALÂNDIA   \n",
              "205  2011        38  02/02/2011 a 15/03/2011  TO  CONCEIÇÃO DO TOCANTINS   \n",
              "841  2015        74  17/11/2015 a 27/11/2015  TO          BERNARDO SAYÃO   \n",
              "\n",
              "        CNAE        Descrição CNAE                       Proprietário  \\\n",
              "789  0151201  CRIAÇÃO DE BOVINOS P         FELIPE JOEL VERAS PINHEIRO   \n",
              "685  1092900  FABRICAÇÃO DE BISCOI  MIRAGINA S/A INDÚSTRIA E COMÉRCIO   \n",
              "698  0151201  CRIAÇÃO DE BOVINOS P       JOSÉ TELES DE OLIVEIRA FILHO   \n",
              "726  0151201  CRIAÇÃO DE BOVINOS P             AMANDIO CELESTINO COGO   \n",
              "921  0151201  CRIAÇÃO DE BOVINOS P                 LEANDRO LUIS LEITE   \n",
              "..       ...                   ...                                ...   \n",
              "399  0220902  PRODUÇÃO DE CARVÃO V             CLÁUDIO ROBERTO MARTIN   \n",
              "400  0220902  PRODUÇÃO DE CARVÃO V       CARVOARIA CARVÃO NATIVO LTDA   \n",
              "401  0220902  PRODUÇÃO DE CARVÃO V          SÉRGIO ANTÔNIO NASCIMENTO   \n",
              "205  0210108  PRODUÇÃO DE CARVÃO V         GERALDO OTAVIANO MENDES -    \n",
              "841  0151201  CRIAÇÃO DE BOVINOS P      AGROPECUÁRIA TERRA GRANDE S/A   \n",
              "\n",
              "       CNPJ/CEI/CPF                Estabelecimento Inspecionado  \\\n",
              "789     86784552253  ARRENDAMENTO DA FAZENDA ESTANCIA GUANABARA   \n",
              "685   4063681000198                          FAZENDA MIRAGINA I   \n",
              "698     62069268268                        FAZENDA PORTO ALEGRE   \n",
              "726     12029939900        ARRENDAMENTO DA FAZENDA PERSEVERANÇA   \n",
              "921      9817623874                     FAZENDA CORREGO DO OURO   \n",
              "..              ...                                         ...   \n",
              "399      4689364915                        FAZENDA MORADA VERDE   \n",
              "400  14227279000155                     FAZENDA SÃO CRISTÓVÃO I   \n",
              "401     19978294600                            FAZENDA SCALA II   \n",
              "205     90929829620                          CARVOARIA TEIXEIRA   \n",
              "841   1432186000110               AGROPECUÁRIA TERRA GRANDE S/A   \n",
              "\n",
              "     Nº Trab. cond. analog escravo  \n",
              "789                             15  \n",
              "685                              1  \n",
              "698                             55  \n",
              "726                              3  \n",
              "921                              7  \n",
              "..                             ...  \n",
              "399                              9  \n",
              "400                             13  \n",
              "401                              7  \n",
              "205                              6  \n",
              "841                             15  \n",
              "\n",
              "[1387 rows x 11 columns]"
            ],
            "text/html": [
              "\n",
              "  <div id=\"df-3879f583-b0b8-4a54-8a2d-570d39527c66\">\n",
              "    <div class=\"colab-df-container\">\n",
              "      <div>\n",
              "<style scoped>\n",
              "    .dataframe tbody tr th:only-of-type {\n",
              "        vertical-align: middle;\n",
              "    }\n",
              "\n",
              "    .dataframe tbody tr th {\n",
              "        vertical-align: top;\n",
              "    }\n",
              "\n",
              "    .dataframe thead th {\n",
              "        text-align: right;\n",
              "    }\n",
              "</style>\n",
              "<table border=\"1\" class=\"dataframe\">\n",
              "  <thead>\n",
              "    <tr style=\"text-align: right;\">\n",
              "      <th></th>\n",
              "      <th>Ano</th>\n",
              "      <th>Operação</th>\n",
              "      <th>Dia/Mês</th>\n",
              "      <th>UF</th>\n",
              "      <th>Município</th>\n",
              "      <th>CNAE</th>\n",
              "      <th>Descrição CNAE</th>\n",
              "      <th>Proprietário</th>\n",
              "      <th>CNPJ/CEI/CPF</th>\n",
              "      <th>Estabelecimento Inspecionado</th>\n",
              "      <th>Nº Trab. cond. analog escravo</th>\n",
              "    </tr>\n",
              "  </thead>\n",
              "  <tbody>\n",
              "    <tr>\n",
              "      <th>789</th>\n",
              "      <td>2014</td>\n",
              "      <td>145</td>\n",
              "      <td>18/11/2014 a 19/12/2014</td>\n",
              "      <td>AC</td>\n",
              "      <td>RIO BRANCO</td>\n",
              "      <td>0151201</td>\n",
              "      <td>CRIAÇÃO DE BOVINOS P</td>\n",
              "      <td>FELIPE JOEL VERAS PINHEIRO</td>\n",
              "      <td>86784552253</td>\n",
              "      <td>ARRENDAMENTO DA FAZENDA ESTANCIA GUANABARA</td>\n",
              "      <td>15</td>\n",
              "    </tr>\n",
              "    <tr>\n",
              "      <th>685</th>\n",
              "      <td>2014</td>\n",
              "      <td>21</td>\n",
              "      <td>11/03/2014 a 21/03/2014</td>\n",
              "      <td>AC</td>\n",
              "      <td>SENA MADUREIRA</td>\n",
              "      <td>1092900</td>\n",
              "      <td>FABRICAÇÃO DE BISCOI</td>\n",
              "      <td>MIRAGINA S/A INDÚSTRIA E COMÉRCIO</td>\n",
              "      <td>4063681000198</td>\n",
              "      <td>FAZENDA MIRAGINA I</td>\n",
              "      <td>1</td>\n",
              "    </tr>\n",
              "    <tr>\n",
              "      <th>698</th>\n",
              "      <td>2014</td>\n",
              "      <td>33</td>\n",
              "      <td>29/07/2014 a 08/08/2014</td>\n",
              "      <td>AC</td>\n",
              "      <td>TARAUACÁ</td>\n",
              "      <td>0151201</td>\n",
              "      <td>CRIAÇÃO DE BOVINOS P</td>\n",
              "      <td>JOSÉ TELES DE OLIVEIRA FILHO</td>\n",
              "      <td>62069268268</td>\n",
              "      <td>FAZENDA PORTO ALEGRE</td>\n",
              "      <td>55</td>\n",
              "    </tr>\n",
              "    <tr>\n",
              "      <th>726</th>\n",
              "      <td>2014</td>\n",
              "      <td>67</td>\n",
              "      <td>22/04/2014 a 17/07/2014</td>\n",
              "      <td>AC</td>\n",
              "      <td>RIO BRANCO</td>\n",
              "      <td>0151201</td>\n",
              "      <td>CRIAÇÃO DE BOVINOS P</td>\n",
              "      <td>AMANDIO CELESTINO COGO</td>\n",
              "      <td>12029939900</td>\n",
              "      <td>ARRENDAMENTO DA FAZENDA PERSEVERANÇA</td>\n",
              "      <td>3</td>\n",
              "    </tr>\n",
              "    <tr>\n",
              "      <th>921</th>\n",
              "      <td>2016</td>\n",
              "      <td>22</td>\n",
              "      <td>29/03/2016 a 08/04/2016</td>\n",
              "      <td>AC</td>\n",
              "      <td>RIO BRANCO</td>\n",
              "      <td>0151201</td>\n",
              "      <td>CRIAÇÃO DE BOVINOS P</td>\n",
              "      <td>LEANDRO LUIS LEITE</td>\n",
              "      <td>9817623874</td>\n",
              "      <td>FAZENDA CORREGO DO OURO</td>\n",
              "      <td>7</td>\n",
              "    </tr>\n",
              "    <tr>\n",
              "      <th>...</th>\n",
              "      <td>...</td>\n",
              "      <td>...</td>\n",
              "      <td>...</td>\n",
              "      <td>...</td>\n",
              "      <td>...</td>\n",
              "      <td>...</td>\n",
              "      <td>...</td>\n",
              "      <td>...</td>\n",
              "      <td>...</td>\n",
              "      <td>...</td>\n",
              "      <td>...</td>\n",
              "    </tr>\n",
              "    <tr>\n",
              "      <th>399</th>\n",
              "      <td>2012</td>\n",
              "      <td>37</td>\n",
              "      <td>09/04/2012 a 27/04/2012</td>\n",
              "      <td>TO</td>\n",
              "      <td>DIANÓPOLIS</td>\n",
              "      <td>0220902</td>\n",
              "      <td>PRODUÇÃO DE CARVÃO V</td>\n",
              "      <td>CLÁUDIO ROBERTO MARTIN</td>\n",
              "      <td>4689364915</td>\n",
              "      <td>FAZENDA MORADA VERDE</td>\n",
              "      <td>9</td>\n",
              "    </tr>\n",
              "    <tr>\n",
              "      <th>400</th>\n",
              "      <td>2012</td>\n",
              "      <td>37</td>\n",
              "      <td>09/04/2012 a 27/04/2012</td>\n",
              "      <td>TO</td>\n",
              "      <td>PRESIDENTE KENNEDY</td>\n",
              "      <td>0220902</td>\n",
              "      <td>PRODUÇÃO DE CARVÃO V</td>\n",
              "      <td>CARVOARIA CARVÃO NATIVO LTDA</td>\n",
              "      <td>14227279000155</td>\n",
              "      <td>FAZENDA SÃO CRISTÓVÃO I</td>\n",
              "      <td>13</td>\n",
              "    </tr>\n",
              "    <tr>\n",
              "      <th>401</th>\n",
              "      <td>2012</td>\n",
              "      <td>37</td>\n",
              "      <td>09/04/2012 a 27/04/2012</td>\n",
              "      <td>TO</td>\n",
              "      <td>CRISTALÂNDIA</td>\n",
              "      <td>0220902</td>\n",
              "      <td>PRODUÇÃO DE CARVÃO V</td>\n",
              "      <td>SÉRGIO ANTÔNIO NASCIMENTO</td>\n",
              "      <td>19978294600</td>\n",
              "      <td>FAZENDA SCALA II</td>\n",
              "      <td>7</td>\n",
              "    </tr>\n",
              "    <tr>\n",
              "      <th>205</th>\n",
              "      <td>2011</td>\n",
              "      <td>38</td>\n",
              "      <td>02/02/2011 a 15/03/2011</td>\n",
              "      <td>TO</td>\n",
              "      <td>CONCEIÇÃO DO TOCANTINS</td>\n",
              "      <td>0210108</td>\n",
              "      <td>PRODUÇÃO DE CARVÃO V</td>\n",
              "      <td>GERALDO OTAVIANO MENDES -</td>\n",
              "      <td>90929829620</td>\n",
              "      <td>CARVOARIA TEIXEIRA</td>\n",
              "      <td>6</td>\n",
              "    </tr>\n",
              "    <tr>\n",
              "      <th>841</th>\n",
              "      <td>2015</td>\n",
              "      <td>74</td>\n",
              "      <td>17/11/2015 a 27/11/2015</td>\n",
              "      <td>TO</td>\n",
              "      <td>BERNARDO SAYÃO</td>\n",
              "      <td>0151201</td>\n",
              "      <td>CRIAÇÃO DE BOVINOS P</td>\n",
              "      <td>AGROPECUÁRIA TERRA GRANDE S/A</td>\n",
              "      <td>1432186000110</td>\n",
              "      <td>AGROPECUÁRIA TERRA GRANDE S/A</td>\n",
              "      <td>15</td>\n",
              "    </tr>\n",
              "  </tbody>\n",
              "</table>\n",
              "<p>1387 rows × 11 columns</p>\n",
              "</div>\n",
              "      <button class=\"colab-df-convert\" onclick=\"convertToInteractive('df-3879f583-b0b8-4a54-8a2d-570d39527c66')\"\n",
              "              title=\"Convert this dataframe to an interactive table.\"\n",
              "              style=\"display:none;\">\n",
              "        \n",
              "  <svg xmlns=\"http://www.w3.org/2000/svg\" height=\"24px\"viewBox=\"0 0 24 24\"\n",
              "       width=\"24px\">\n",
              "    <path d=\"M0 0h24v24H0V0z\" fill=\"none\"/>\n",
              "    <path d=\"M18.56 5.44l.94 2.06.94-2.06 2.06-.94-2.06-.94-.94-2.06-.94 2.06-2.06.94zm-11 1L8.5 8.5l.94-2.06 2.06-.94-2.06-.94L8.5 2.5l-.94 2.06-2.06.94zm10 10l.94 2.06.94-2.06 2.06-.94-2.06-.94-.94-2.06-.94 2.06-2.06.94z\"/><path d=\"M17.41 7.96l-1.37-1.37c-.4-.4-.92-.59-1.43-.59-.52 0-1.04.2-1.43.59L10.3 9.45l-7.72 7.72c-.78.78-.78 2.05 0 2.83L4 21.41c.39.39.9.59 1.41.59.51 0 1.02-.2 1.41-.59l7.78-7.78 2.81-2.81c.8-.78.8-2.07 0-2.86zM5.41 20L4 18.59l7.72-7.72 1.47 1.35L5.41 20z\"/>\n",
              "  </svg>\n",
              "      </button>\n",
              "      \n",
              "  <style>\n",
              "    .colab-df-container {\n",
              "      display:flex;\n",
              "      flex-wrap:wrap;\n",
              "      gap: 12px;\n",
              "    }\n",
              "\n",
              "    .colab-df-convert {\n",
              "      background-color: #E8F0FE;\n",
              "      border: none;\n",
              "      border-radius: 50%;\n",
              "      cursor: pointer;\n",
              "      display: none;\n",
              "      fill: #1967D2;\n",
              "      height: 32px;\n",
              "      padding: 0 0 0 0;\n",
              "      width: 32px;\n",
              "    }\n",
              "\n",
              "    .colab-df-convert:hover {\n",
              "      background-color: #E2EBFA;\n",
              "      box-shadow: 0px 1px 2px rgba(60, 64, 67, 0.3), 0px 1px 3px 1px rgba(60, 64, 67, 0.15);\n",
              "      fill: #174EA6;\n",
              "    }\n",
              "\n",
              "    [theme=dark] .colab-df-convert {\n",
              "      background-color: #3B4455;\n",
              "      fill: #D2E3FC;\n",
              "    }\n",
              "\n",
              "    [theme=dark] .colab-df-convert:hover {\n",
              "      background-color: #434B5C;\n",
              "      box-shadow: 0px 1px 3px 1px rgba(0, 0, 0, 0.15);\n",
              "      filter: drop-shadow(0px 1px 2px rgba(0, 0, 0, 0.3));\n",
              "      fill: #FFFFFF;\n",
              "    }\n",
              "  </style>\n",
              "\n",
              "      <script>\n",
              "        const buttonEl =\n",
              "          document.querySelector('#df-3879f583-b0b8-4a54-8a2d-570d39527c66 button.colab-df-convert');\n",
              "        buttonEl.style.display =\n",
              "          google.colab.kernel.accessAllowed ? 'block' : 'none';\n",
              "\n",
              "        async function convertToInteractive(key) {\n",
              "          const element = document.querySelector('#df-3879f583-b0b8-4a54-8a2d-570d39527c66');\n",
              "          const dataTable =\n",
              "            await google.colab.kernel.invokeFunction('convertToInteractive',\n",
              "                                                     [key], {});\n",
              "          if (!dataTable) return;\n",
              "\n",
              "          const docLinkHtml = 'Like what you see? Visit the ' +\n",
              "            '<a target=\"_blank\" href=https://colab.research.google.com/notebooks/data_table.ipynb>data table notebook</a>'\n",
              "            + ' to learn more about interactive tables.';\n",
              "          element.innerHTML = '';\n",
              "          dataTable['output_type'] = 'display_data';\n",
              "          await google.colab.output.renderOutput(dataTable, element);\n",
              "          const docLink = document.createElement('div');\n",
              "          docLink.innerHTML = docLinkHtml;\n",
              "          element.appendChild(docLink);\n",
              "        }\n",
              "      </script>\n",
              "    </div>\n",
              "  </div>\n",
              "  "
            ]
          },
          "metadata": {},
          "execution_count": 68
        }
      ],
      "source": [
        "#Ordena os dados\n",
        "df_empresas.sort_values('UF')"
      ]
    },
    {
      "cell_type": "code",
      "execution_count": 69,
      "metadata": {
        "id": "3SL5N9f11c_t",
        "colab": {
          "base_uri": "https://localhost:8080/",
          "height": 658
        },
        "outputId": "069231e9-a2af-43f5-93f9-c537a0b32e0c"
      },
      "outputs": [
        {
          "output_type": "execute_result",
          "data": {
            "text/plain": [
              "      Ano  Operação                  Dia/Mês  UF          Município     CNAE  \\\n",
              "863  2015       103  16/07/2015 a 22/07/2015  TO     PORTO NACIONAL  0220902   \n",
              "553  2013        43  21/05/2013 a 31/05/2013  TO            COLMÉIA  0151201   \n",
              "149  2010       125  30/11/2010 a 09/12/2010  TO         ARAGUACEMA  0151201   \n",
              "834  2015        62  02/10/2015 a 09/10/2015  TO       BABAÇULÂNDIA  0220901   \n",
              "686  2014        22  16/04/2014 a 30/04/2014  TO         NATIVIDADE  0151201   \n",
              "..    ...       ...                      ...  ..                ...      ...   \n",
              "789  2014       145  18/11/2014 a 19/12/2014  AC         RIO BRANCO  0151201   \n",
              "337  2011       151  23/08/2011 a 22/11/2011  AC              FEIJÓ  0151201   \n",
              "252  2011        69  11/05/2011 a 07/06/2011  AC  PLÁCIDO DE CASTRO  0151201   \n",
              "7    2010         7  22/01/2010 a 18/02/2010  AC         PORTO ACRE  0151202   \n",
              "557  2013        47  12/04/2013 a 09/05/2013  AC         RIO BRANCO  0151201   \n",
              "\n",
              "           Descrição CNAE                     Proprietário   CNPJ/CEI/CPF  \\\n",
              "863  PRODUÇÃO DE CARVÃO V       LUCIANO ROSA DO NASCIMENTO    51873702949   \n",
              "553  CRIAÇÃO DE BOVINOS P            PAULO VICENTE DA MOTA    23248823100   \n",
              "149  CRIAÇÃO DE BOVINOS P                 NEWTON OLIVEIRA      2513595159   \n",
              "834  EXTRAÇÃO DE MADEIRA                   CERÂMICA CERMAR  3894214000147   \n",
              "686  CRIAÇÃO DE BOVINOS P  FABIANO IAMAGUTI MAEDA E OUTROS    11912555816   \n",
              "..                    ...                              ...            ...   \n",
              "789  CRIAÇÃO DE BOVINOS P       FELIPE JOEL VERAS PINHEIRO    86784552253   \n",
              "337  CRIAÇÃO DE BOVINOS P                        RUI PINTO    73757187768   \n",
              "252  CRIAÇÃO DE BOVINOS P     FERNANDO BARBOSA TEIXEIRA -     61773930125   \n",
              "7    CRIAÇÃO DE BOVINOS P    ROQUE REIS BARREIROS JÚNIOR\\n    33954305291   \n",
              "557  CRIAÇÃO DE BOVINOS P            MOZAR MARCONDES FILHO    33574090978   \n",
              "\n",
              "                          Estabelecimento Inspecionado  \\\n",
              "863                                    FAZENDA CASTELO   \n",
              "553                                    FAZENDA ESTAÇÃO   \n",
              "149  FAZENDAS DA BEZERRA, PAU BRASIL, SÃO JOSÉ, GAR...   \n",
              "834                                    FAZENDA PARAISO   \n",
              "686                                  FAZENDA ESPERANÇA   \n",
              "..                                                 ...   \n",
              "789         ARRENDAMENTO DA FAZENDA ESTANCIA GUANABARA   \n",
              "337                                  FAZENDA MASSIPIRA   \n",
              "252                                 FAZENDA VALE VERDE   \n",
              "7                                     FAZENDA HARMONIA   \n",
              "557                        FAZENDA AGOPECUÁRIA SORRISO   \n",
              "\n",
              "     Nº Trab. cond. analog escravo  \n",
              "863                              9  \n",
              "553                             16  \n",
              "149                             33  \n",
              "834                              2  \n",
              "686                              6  \n",
              "..                             ...  \n",
              "789                             15  \n",
              "337                              7  \n",
              "252                              8  \n",
              "7                                8  \n",
              "557                             13  \n",
              "\n",
              "[1387 rows x 11 columns]"
            ],
            "text/html": [
              "\n",
              "  <div id=\"df-dba1e0bb-81cf-429b-b1cd-f8ffe6afc372\">\n",
              "    <div class=\"colab-df-container\">\n",
              "      <div>\n",
              "<style scoped>\n",
              "    .dataframe tbody tr th:only-of-type {\n",
              "        vertical-align: middle;\n",
              "    }\n",
              "\n",
              "    .dataframe tbody tr th {\n",
              "        vertical-align: top;\n",
              "    }\n",
              "\n",
              "    .dataframe thead th {\n",
              "        text-align: right;\n",
              "    }\n",
              "</style>\n",
              "<table border=\"1\" class=\"dataframe\">\n",
              "  <thead>\n",
              "    <tr style=\"text-align: right;\">\n",
              "      <th></th>\n",
              "      <th>Ano</th>\n",
              "      <th>Operação</th>\n",
              "      <th>Dia/Mês</th>\n",
              "      <th>UF</th>\n",
              "      <th>Município</th>\n",
              "      <th>CNAE</th>\n",
              "      <th>Descrição CNAE</th>\n",
              "      <th>Proprietário</th>\n",
              "      <th>CNPJ/CEI/CPF</th>\n",
              "      <th>Estabelecimento Inspecionado</th>\n",
              "      <th>Nº Trab. cond. analog escravo</th>\n",
              "    </tr>\n",
              "  </thead>\n",
              "  <tbody>\n",
              "    <tr>\n",
              "      <th>863</th>\n",
              "      <td>2015</td>\n",
              "      <td>103</td>\n",
              "      <td>16/07/2015 a 22/07/2015</td>\n",
              "      <td>TO</td>\n",
              "      <td>PORTO NACIONAL</td>\n",
              "      <td>0220902</td>\n",
              "      <td>PRODUÇÃO DE CARVÃO V</td>\n",
              "      <td>LUCIANO ROSA DO NASCIMENTO</td>\n",
              "      <td>51873702949</td>\n",
              "      <td>FAZENDA CASTELO</td>\n",
              "      <td>9</td>\n",
              "    </tr>\n",
              "    <tr>\n",
              "      <th>553</th>\n",
              "      <td>2013</td>\n",
              "      <td>43</td>\n",
              "      <td>21/05/2013 a 31/05/2013</td>\n",
              "      <td>TO</td>\n",
              "      <td>COLMÉIA</td>\n",
              "      <td>0151201</td>\n",
              "      <td>CRIAÇÃO DE BOVINOS P</td>\n",
              "      <td>PAULO VICENTE DA MOTA</td>\n",
              "      <td>23248823100</td>\n",
              "      <td>FAZENDA ESTAÇÃO</td>\n",
              "      <td>16</td>\n",
              "    </tr>\n",
              "    <tr>\n",
              "      <th>149</th>\n",
              "      <td>2010</td>\n",
              "      <td>125</td>\n",
              "      <td>30/11/2010 a 09/12/2010</td>\n",
              "      <td>TO</td>\n",
              "      <td>ARAGUACEMA</td>\n",
              "      <td>0151201</td>\n",
              "      <td>CRIAÇÃO DE BOVINOS P</td>\n",
              "      <td>NEWTON OLIVEIRA</td>\n",
              "      <td>2513595159</td>\n",
              "      <td>FAZENDAS DA BEZERRA, PAU BRASIL, SÃO JOSÉ, GAR...</td>\n",
              "      <td>33</td>\n",
              "    </tr>\n",
              "    <tr>\n",
              "      <th>834</th>\n",
              "      <td>2015</td>\n",
              "      <td>62</td>\n",
              "      <td>02/10/2015 a 09/10/2015</td>\n",
              "      <td>TO</td>\n",
              "      <td>BABAÇULÂNDIA</td>\n",
              "      <td>0220901</td>\n",
              "      <td>EXTRAÇÃO DE MADEIRA</td>\n",
              "      <td>CERÂMICA CERMAR</td>\n",
              "      <td>3894214000147</td>\n",
              "      <td>FAZENDA PARAISO</td>\n",
              "      <td>2</td>\n",
              "    </tr>\n",
              "    <tr>\n",
              "      <th>686</th>\n",
              "      <td>2014</td>\n",
              "      <td>22</td>\n",
              "      <td>16/04/2014 a 30/04/2014</td>\n",
              "      <td>TO</td>\n",
              "      <td>NATIVIDADE</td>\n",
              "      <td>0151201</td>\n",
              "      <td>CRIAÇÃO DE BOVINOS P</td>\n",
              "      <td>FABIANO IAMAGUTI MAEDA E OUTROS</td>\n",
              "      <td>11912555816</td>\n",
              "      <td>FAZENDA ESPERANÇA</td>\n",
              "      <td>6</td>\n",
              "    </tr>\n",
              "    <tr>\n",
              "      <th>...</th>\n",
              "      <td>...</td>\n",
              "      <td>...</td>\n",
              "      <td>...</td>\n",
              "      <td>...</td>\n",
              "      <td>...</td>\n",
              "      <td>...</td>\n",
              "      <td>...</td>\n",
              "      <td>...</td>\n",
              "      <td>...</td>\n",
              "      <td>...</td>\n",
              "      <td>...</td>\n",
              "    </tr>\n",
              "    <tr>\n",
              "      <th>789</th>\n",
              "      <td>2014</td>\n",
              "      <td>145</td>\n",
              "      <td>18/11/2014 a 19/12/2014</td>\n",
              "      <td>AC</td>\n",
              "      <td>RIO BRANCO</td>\n",
              "      <td>0151201</td>\n",
              "      <td>CRIAÇÃO DE BOVINOS P</td>\n",
              "      <td>FELIPE JOEL VERAS PINHEIRO</td>\n",
              "      <td>86784552253</td>\n",
              "      <td>ARRENDAMENTO DA FAZENDA ESTANCIA GUANABARA</td>\n",
              "      <td>15</td>\n",
              "    </tr>\n",
              "    <tr>\n",
              "      <th>337</th>\n",
              "      <td>2011</td>\n",
              "      <td>151</td>\n",
              "      <td>23/08/2011 a 22/11/2011</td>\n",
              "      <td>AC</td>\n",
              "      <td>FEIJÓ</td>\n",
              "      <td>0151201</td>\n",
              "      <td>CRIAÇÃO DE BOVINOS P</td>\n",
              "      <td>RUI PINTO</td>\n",
              "      <td>73757187768</td>\n",
              "      <td>FAZENDA MASSIPIRA</td>\n",
              "      <td>7</td>\n",
              "    </tr>\n",
              "    <tr>\n",
              "      <th>252</th>\n",
              "      <td>2011</td>\n",
              "      <td>69</td>\n",
              "      <td>11/05/2011 a 07/06/2011</td>\n",
              "      <td>AC</td>\n",
              "      <td>PLÁCIDO DE CASTRO</td>\n",
              "      <td>0151201</td>\n",
              "      <td>CRIAÇÃO DE BOVINOS P</td>\n",
              "      <td>FERNANDO BARBOSA TEIXEIRA -</td>\n",
              "      <td>61773930125</td>\n",
              "      <td>FAZENDA VALE VERDE</td>\n",
              "      <td>8</td>\n",
              "    </tr>\n",
              "    <tr>\n",
              "      <th>7</th>\n",
              "      <td>2010</td>\n",
              "      <td>7</td>\n",
              "      <td>22/01/2010 a 18/02/2010</td>\n",
              "      <td>AC</td>\n",
              "      <td>PORTO ACRE</td>\n",
              "      <td>0151202</td>\n",
              "      <td>CRIAÇÃO DE BOVINOS P</td>\n",
              "      <td>ROQUE REIS BARREIROS JÚNIOR\\n</td>\n",
              "      <td>33954305291</td>\n",
              "      <td>FAZENDA HARMONIA</td>\n",
              "      <td>8</td>\n",
              "    </tr>\n",
              "    <tr>\n",
              "      <th>557</th>\n",
              "      <td>2013</td>\n",
              "      <td>47</td>\n",
              "      <td>12/04/2013 a 09/05/2013</td>\n",
              "      <td>AC</td>\n",
              "      <td>RIO BRANCO</td>\n",
              "      <td>0151201</td>\n",
              "      <td>CRIAÇÃO DE BOVINOS P</td>\n",
              "      <td>MOZAR MARCONDES FILHO</td>\n",
              "      <td>33574090978</td>\n",
              "      <td>FAZENDA AGOPECUÁRIA SORRISO</td>\n",
              "      <td>13</td>\n",
              "    </tr>\n",
              "  </tbody>\n",
              "</table>\n",
              "<p>1387 rows × 11 columns</p>\n",
              "</div>\n",
              "      <button class=\"colab-df-convert\" onclick=\"convertToInteractive('df-dba1e0bb-81cf-429b-b1cd-f8ffe6afc372')\"\n",
              "              title=\"Convert this dataframe to an interactive table.\"\n",
              "              style=\"display:none;\">\n",
              "        \n",
              "  <svg xmlns=\"http://www.w3.org/2000/svg\" height=\"24px\"viewBox=\"0 0 24 24\"\n",
              "       width=\"24px\">\n",
              "    <path d=\"M0 0h24v24H0V0z\" fill=\"none\"/>\n",
              "    <path d=\"M18.56 5.44l.94 2.06.94-2.06 2.06-.94-2.06-.94-.94-2.06-.94 2.06-2.06.94zm-11 1L8.5 8.5l.94-2.06 2.06-.94-2.06-.94L8.5 2.5l-.94 2.06-2.06.94zm10 10l.94 2.06.94-2.06 2.06-.94-2.06-.94-.94-2.06-.94 2.06-2.06.94z\"/><path d=\"M17.41 7.96l-1.37-1.37c-.4-.4-.92-.59-1.43-.59-.52 0-1.04.2-1.43.59L10.3 9.45l-7.72 7.72c-.78.78-.78 2.05 0 2.83L4 21.41c.39.39.9.59 1.41.59.51 0 1.02-.2 1.41-.59l7.78-7.78 2.81-2.81c.8-.78.8-2.07 0-2.86zM5.41 20L4 18.59l7.72-7.72 1.47 1.35L5.41 20z\"/>\n",
              "  </svg>\n",
              "      </button>\n",
              "      \n",
              "  <style>\n",
              "    .colab-df-container {\n",
              "      display:flex;\n",
              "      flex-wrap:wrap;\n",
              "      gap: 12px;\n",
              "    }\n",
              "\n",
              "    .colab-df-convert {\n",
              "      background-color: #E8F0FE;\n",
              "      border: none;\n",
              "      border-radius: 50%;\n",
              "      cursor: pointer;\n",
              "      display: none;\n",
              "      fill: #1967D2;\n",
              "      height: 32px;\n",
              "      padding: 0 0 0 0;\n",
              "      width: 32px;\n",
              "    }\n",
              "\n",
              "    .colab-df-convert:hover {\n",
              "      background-color: #E2EBFA;\n",
              "      box-shadow: 0px 1px 2px rgba(60, 64, 67, 0.3), 0px 1px 3px 1px rgba(60, 64, 67, 0.15);\n",
              "      fill: #174EA6;\n",
              "    }\n",
              "\n",
              "    [theme=dark] .colab-df-convert {\n",
              "      background-color: #3B4455;\n",
              "      fill: #D2E3FC;\n",
              "    }\n",
              "\n",
              "    [theme=dark] .colab-df-convert:hover {\n",
              "      background-color: #434B5C;\n",
              "      box-shadow: 0px 1px 3px 1px rgba(0, 0, 0, 0.15);\n",
              "      filter: drop-shadow(0px 1px 2px rgba(0, 0, 0, 0.3));\n",
              "      fill: #FFFFFF;\n",
              "    }\n",
              "  </style>\n",
              "\n",
              "      <script>\n",
              "        const buttonEl =\n",
              "          document.querySelector('#df-dba1e0bb-81cf-429b-b1cd-f8ffe6afc372 button.colab-df-convert');\n",
              "        buttonEl.style.display =\n",
              "          google.colab.kernel.accessAllowed ? 'block' : 'none';\n",
              "\n",
              "        async function convertToInteractive(key) {\n",
              "          const element = document.querySelector('#df-dba1e0bb-81cf-429b-b1cd-f8ffe6afc372');\n",
              "          const dataTable =\n",
              "            await google.colab.kernel.invokeFunction('convertToInteractive',\n",
              "                                                     [key], {});\n",
              "          if (!dataTable) return;\n",
              "\n",
              "          const docLinkHtml = 'Like what you see? Visit the ' +\n",
              "            '<a target=\"_blank\" href=https://colab.research.google.com/notebooks/data_table.ipynb>data table notebook</a>'\n",
              "            + ' to learn more about interactive tables.';\n",
              "          element.innerHTML = '';\n",
              "          dataTable['output_type'] = 'display_data';\n",
              "          await google.colab.output.renderOutput(dataTable, element);\n",
              "          const docLink = document.createElement('div');\n",
              "          docLink.innerHTML = docLinkHtml;\n",
              "          element.appendChild(docLink);\n",
              "        }\n",
              "      </script>\n",
              "    </div>\n",
              "  </div>\n",
              "  "
            ]
          },
          "metadata": {},
          "execution_count": 69
        }
      ],
      "source": [
        "#ordena decrescentemente\n",
        "df_empresas.sort_values('UF', ascending=False)"
      ]
    },
    {
      "cell_type": "code",
      "execution_count": 70,
      "metadata": {
        "id": "oYMXid4N1mtF",
        "colab": {
          "base_uri": "https://localhost:8080/",
          "height": 598
        },
        "outputId": "6fb648bf-da02-4e3d-ecd1-3e56cc5b8d10"
      },
      "outputs": [
        {
          "output_type": "execute_result",
          "data": {
            "text/plain": [
              "      Ano  Operação                  Dia/Mês  UF          Município     CNAE  \\\n",
              "789  2014       145  18/11/2014 a 19/12/2014  AC         RIO BRANCO  0151201   \n",
              "685  2014        21  11/03/2014 a 21/03/2014  AC     SENA MADUREIRA  1092900   \n",
              "698  2014        33  29/07/2014 a 08/08/2014  AC           TARAUACÁ  0151201   \n",
              "726  2014        67  22/04/2014 a 17/07/2014  AC         RIO BRANCO  0151201   \n",
              "921  2016        22  29/03/2016 a 08/04/2016  AC         RIO BRANCO  0151201   \n",
              "7    2010         7  22/01/2010 a 18/02/2010  AC         PORTO ACRE  0151202   \n",
              "557  2013        47  12/04/2013 a 09/05/2013  AC         RIO BRANCO  0151201   \n",
              "337  2011       151  23/08/2011 a 22/11/2011  AC              FEIJÓ  0151201   \n",
              "948  2016        63  16/08/2016 a 26/08/2016  AC     SENA MADUREIRA  0151201   \n",
              "252  2011        69  11/05/2011 a 07/06/2011  AC  PLÁCIDO DE CASTRO  0151201   \n",
              "\n",
              "           Descrição CNAE                       Proprietário   CNPJ/CEI/CPF  \\\n",
              "789  CRIAÇÃO DE BOVINOS P         FELIPE JOEL VERAS PINHEIRO    86784552253   \n",
              "685  FABRICAÇÃO DE BISCOI  MIRAGINA S/A INDÚSTRIA E COMÉRCIO  4063681000198   \n",
              "698  CRIAÇÃO DE BOVINOS P       JOSÉ TELES DE OLIVEIRA FILHO    62069268268   \n",
              "726  CRIAÇÃO DE BOVINOS P             AMANDIO CELESTINO COGO    12029939900   \n",
              "921  CRIAÇÃO DE BOVINOS P                 LEANDRO LUIS LEITE     9817623874   \n",
              "7    CRIAÇÃO DE BOVINOS P      ROQUE REIS BARREIROS JÚNIOR\\n    33954305291   \n",
              "557  CRIAÇÃO DE BOVINOS P              MOZAR MARCONDES FILHO    33574090978   \n",
              "337  CRIAÇÃO DE BOVINOS P                          RUI PINTO    73757187768   \n",
              "948  CRIAÇÃO DE BOVINOS P              JOSE ARMANDO DE SOUZA    22753540691   \n",
              "252  CRIAÇÃO DE BOVINOS P       FERNANDO BARBOSA TEIXEIRA -     61773930125   \n",
              "\n",
              "                   Estabelecimento Inspecionado  Nº Trab. cond. analog escravo  \n",
              "789  ARRENDAMENTO DA FAZENDA ESTANCIA GUANABARA                             15  \n",
              "685                          FAZENDA MIRAGINA I                              1  \n",
              "698                        FAZENDA PORTO ALEGRE                             55  \n",
              "726        ARRENDAMENTO DA FAZENDA PERSEVERANÇA                              3  \n",
              "921                     FAZENDA CORREGO DO OURO                              7  \n",
              "7                              FAZENDA HARMONIA                              8  \n",
              "557                 FAZENDA AGOPECUÁRIA SORRISO                             13  \n",
              "337                           FAZENDA MASSIPIRA                              7  \n",
              "948                            FAZENDA ANTIMARY                             10  \n",
              "252                          FAZENDA VALE VERDE                              8  "
            ],
            "text/html": [
              "\n",
              "  <div id=\"df-8d9398f2-b7ad-4427-8d57-ecba0b9f4194\">\n",
              "    <div class=\"colab-df-container\">\n",
              "      <div>\n",
              "<style scoped>\n",
              "    .dataframe tbody tr th:only-of-type {\n",
              "        vertical-align: middle;\n",
              "    }\n",
              "\n",
              "    .dataframe tbody tr th {\n",
              "        vertical-align: top;\n",
              "    }\n",
              "\n",
              "    .dataframe thead th {\n",
              "        text-align: right;\n",
              "    }\n",
              "</style>\n",
              "<table border=\"1\" class=\"dataframe\">\n",
              "  <thead>\n",
              "    <tr style=\"text-align: right;\">\n",
              "      <th></th>\n",
              "      <th>Ano</th>\n",
              "      <th>Operação</th>\n",
              "      <th>Dia/Mês</th>\n",
              "      <th>UF</th>\n",
              "      <th>Município</th>\n",
              "      <th>CNAE</th>\n",
              "      <th>Descrição CNAE</th>\n",
              "      <th>Proprietário</th>\n",
              "      <th>CNPJ/CEI/CPF</th>\n",
              "      <th>Estabelecimento Inspecionado</th>\n",
              "      <th>Nº Trab. cond. analog escravo</th>\n",
              "    </tr>\n",
              "  </thead>\n",
              "  <tbody>\n",
              "    <tr>\n",
              "      <th>789</th>\n",
              "      <td>2014</td>\n",
              "      <td>145</td>\n",
              "      <td>18/11/2014 a 19/12/2014</td>\n",
              "      <td>AC</td>\n",
              "      <td>RIO BRANCO</td>\n",
              "      <td>0151201</td>\n",
              "      <td>CRIAÇÃO DE BOVINOS P</td>\n",
              "      <td>FELIPE JOEL VERAS PINHEIRO</td>\n",
              "      <td>86784552253</td>\n",
              "      <td>ARRENDAMENTO DA FAZENDA ESTANCIA GUANABARA</td>\n",
              "      <td>15</td>\n",
              "    </tr>\n",
              "    <tr>\n",
              "      <th>685</th>\n",
              "      <td>2014</td>\n",
              "      <td>21</td>\n",
              "      <td>11/03/2014 a 21/03/2014</td>\n",
              "      <td>AC</td>\n",
              "      <td>SENA MADUREIRA</td>\n",
              "      <td>1092900</td>\n",
              "      <td>FABRICAÇÃO DE BISCOI</td>\n",
              "      <td>MIRAGINA S/A INDÚSTRIA E COMÉRCIO</td>\n",
              "      <td>4063681000198</td>\n",
              "      <td>FAZENDA MIRAGINA I</td>\n",
              "      <td>1</td>\n",
              "    </tr>\n",
              "    <tr>\n",
              "      <th>698</th>\n",
              "      <td>2014</td>\n",
              "      <td>33</td>\n",
              "      <td>29/07/2014 a 08/08/2014</td>\n",
              "      <td>AC</td>\n",
              "      <td>TARAUACÁ</td>\n",
              "      <td>0151201</td>\n",
              "      <td>CRIAÇÃO DE BOVINOS P</td>\n",
              "      <td>JOSÉ TELES DE OLIVEIRA FILHO</td>\n",
              "      <td>62069268268</td>\n",
              "      <td>FAZENDA PORTO ALEGRE</td>\n",
              "      <td>55</td>\n",
              "    </tr>\n",
              "    <tr>\n",
              "      <th>726</th>\n",
              "      <td>2014</td>\n",
              "      <td>67</td>\n",
              "      <td>22/04/2014 a 17/07/2014</td>\n",
              "      <td>AC</td>\n",
              "      <td>RIO BRANCO</td>\n",
              "      <td>0151201</td>\n",
              "      <td>CRIAÇÃO DE BOVINOS P</td>\n",
              "      <td>AMANDIO CELESTINO COGO</td>\n",
              "      <td>12029939900</td>\n",
              "      <td>ARRENDAMENTO DA FAZENDA PERSEVERANÇA</td>\n",
              "      <td>3</td>\n",
              "    </tr>\n",
              "    <tr>\n",
              "      <th>921</th>\n",
              "      <td>2016</td>\n",
              "      <td>22</td>\n",
              "      <td>29/03/2016 a 08/04/2016</td>\n",
              "      <td>AC</td>\n",
              "      <td>RIO BRANCO</td>\n",
              "      <td>0151201</td>\n",
              "      <td>CRIAÇÃO DE BOVINOS P</td>\n",
              "      <td>LEANDRO LUIS LEITE</td>\n",
              "      <td>9817623874</td>\n",
              "      <td>FAZENDA CORREGO DO OURO</td>\n",
              "      <td>7</td>\n",
              "    </tr>\n",
              "    <tr>\n",
              "      <th>7</th>\n",
              "      <td>2010</td>\n",
              "      <td>7</td>\n",
              "      <td>22/01/2010 a 18/02/2010</td>\n",
              "      <td>AC</td>\n",
              "      <td>PORTO ACRE</td>\n",
              "      <td>0151202</td>\n",
              "      <td>CRIAÇÃO DE BOVINOS P</td>\n",
              "      <td>ROQUE REIS BARREIROS JÚNIOR\\n</td>\n",
              "      <td>33954305291</td>\n",
              "      <td>FAZENDA HARMONIA</td>\n",
              "      <td>8</td>\n",
              "    </tr>\n",
              "    <tr>\n",
              "      <th>557</th>\n",
              "      <td>2013</td>\n",
              "      <td>47</td>\n",
              "      <td>12/04/2013 a 09/05/2013</td>\n",
              "      <td>AC</td>\n",
              "      <td>RIO BRANCO</td>\n",
              "      <td>0151201</td>\n",
              "      <td>CRIAÇÃO DE BOVINOS P</td>\n",
              "      <td>MOZAR MARCONDES FILHO</td>\n",
              "      <td>33574090978</td>\n",
              "      <td>FAZENDA AGOPECUÁRIA SORRISO</td>\n",
              "      <td>13</td>\n",
              "    </tr>\n",
              "    <tr>\n",
              "      <th>337</th>\n",
              "      <td>2011</td>\n",
              "      <td>151</td>\n",
              "      <td>23/08/2011 a 22/11/2011</td>\n",
              "      <td>AC</td>\n",
              "      <td>FEIJÓ</td>\n",
              "      <td>0151201</td>\n",
              "      <td>CRIAÇÃO DE BOVINOS P</td>\n",
              "      <td>RUI PINTO</td>\n",
              "      <td>73757187768</td>\n",
              "      <td>FAZENDA MASSIPIRA</td>\n",
              "      <td>7</td>\n",
              "    </tr>\n",
              "    <tr>\n",
              "      <th>948</th>\n",
              "      <td>2016</td>\n",
              "      <td>63</td>\n",
              "      <td>16/08/2016 a 26/08/2016</td>\n",
              "      <td>AC</td>\n",
              "      <td>SENA MADUREIRA</td>\n",
              "      <td>0151201</td>\n",
              "      <td>CRIAÇÃO DE BOVINOS P</td>\n",
              "      <td>JOSE ARMANDO DE SOUZA</td>\n",
              "      <td>22753540691</td>\n",
              "      <td>FAZENDA ANTIMARY</td>\n",
              "      <td>10</td>\n",
              "    </tr>\n",
              "    <tr>\n",
              "      <th>252</th>\n",
              "      <td>2011</td>\n",
              "      <td>69</td>\n",
              "      <td>11/05/2011 a 07/06/2011</td>\n",
              "      <td>AC</td>\n",
              "      <td>PLÁCIDO DE CASTRO</td>\n",
              "      <td>0151201</td>\n",
              "      <td>CRIAÇÃO DE BOVINOS P</td>\n",
              "      <td>FERNANDO BARBOSA TEIXEIRA -</td>\n",
              "      <td>61773930125</td>\n",
              "      <td>FAZENDA VALE VERDE</td>\n",
              "      <td>8</td>\n",
              "    </tr>\n",
              "  </tbody>\n",
              "</table>\n",
              "</div>\n",
              "      <button class=\"colab-df-convert\" onclick=\"convertToInteractive('df-8d9398f2-b7ad-4427-8d57-ecba0b9f4194')\"\n",
              "              title=\"Convert this dataframe to an interactive table.\"\n",
              "              style=\"display:none;\">\n",
              "        \n",
              "  <svg xmlns=\"http://www.w3.org/2000/svg\" height=\"24px\"viewBox=\"0 0 24 24\"\n",
              "       width=\"24px\">\n",
              "    <path d=\"M0 0h24v24H0V0z\" fill=\"none\"/>\n",
              "    <path d=\"M18.56 5.44l.94 2.06.94-2.06 2.06-.94-2.06-.94-.94-2.06-.94 2.06-2.06.94zm-11 1L8.5 8.5l.94-2.06 2.06-.94-2.06-.94L8.5 2.5l-.94 2.06-2.06.94zm10 10l.94 2.06.94-2.06 2.06-.94-2.06-.94-.94-2.06-.94 2.06-2.06.94z\"/><path d=\"M17.41 7.96l-1.37-1.37c-.4-.4-.92-.59-1.43-.59-.52 0-1.04.2-1.43.59L10.3 9.45l-7.72 7.72c-.78.78-.78 2.05 0 2.83L4 21.41c.39.39.9.59 1.41.59.51 0 1.02-.2 1.41-.59l7.78-7.78 2.81-2.81c.8-.78.8-2.07 0-2.86zM5.41 20L4 18.59l7.72-7.72 1.47 1.35L5.41 20z\"/>\n",
              "  </svg>\n",
              "      </button>\n",
              "      \n",
              "  <style>\n",
              "    .colab-df-container {\n",
              "      display:flex;\n",
              "      flex-wrap:wrap;\n",
              "      gap: 12px;\n",
              "    }\n",
              "\n",
              "    .colab-df-convert {\n",
              "      background-color: #E8F0FE;\n",
              "      border: none;\n",
              "      border-radius: 50%;\n",
              "      cursor: pointer;\n",
              "      display: none;\n",
              "      fill: #1967D2;\n",
              "      height: 32px;\n",
              "      padding: 0 0 0 0;\n",
              "      width: 32px;\n",
              "    }\n",
              "\n",
              "    .colab-df-convert:hover {\n",
              "      background-color: #E2EBFA;\n",
              "      box-shadow: 0px 1px 2px rgba(60, 64, 67, 0.3), 0px 1px 3px 1px rgba(60, 64, 67, 0.15);\n",
              "      fill: #174EA6;\n",
              "    }\n",
              "\n",
              "    [theme=dark] .colab-df-convert {\n",
              "      background-color: #3B4455;\n",
              "      fill: #D2E3FC;\n",
              "    }\n",
              "\n",
              "    [theme=dark] .colab-df-convert:hover {\n",
              "      background-color: #434B5C;\n",
              "      box-shadow: 0px 1px 3px 1px rgba(0, 0, 0, 0.15);\n",
              "      filter: drop-shadow(0px 1px 2px rgba(0, 0, 0, 0.3));\n",
              "      fill: #FFFFFF;\n",
              "    }\n",
              "  </style>\n",
              "\n",
              "      <script>\n",
              "        const buttonEl =\n",
              "          document.querySelector('#df-8d9398f2-b7ad-4427-8d57-ecba0b9f4194 button.colab-df-convert');\n",
              "        buttonEl.style.display =\n",
              "          google.colab.kernel.accessAllowed ? 'block' : 'none';\n",
              "\n",
              "        async function convertToInteractive(key) {\n",
              "          const element = document.querySelector('#df-8d9398f2-b7ad-4427-8d57-ecba0b9f4194');\n",
              "          const dataTable =\n",
              "            await google.colab.kernel.invokeFunction('convertToInteractive',\n",
              "                                                     [key], {});\n",
              "          if (!dataTable) return;\n",
              "\n",
              "          const docLinkHtml = 'Like what you see? Visit the ' +\n",
              "            '<a target=\"_blank\" href=https://colab.research.google.com/notebooks/data_table.ipynb>data table notebook</a>'\n",
              "            + ' to learn more about interactive tables.';\n",
              "          element.innerHTML = '';\n",
              "          dataTable['output_type'] = 'display_data';\n",
              "          await google.colab.output.renderOutput(dataTable, element);\n",
              "          const docLink = document.createElement('div');\n",
              "          docLink.innerHTML = docLinkHtml;\n",
              "          element.appendChild(docLink);\n",
              "        }\n",
              "      </script>\n",
              "    </div>\n",
              "  </div>\n",
              "  "
            ]
          },
          "metadata": {},
          "execution_count": 70
        }
      ],
      "source": [
        "#As 10 primeiras linhas\n",
        "df_empresas.sort_values('UF').head(10)"
      ]
    },
    {
      "cell_type": "code",
      "execution_count": 72,
      "metadata": {
        "id": "FI5uul4O2HuP",
        "colab": {
          "base_uri": "https://localhost:8080/",
          "height": 658
        },
        "outputId": "1afcd68d-ba47-4ccc-e1b4-d3562f8266a4"
      },
      "outputs": [
        {
          "output_type": "execute_result",
          "data": {
            "text/plain": [
              "       Ano  Operação                  Dia/Mês  UF                Município  \\\n",
              "7     2010         7  22/01/2010 a 18/02/2010  AC               PORTO ACRE   \n",
              "252   2011        69  11/05/2011 a 07/06/2011  AC        PLÁCIDO DE CASTRO   \n",
              "337   2011       151  23/08/2011 a 22/11/2011  AC                    FEIJÓ   \n",
              "557   2013        47  12/04/2013 a 09/05/2013  AC               RIO BRANCO   \n",
              "685   2014        21  11/03/2014 a 21/03/2014  AC           SENA MADUREIRA   \n",
              "...    ...       ...                      ...  ..                      ...   \n",
              "1007  2017        24  28/03/2017 a 07/04/2017  TO                 ARAPOEMA   \n",
              "1033  2017        73  01/08/2017 a 11/08/2017  TO               ARAGUATINS   \n",
              "1123  2018        83  09/10/2018 a 19/10/2018  TO  SANTA RITA DO TOCANTINS   \n",
              "1205  2019        34  21/06/2019 a 23/07/2019  TO           BERNARDO SAYÃO   \n",
              "1343  2020        69  15/09/2020 a 25/09/2020  TO              NOVA OLINDA   \n",
              "\n",
              "         CNAE        Descrição CNAE                       Proprietário  \\\n",
              "7     0151202  CRIAÇÃO DE BOVINOS P      ROQUE REIS BARREIROS JÚNIOR\\n   \n",
              "252   0151201  CRIAÇÃO DE BOVINOS P       FERNANDO BARBOSA TEIXEIRA -    \n",
              "337   0151201  CRIAÇÃO DE BOVINOS P                          RUI PINTO   \n",
              "557   0151201  CRIAÇÃO DE BOVINOS P              MOZAR MARCONDES FILHO   \n",
              "685   1092900  FABRICAÇÃO DE BISCOI  MIRAGINA S/A INDÚSTRIA E COMÉRCIO   \n",
              "...       ...                   ...                                ...   \n",
              "1007  0151201  CRIAÇÃO DE BOVINOS P      JOAQUIM HENRIQUE ELIAS SOARES   \n",
              "1033  0151203  CRIAÇÃO DE BOVINOS,                OSEMAR CRUZ MOUZINHO   \n",
              "1123  0220902  PRODUÇÃO DE CARVÃO V            D M DE FREITAS - CARVÃO   \n",
              "1205  0151201  CRIAÇÃO DE BOVINOS P                   JOSÉ ROSA JÚNIOR   \n",
              "1343  0151201  CRIAÇÃO DE BOVINOS P                     AUGUSTO GRATÃO   \n",
              "\n",
              "        CNPJ/CEI/CPF                       Estabelecimento Inspecionado  \\\n",
              "7        33954305291                                   FAZENDA HARMONIA   \n",
              "252      61773930125                                 FAZENDA VALE VERDE   \n",
              "337      73757187768                                  FAZENDA MASSIPIRA   \n",
              "557      33574090978                        FAZENDA AGOPECUÁRIA SORRISO   \n",
              "685    4063681000198                                 FAZENDA MIRAGINA I   \n",
              "...              ...                                                ...   \n",
              "1007     74476009620                                     FAZENDA PONTAL   \n",
              "1033     62634119100  FAZENDAS SENHOR DO BONFIM, CASA VERDE E ROQUINHO    \n",
              "1123  16804341000150  FAZENDA SÃO SEBASTIÃO - LOT DUERE S/N - ZONA R...   \n",
              "1205     37760980159  FAZENDA MACEDÔNIA I - RODOVIA TO-430, BERNARDO...   \n",
              "1343      1592742149                                     FAZENDA GRATÃO   \n",
              "\n",
              "      Nº Trab. cond. analog escravo  \n",
              "7                                 8  \n",
              "252                               8  \n",
              "337                               7  \n",
              "557                              13  \n",
              "685                               1  \n",
              "...                             ...  \n",
              "1007                              7  \n",
              "1033                              8  \n",
              "1123                              9  \n",
              "1205                              4  \n",
              "1343                              5  \n",
              "\n",
              "[1387 rows x 11 columns]"
            ],
            "text/html": [
              "\n",
              "  <div id=\"df-ece78fd9-5719-4b22-98d9-f6449b2e7930\">\n",
              "    <div class=\"colab-df-container\">\n",
              "      <div>\n",
              "<style scoped>\n",
              "    .dataframe tbody tr th:only-of-type {\n",
              "        vertical-align: middle;\n",
              "    }\n",
              "\n",
              "    .dataframe tbody tr th {\n",
              "        vertical-align: top;\n",
              "    }\n",
              "\n",
              "    .dataframe thead th {\n",
              "        text-align: right;\n",
              "    }\n",
              "</style>\n",
              "<table border=\"1\" class=\"dataframe\">\n",
              "  <thead>\n",
              "    <tr style=\"text-align: right;\">\n",
              "      <th></th>\n",
              "      <th>Ano</th>\n",
              "      <th>Operação</th>\n",
              "      <th>Dia/Mês</th>\n",
              "      <th>UF</th>\n",
              "      <th>Município</th>\n",
              "      <th>CNAE</th>\n",
              "      <th>Descrição CNAE</th>\n",
              "      <th>Proprietário</th>\n",
              "      <th>CNPJ/CEI/CPF</th>\n",
              "      <th>Estabelecimento Inspecionado</th>\n",
              "      <th>Nº Trab. cond. analog escravo</th>\n",
              "    </tr>\n",
              "  </thead>\n",
              "  <tbody>\n",
              "    <tr>\n",
              "      <th>7</th>\n",
              "      <td>2010</td>\n",
              "      <td>7</td>\n",
              "      <td>22/01/2010 a 18/02/2010</td>\n",
              "      <td>AC</td>\n",
              "      <td>PORTO ACRE</td>\n",
              "      <td>0151202</td>\n",
              "      <td>CRIAÇÃO DE BOVINOS P</td>\n",
              "      <td>ROQUE REIS BARREIROS JÚNIOR\\n</td>\n",
              "      <td>33954305291</td>\n",
              "      <td>FAZENDA HARMONIA</td>\n",
              "      <td>8</td>\n",
              "    </tr>\n",
              "    <tr>\n",
              "      <th>252</th>\n",
              "      <td>2011</td>\n",
              "      <td>69</td>\n",
              "      <td>11/05/2011 a 07/06/2011</td>\n",
              "      <td>AC</td>\n",
              "      <td>PLÁCIDO DE CASTRO</td>\n",
              "      <td>0151201</td>\n",
              "      <td>CRIAÇÃO DE BOVINOS P</td>\n",
              "      <td>FERNANDO BARBOSA TEIXEIRA -</td>\n",
              "      <td>61773930125</td>\n",
              "      <td>FAZENDA VALE VERDE</td>\n",
              "      <td>8</td>\n",
              "    </tr>\n",
              "    <tr>\n",
              "      <th>337</th>\n",
              "      <td>2011</td>\n",
              "      <td>151</td>\n",
              "      <td>23/08/2011 a 22/11/2011</td>\n",
              "      <td>AC</td>\n",
              "      <td>FEIJÓ</td>\n",
              "      <td>0151201</td>\n",
              "      <td>CRIAÇÃO DE BOVINOS P</td>\n",
              "      <td>RUI PINTO</td>\n",
              "      <td>73757187768</td>\n",
              "      <td>FAZENDA MASSIPIRA</td>\n",
              "      <td>7</td>\n",
              "    </tr>\n",
              "    <tr>\n",
              "      <th>557</th>\n",
              "      <td>2013</td>\n",
              "      <td>47</td>\n",
              "      <td>12/04/2013 a 09/05/2013</td>\n",
              "      <td>AC</td>\n",
              "      <td>RIO BRANCO</td>\n",
              "      <td>0151201</td>\n",
              "      <td>CRIAÇÃO DE BOVINOS P</td>\n",
              "      <td>MOZAR MARCONDES FILHO</td>\n",
              "      <td>33574090978</td>\n",
              "      <td>FAZENDA AGOPECUÁRIA SORRISO</td>\n",
              "      <td>13</td>\n",
              "    </tr>\n",
              "    <tr>\n",
              "      <th>685</th>\n",
              "      <td>2014</td>\n",
              "      <td>21</td>\n",
              "      <td>11/03/2014 a 21/03/2014</td>\n",
              "      <td>AC</td>\n",
              "      <td>SENA MADUREIRA</td>\n",
              "      <td>1092900</td>\n",
              "      <td>FABRICAÇÃO DE BISCOI</td>\n",
              "      <td>MIRAGINA S/A INDÚSTRIA E COMÉRCIO</td>\n",
              "      <td>4063681000198</td>\n",
              "      <td>FAZENDA MIRAGINA I</td>\n",
              "      <td>1</td>\n",
              "    </tr>\n",
              "    <tr>\n",
              "      <th>...</th>\n",
              "      <td>...</td>\n",
              "      <td>...</td>\n",
              "      <td>...</td>\n",
              "      <td>...</td>\n",
              "      <td>...</td>\n",
              "      <td>...</td>\n",
              "      <td>...</td>\n",
              "      <td>...</td>\n",
              "      <td>...</td>\n",
              "      <td>...</td>\n",
              "      <td>...</td>\n",
              "    </tr>\n",
              "    <tr>\n",
              "      <th>1007</th>\n",
              "      <td>2017</td>\n",
              "      <td>24</td>\n",
              "      <td>28/03/2017 a 07/04/2017</td>\n",
              "      <td>TO</td>\n",
              "      <td>ARAPOEMA</td>\n",
              "      <td>0151201</td>\n",
              "      <td>CRIAÇÃO DE BOVINOS P</td>\n",
              "      <td>JOAQUIM HENRIQUE ELIAS SOARES</td>\n",
              "      <td>74476009620</td>\n",
              "      <td>FAZENDA PONTAL</td>\n",
              "      <td>7</td>\n",
              "    </tr>\n",
              "    <tr>\n",
              "      <th>1033</th>\n",
              "      <td>2017</td>\n",
              "      <td>73</td>\n",
              "      <td>01/08/2017 a 11/08/2017</td>\n",
              "      <td>TO</td>\n",
              "      <td>ARAGUATINS</td>\n",
              "      <td>0151203</td>\n",
              "      <td>CRIAÇÃO DE BOVINOS,</td>\n",
              "      <td>OSEMAR CRUZ MOUZINHO</td>\n",
              "      <td>62634119100</td>\n",
              "      <td>FAZENDAS SENHOR DO BONFIM, CASA VERDE E ROQUINHO</td>\n",
              "      <td>8</td>\n",
              "    </tr>\n",
              "    <tr>\n",
              "      <th>1123</th>\n",
              "      <td>2018</td>\n",
              "      <td>83</td>\n",
              "      <td>09/10/2018 a 19/10/2018</td>\n",
              "      <td>TO</td>\n",
              "      <td>SANTA RITA DO TOCANTINS</td>\n",
              "      <td>0220902</td>\n",
              "      <td>PRODUÇÃO DE CARVÃO V</td>\n",
              "      <td>D M DE FREITAS - CARVÃO</td>\n",
              "      <td>16804341000150</td>\n",
              "      <td>FAZENDA SÃO SEBASTIÃO - LOT DUERE S/N - ZONA R...</td>\n",
              "      <td>9</td>\n",
              "    </tr>\n",
              "    <tr>\n",
              "      <th>1205</th>\n",
              "      <td>2019</td>\n",
              "      <td>34</td>\n",
              "      <td>21/06/2019 a 23/07/2019</td>\n",
              "      <td>TO</td>\n",
              "      <td>BERNARDO SAYÃO</td>\n",
              "      <td>0151201</td>\n",
              "      <td>CRIAÇÃO DE BOVINOS P</td>\n",
              "      <td>JOSÉ ROSA JÚNIOR</td>\n",
              "      <td>37760980159</td>\n",
              "      <td>FAZENDA MACEDÔNIA I - RODOVIA TO-430, BERNARDO...</td>\n",
              "      <td>4</td>\n",
              "    </tr>\n",
              "    <tr>\n",
              "      <th>1343</th>\n",
              "      <td>2020</td>\n",
              "      <td>69</td>\n",
              "      <td>15/09/2020 a 25/09/2020</td>\n",
              "      <td>TO</td>\n",
              "      <td>NOVA OLINDA</td>\n",
              "      <td>0151201</td>\n",
              "      <td>CRIAÇÃO DE BOVINOS P</td>\n",
              "      <td>AUGUSTO GRATÃO</td>\n",
              "      <td>1592742149</td>\n",
              "      <td>FAZENDA GRATÃO</td>\n",
              "      <td>5</td>\n",
              "    </tr>\n",
              "  </tbody>\n",
              "</table>\n",
              "<p>1387 rows × 11 columns</p>\n",
              "</div>\n",
              "      <button class=\"colab-df-convert\" onclick=\"convertToInteractive('df-ece78fd9-5719-4b22-98d9-f6449b2e7930')\"\n",
              "              title=\"Convert this dataframe to an interactive table.\"\n",
              "              style=\"display:none;\">\n",
              "        \n",
              "  <svg xmlns=\"http://www.w3.org/2000/svg\" height=\"24px\"viewBox=\"0 0 24 24\"\n",
              "       width=\"24px\">\n",
              "    <path d=\"M0 0h24v24H0V0z\" fill=\"none\"/>\n",
              "    <path d=\"M18.56 5.44l.94 2.06.94-2.06 2.06-.94-2.06-.94-.94-2.06-.94 2.06-2.06.94zm-11 1L8.5 8.5l.94-2.06 2.06-.94-2.06-.94L8.5 2.5l-.94 2.06-2.06.94zm10 10l.94 2.06.94-2.06 2.06-.94-2.06-.94-.94-2.06-.94 2.06-2.06.94z\"/><path d=\"M17.41 7.96l-1.37-1.37c-.4-.4-.92-.59-1.43-.59-.52 0-1.04.2-1.43.59L10.3 9.45l-7.72 7.72c-.78.78-.78 2.05 0 2.83L4 21.41c.39.39.9.59 1.41.59.51 0 1.02-.2 1.41-.59l7.78-7.78 2.81-2.81c.8-.78.8-2.07 0-2.86zM5.41 20L4 18.59l7.72-7.72 1.47 1.35L5.41 20z\"/>\n",
              "  </svg>\n",
              "      </button>\n",
              "      \n",
              "  <style>\n",
              "    .colab-df-container {\n",
              "      display:flex;\n",
              "      flex-wrap:wrap;\n",
              "      gap: 12px;\n",
              "    }\n",
              "\n",
              "    .colab-df-convert {\n",
              "      background-color: #E8F0FE;\n",
              "      border: none;\n",
              "      border-radius: 50%;\n",
              "      cursor: pointer;\n",
              "      display: none;\n",
              "      fill: #1967D2;\n",
              "      height: 32px;\n",
              "      padding: 0 0 0 0;\n",
              "      width: 32px;\n",
              "    }\n",
              "\n",
              "    .colab-df-convert:hover {\n",
              "      background-color: #E2EBFA;\n",
              "      box-shadow: 0px 1px 2px rgba(60, 64, 67, 0.3), 0px 1px 3px 1px rgba(60, 64, 67, 0.15);\n",
              "      fill: #174EA6;\n",
              "    }\n",
              "\n",
              "    [theme=dark] .colab-df-convert {\n",
              "      background-color: #3B4455;\n",
              "      fill: #D2E3FC;\n",
              "    }\n",
              "\n",
              "    [theme=dark] .colab-df-convert:hover {\n",
              "      background-color: #434B5C;\n",
              "      box-shadow: 0px 1px 3px 1px rgba(0, 0, 0, 0.15);\n",
              "      filter: drop-shadow(0px 1px 2px rgba(0, 0, 0, 0.3));\n",
              "      fill: #FFFFFF;\n",
              "    }\n",
              "  </style>\n",
              "\n",
              "      <script>\n",
              "        const buttonEl =\n",
              "          document.querySelector('#df-ece78fd9-5719-4b22-98d9-f6449b2e7930 button.colab-df-convert');\n",
              "        buttonEl.style.display =\n",
              "          google.colab.kernel.accessAllowed ? 'block' : 'none';\n",
              "\n",
              "        async function convertToInteractive(key) {\n",
              "          const element = document.querySelector('#df-ece78fd9-5719-4b22-98d9-f6449b2e7930');\n",
              "          const dataTable =\n",
              "            await google.colab.kernel.invokeFunction('convertToInteractive',\n",
              "                                                     [key], {});\n",
              "          if (!dataTable) return;\n",
              "\n",
              "          const docLinkHtml = 'Like what you see? Visit the ' +\n",
              "            '<a target=\"_blank\" href=https://colab.research.google.com/notebooks/data_table.ipynb>data table notebook</a>'\n",
              "            + ' to learn more about interactive tables.';\n",
              "          element.innerHTML = '';\n",
              "          dataTable['output_type'] = 'display_data';\n",
              "          await google.colab.output.renderOutput(dataTable, element);\n",
              "          const docLink = document.createElement('div');\n",
              "          docLink.innerHTML = docLinkHtml;\n",
              "          element.appendChild(docLink);\n",
              "        }\n",
              "      </script>\n",
              "    </div>\n",
              "  </div>\n",
              "  "
            ]
          },
          "metadata": {},
          "execution_count": 72
        }
      ],
      "source": [
        "#Ordenas por mais de uma coluna\n",
        "df_empresas.sort_values(['UF','Ano'])"
      ]
    },
    {
      "cell_type": "markdown",
      "metadata": {
        "id": "e7yLrQS13VLq"
      },
      "source": [
        "### Filtrando os dados"
      ]
    },
    {
      "cell_type": "markdown",
      "metadata": {
        "id": "2ARSqtmC3ghn"
      },
      "source": [
        "**Filtro de coluna**"
      ]
    },
    {
      "cell_type": "code",
      "execution_count": 73,
      "metadata": {
        "id": "Lw2dmiQG3UmQ",
        "colab": {
          "base_uri": "https://localhost:8080/"
        },
        "outputId": "9981ee2f-960d-4162-cb49-01f091d1ecc7"
      },
      "outputs": [
        {
          "output_type": "execute_result",
          "data": {
            "text/plain": [
              "0       GO\n",
              "1       GO\n",
              "2       TO\n",
              "3       PA\n",
              "4       PA\n",
              "        ..\n",
              "1382    MG\n",
              "1383    PA\n",
              "1384    PA\n",
              "1385    PI\n",
              "1386    MS\n",
              "Name: UF, Length: 1387, dtype: object"
            ]
          },
          "metadata": {},
          "execution_count": 73
        }
      ],
      "source": [
        "df_empresas.UF"
      ]
    },
    {
      "cell_type": "code",
      "execution_count": 74,
      "metadata": {
        "id": "hfCpLyHS3s6T",
        "colab": {
          "base_uri": "https://localhost:8080/"
        },
        "outputId": "09f5a206-f7eb-400b-8a6c-060687b87695"
      },
      "outputs": [
        {
          "output_type": "execute_result",
          "data": {
            "text/plain": [
              "0           MONTE ALEGRE DE GOIÁS\n",
              "1           MONTE ALEGRE DE GOIÁS\n",
              "2                      NATIVIDADE\n",
              "3                          MARABÁ\n",
              "4       SANTA MARIA DAS BARREIRAS\n",
              "                  ...            \n",
              "1382                MONTES CLAROS\n",
              "1383               RONDON DO PARÁ\n",
              "1384               RONDON DO PARÁ\n",
              "1385                     PARNAÍBA\n",
              "1386                      NIOAQUE\n",
              "Name: Município, Length: 1387, dtype: object"
            ]
          },
          "metadata": {},
          "execution_count": 74
        }
      ],
      "source": [
        "df_empresas['Município']"
      ]
    },
    {
      "cell_type": "code",
      "execution_count": 75,
      "metadata": {
        "id": "01Us8vXb3-J-",
        "colab": {
          "base_uri": "https://localhost:8080/"
        },
        "outputId": "3fbf7a66-e3ba-4416-c3f0-86b025a78daf"
      },
      "outputs": [
        {
          "output_type": "execute_result",
          "data": {
            "text/plain": [
              "array(['CRIAÇÃO DE BOVINOS P', 'CULTIVO DE OUTRAS PL',\n",
              "       'CULTIVO DE BATATA-IN', 'EXTRAÇÃO DE MADEIRA ',\n",
              "       'PRODUÇÃO DE CARVÃO V', 'CULTIVO DE CANA-DE-A', 'CULTIVO DE MAÇÃ',\n",
              "       'CULTIVO DE SOJA', 'CULTIVO DE PINUS', 'CULTIVO DE CACAU',\n",
              "       'CONSTRUÇÃO DE EDIFÍC', 'ATIVIDADES DE APOIO ', 'CULTIVO DE CAFÉ',\n",
              "       'CULTIVO DE ERVA-MATE', 'FABRICAÇÃO DE ARTEFA',\n",
              "       'PRODUÇÃO DE SEMENTES', 'CRIAÇÃO DE BOVINOS, ',\n",
              "       'CONSTRUÇÃO DE RODOVI', 'EXTRAÇÃO DE AREIA, C',\n",
              "       'CULTIVO DE MORANGO', 'OBRAS DE TERRAPLENAG',\n",
              "       'EXTRAÇÃO DE MINÉRIOS', 'EXTRAÇÃO DE CALCÁRIO',\n",
              "       'SERRARIAS COM DESDOB', 'CULTIVO DE FEIJÃO',\n",
              "       'EXTRAÇÃO DE MINÉRIO ', 'CULTIVO DE MILHO', 'SERVIÇOS DE ENGENHAR',\n",
              "       'DISCOTECAS, DANCETER', 'TRANSPORTE FERROVIÁR',\n",
              "       'SERRARIAS SEM DESDOB', 'SERVIÇO DE PREPARAÇÃ',\n",
              "       'CONFECÇÃO DE PEÇAS D', 'CULTIVO DE ARROZ', 'CULTIVO DE FUMO',\n",
              "       'CULTIVO DE ABACAXI', 'CULTIVO DE SERINGUEI',\n",
              "       'COMÉRCIO VAREJISTA D', 'HOTÉIS', 'CULTIVO DE EUCALIPTO',\n",
              "       'INCORPORAÇÃO DE EMPR', 'FABRICAÇÃO DE MADEIR',\n",
              "       'CULTIVO DE ESPÉCIES ', 'RESTAURANTES E SIMIL',\n",
              "       'COMERCIO VAREJISTA D', 'CULTIVO DE AÇAÍ', 'FABRICAÇÃO DE PRODUT',\n",
              "       'EXTRAÇÃO DE QUARTZO', 'EXTRAÇÃO E BRITAMENT',\n",
              "       'MANUTENÇÃO DE REDES ', 'CONSTRUÇÃO DE ESTAÇÕ', 'FLORICULTURA',\n",
              "       'CULTIVO DE COCO-DA-B', 'COMÉRCIO ATACADISTA ',\n",
              "       'MOAGEM E FABRICAÇÃO ', 'PRODUÇÃO DE CASCA DE',\n",
              "       'OBRAS DE URBANIZAÇÃO', 'TRANSPORTE RODOVIÁRI',\n",
              "       'CULTIVO DE FRUTAS DE', 'CRIAÇÃO DE SUÍNOS',\n",
              "       'EXTRAÇÃO DE CARVÃO M', 'OUTRAS OBRAS DE ENGE',\n",
              "       'OUTRAS ATIVIDADES DE', 'PRODUÇÃO DE PRODUTOS',\n",
              "       'FABRICAÇÃO DE ESTRUT', 'FABRICAÇÃO DE CONSER',\n",
              "       'PRODUÇÃO DE FERRO-GU', 'CULTIVO DE TOMATE RA',\n",
              "       'EXTRAÇÃO DE GRANITO ', 'COMPRA E VENDA DE IM',\n",
              "       'COLETA DE RESÍDUOS N', 'CARGA E DESCARGA', 'CULTIVO DE DENDÊ',\n",
              "       'CRIAÇÃO DE OUTROS AN', 'FABRICAÇÃO DE ÁLCOOL',\n",
              "       'CULTIVO DE LARANJA', 'COLETA DE PRODUTOS N',\n",
              "       'ATIVIDADES DE TRANSP', 'ATIVIDADES DE ASSOCI',\n",
              "       'HORTICULTURA, EXCETO', 'CULTIVO DE OUTRAS OL',\n",
              "       'OBRAS DE ALVENARIA', 'PESCA DE PEIXES EM Á',\n",
              "       'FABRICAÇÃO DE AÇÚCAR', 'CULTIVO DE TECA', 'REFINO E OUTROS TRAT',\n",
              "       'HOLDINGS DE INSTITUI', 'CULTIVO DE MANDIOCA',\n",
              "       'OBRAS DE ACABAMENTO ', 'INSTALAÇÃO DE PORTAS',\n",
              "       'FACÇÃO DE PEÇAS DO V', 'SERVIÇOS DE ENTREGA ',\n",
              "       'CRIAÇÃO DE FRANGOS P', 'SERVIÇOS DE CONFECÇÃ',\n",
              "       'INSTALAÇÃO E MANUTEN', 'CULTIVO DE BANANA',\n",
              "       'SERVIÇOS ESPECIALIZA', 'EXTRAÇÃO DE BASALTO ',\n",
              "       'MONTAGEM DE ESTRUTUR', 'FABRICAÇÃO DE OBRAS ',\n",
              "       'LANCHONETES, CASAS D', 'TRANSPORTE MARÍTIMO ',\n",
              "       'FABRICAÇÃO DE BISCOI', 'COLETA DE CASTANHA-D',\n",
              "       'OBRAS DE MONTAGEM IN', 'EXTRAÇÃO DE OUTROS M', 'CULTIVO DE MANGA',\n",
              "       'CULTIVO DE MARACUJÁ', 'OUTRAS OBRAS DE ACAB',\n",
              "       'CLUBES SOCIAIS, ESPO', 'PREPARAÇÃO E FIAÇÃO ',\n",
              "       'FABRICAÇÃO DE OUTROS', 'PROCESSAMENTO INDUST',\n",
              "       'CULTIVO DE CEBOLA', 'REPRESENTANTES COMER',\n",
              "       'EXTRAÇÃO DE SAL MARI', 'TOALHEIROS', 'ABATE DE AVES',\n",
              "       'ARMAZÉNS GERAIS - EM', 'CONFECÇÃO, SOB MEDID',\n",
              "       'FILMAGEM DE FESTAS E', 'FABRICAÇÃO DE CIMENT',\n",
              "       'CONFECÇÃO DE ROUPAS ', 'CONSTRUÇÃO DE REDES ',\n",
              "       'FABRICAÇÃO DE BIJUTE', 'OUTROS ALOJAMENTOS N',\n",
              "       'CRIAÇÃO DE EQÜINOS', 'INSTALAÇÕES HIDRÁULI',\n",
              "       'PRODUÇÃO DE ESPETÁCU', 'PRODUÇÃO DE OVOS', 'FABRICAÇÃO DE OUTRAS',\n",
              "       'COLETA DE PALMITO EM', 'SERVIÇOS DOMÉSTICOS',\n",
              "       'ALUGUEL DE PALCOS, C', 'PREPARAÇÃO DE DOCUME',\n",
              "       'ATIVIDADES DE CONSUL', 'ALUGUEL DE IMÓVEIS P',\n",
              "       'FABRICAÇÃO DE FARINH', 'PREPARAÇÃO DE CANTEI',\n",
              "       'ALUGUEL DE OUTRAS MÁ', 'CULTIVO DE OUTROS CE',\n",
              "       'FABRICAÇÃO DE MÓVEIS', 'FABRICAÇÃO DE ÓLEOS ',\n",
              "       'PARQUES DE DIVERSÃO ', 'EXTRAÇÃO DE GESSO E ',\n",
              "       'BENEFICIAMENTO DE GE', 'FABRICAÇÃO DE MATERI',\n",
              "       'EXTRAÇÃO DE SAIBRO E', 'SERVIÇOS AMBULANTES ', nan,\n",
              "       'CRIAÇÃO DE OUTROS GA', 'MOTÉIS', 'EXTRAÇÃO DE GEMAS (P',\n",
              "       'PERFURAÇÃO E CONSTRU', 'CULTIVO DE MUDAS EM '], dtype=object)"
            ]
          },
          "metadata": {},
          "execution_count": 75
        }
      ],
      "source": [
        "df_empresas['Descrição CNAE'].unique()"
      ]
    },
    {
      "cell_type": "code",
      "execution_count": 76,
      "metadata": {
        "id": "KVlIlDvv4QVH",
        "colab": {
          "base_uri": "https://localhost:8080/"
        },
        "outputId": "7bc4a33d-c7e9-4639-ff1b-fbe4739197f9"
      },
      "outputs": [
        {
          "output_type": "execute_result",
          "data": {
            "text/plain": [
              "SÃO PAULO                   53\n",
              "RIO DE JANEIRO              33\n",
              "SÃO FÉLIX DO XINGU          30\n",
              "NOVO REPARTIMENTO           17\n",
              "BELO HORIZONTE              16\n",
              "                            ..\n",
              "SANTA TEREZINHA              1\n",
              "MATÃO                        1\n",
              "SÃO PEDRO DA ÁGUA BRANCA     1\n",
              "MATUPÁ                       1\n",
              "NIOAQUE                      1\n",
              "Name: Município, Length: 659, dtype: int64"
            ]
          },
          "metadata": {},
          "execution_count": 76
        }
      ],
      "source": [
        "#Contar valores\n",
        "df_empresas['Município'].value_counts()"
      ]
    },
    {
      "cell_type": "markdown",
      "metadata": {
        "id": "c-zQMcSD4m_3"
      },
      "source": [
        "Para colunas numérias:\n",
        "\n",
        "*  `min()` pega o menor valor\n",
        "*  `max()` pega o maior valor\n",
        "*  `median()` pega a mediana\n",
        "*  `mean()` pega a média\n",
        "*  `mode()` pega o valor mais comum"
      ]
    },
    {
      "cell_type": "code",
      "execution_count": 77,
      "metadata": {
        "id": "L5_UxMR24k0H",
        "colab": {
          "base_uri": "https://localhost:8080/"
        },
        "outputId": "d02b41fe-39d5-4fb5-cbf8-fa54361ca927"
      },
      "outputs": [
        {
          "output_type": "execute_result",
          "data": {
            "text/plain": [
              "433"
            ]
          },
          "metadata": {},
          "execution_count": 77
        }
      ],
      "source": [
        "df_empresas['Nº Trab. cond. analog escravo'].max()"
      ]
    },
    {
      "cell_type": "code",
      "execution_count": 78,
      "metadata": {
        "id": "J7tjlM_G7iSM",
        "colab": {
          "base_uri": "https://localhost:8080/",
          "height": 598
        },
        "outputId": "ec84a915-2d80-43c1-980e-ae91fc612453"
      },
      "outputs": [
        {
          "output_type": "execute_result",
          "data": {
            "text/plain": [
              "       Ano  Operação                  Dia/Mês  UF   Município     CNAE  \\\n",
              "494   2012       122  28/03/2012 a 23/11/2012  PE  ÁGUA PRETA  0113000   \n",
              "512   2012       142  13/02/2012 a 19/03/2012  PE      RECIFE  6462000   \n",
              "528   2013        19  14/02/2013 a 04/03/2013  PE   PETROLINA  4330403   \n",
              "530   2013        21  04/03/2013 a 12/03/2013  PE    TORITAMA  1412601   \n",
              "725   2014        65  26/06/2014 a 02/07/2014  PE   PETROLINA  0133410   \n",
              "1198  2019        24  21/05/2019 a 31/05/2019  PE   ARARIPINA  1063500   \n",
              "1218  2019        48  09/04/2019 a 30/05/2019  PE   ARCOVERDE  0119999   \n",
              "1286  2019       159  28/08/2019 a 16/03/2020  PE   ARAÇOIABA  1071600   \n",
              "1288  2019       162  28/08/2019 a 07/05/2020  PE   ARAÇOIABA  0113000   \n",
              "1301  2020         2  27/01/2020 a 07/02/2020  PE      OLINDA  4120400   \n",
              "\n",
              "            Descrição CNAE                          Proprietário  \\\n",
              "494   CULTIVO DE CANA-DE-A  MARCO ANTONIO MOURA DE ARRUDA FALCÃO   \n",
              "512   HOLDINGS DE INSTITUI                   RIOMAR SHOPPING S.A   \n",
              "528   OBRAS DE ACABAMENTO                   GESSO BRASIL LTDA ME   \n",
              "530   CONFECÇÃO DE PEÇAS D        DILMA FIGUEREDO DA SILVA - ME    \n",
              "725       CULTIVO DE MANGA     MANDACARU AGROPECUÁRIA LTDA - EPP   \n",
              "1198  FABRICAÇÃO DE FARINH                   JOSÉ PEDRO DA SILVA   \n",
              "1218  CULTIVO DE OUTRAS PL            EDSON PORFIRIO DE CARVALHO   \n",
              "1286  FABRICAÇÃO DE AÇÚCAR                    USINA SAO JOSE S/A   \n",
              "1288  CULTIVO DE CANA-DE-A                     USINA SÃO JOSÉ SA   \n",
              "1301  CONSTRUÇÃO DE EDIFÍC            CONSTRUTORA INGAZEIRA LTDA   \n",
              "\n",
              "        CNPJ/CEI/CPF                       Estabelecimento Inspecionado  \\\n",
              "494      53156781487                                  ENGENHO CORRIENTE   \n",
              "512    8853970000141                               RIOMAR SHOPPING S.A    \n",
              "528   11340292000128                               GESSO BRASIL LTDA ME   \n",
              "530    6005121000102                                         MOD'GRRIFF   \n",
              "725   10613545000127                                  FAZENDA MANDACARU   \n",
              "1198     63333783304  CASA DE FARINHA SÃO PEDRO, RUA ATRAS DA RUA 06...   \n",
              "1218     50791532453  FAZENDA MALHADA - RODOVIA BR 232, KM 262/264, ...   \n",
              "1286  10362820000187                              ENGENHO CUMBE DE CIMA   \n",
              "1288  10362820000187   ENGENHO CUMBE DE CIMA, SITUADO NA ZONA RURAL, DO   \n",
              "1301    749205000174  OBRA LOCALIZADA NA AVENIDA BEIRA RIO, BAIRRO D...   \n",
              "\n",
              "      Nº Trab. cond. analog escravo  \n",
              "494                              19  \n",
              "512                               6  \n",
              "528                               1  \n",
              "530                               7  \n",
              "725                               8  \n",
              "1198                              5  \n",
              "1218                             10  \n",
              "1286                             45  \n",
              "1288                             45  \n",
              "1301                             10  "
            ],
            "text/html": [
              "\n",
              "  <div id=\"df-45a4c3f7-34dc-4554-ad27-4fe0d2694690\">\n",
              "    <div class=\"colab-df-container\">\n",
              "      <div>\n",
              "<style scoped>\n",
              "    .dataframe tbody tr th:only-of-type {\n",
              "        vertical-align: middle;\n",
              "    }\n",
              "\n",
              "    .dataframe tbody tr th {\n",
              "        vertical-align: top;\n",
              "    }\n",
              "\n",
              "    .dataframe thead th {\n",
              "        text-align: right;\n",
              "    }\n",
              "</style>\n",
              "<table border=\"1\" class=\"dataframe\">\n",
              "  <thead>\n",
              "    <tr style=\"text-align: right;\">\n",
              "      <th></th>\n",
              "      <th>Ano</th>\n",
              "      <th>Operação</th>\n",
              "      <th>Dia/Mês</th>\n",
              "      <th>UF</th>\n",
              "      <th>Município</th>\n",
              "      <th>CNAE</th>\n",
              "      <th>Descrição CNAE</th>\n",
              "      <th>Proprietário</th>\n",
              "      <th>CNPJ/CEI/CPF</th>\n",
              "      <th>Estabelecimento Inspecionado</th>\n",
              "      <th>Nº Trab. cond. analog escravo</th>\n",
              "    </tr>\n",
              "  </thead>\n",
              "  <tbody>\n",
              "    <tr>\n",
              "      <th>494</th>\n",
              "      <td>2012</td>\n",
              "      <td>122</td>\n",
              "      <td>28/03/2012 a 23/11/2012</td>\n",
              "      <td>PE</td>\n",
              "      <td>ÁGUA PRETA</td>\n",
              "      <td>0113000</td>\n",
              "      <td>CULTIVO DE CANA-DE-A</td>\n",
              "      <td>MARCO ANTONIO MOURA DE ARRUDA FALCÃO</td>\n",
              "      <td>53156781487</td>\n",
              "      <td>ENGENHO CORRIENTE</td>\n",
              "      <td>19</td>\n",
              "    </tr>\n",
              "    <tr>\n",
              "      <th>512</th>\n",
              "      <td>2012</td>\n",
              "      <td>142</td>\n",
              "      <td>13/02/2012 a 19/03/2012</td>\n",
              "      <td>PE</td>\n",
              "      <td>RECIFE</td>\n",
              "      <td>6462000</td>\n",
              "      <td>HOLDINGS DE INSTITUI</td>\n",
              "      <td>RIOMAR SHOPPING S.A</td>\n",
              "      <td>8853970000141</td>\n",
              "      <td>RIOMAR SHOPPING S.A</td>\n",
              "      <td>6</td>\n",
              "    </tr>\n",
              "    <tr>\n",
              "      <th>528</th>\n",
              "      <td>2013</td>\n",
              "      <td>19</td>\n",
              "      <td>14/02/2013 a 04/03/2013</td>\n",
              "      <td>PE</td>\n",
              "      <td>PETROLINA</td>\n",
              "      <td>4330403</td>\n",
              "      <td>OBRAS DE ACABAMENTO</td>\n",
              "      <td>GESSO BRASIL LTDA ME</td>\n",
              "      <td>11340292000128</td>\n",
              "      <td>GESSO BRASIL LTDA ME</td>\n",
              "      <td>1</td>\n",
              "    </tr>\n",
              "    <tr>\n",
              "      <th>530</th>\n",
              "      <td>2013</td>\n",
              "      <td>21</td>\n",
              "      <td>04/03/2013 a 12/03/2013</td>\n",
              "      <td>PE</td>\n",
              "      <td>TORITAMA</td>\n",
              "      <td>1412601</td>\n",
              "      <td>CONFECÇÃO DE PEÇAS D</td>\n",
              "      <td>DILMA FIGUEREDO DA SILVA - ME</td>\n",
              "      <td>6005121000102</td>\n",
              "      <td>MOD'GRRIFF</td>\n",
              "      <td>7</td>\n",
              "    </tr>\n",
              "    <tr>\n",
              "      <th>725</th>\n",
              "      <td>2014</td>\n",
              "      <td>65</td>\n",
              "      <td>26/06/2014 a 02/07/2014</td>\n",
              "      <td>PE</td>\n",
              "      <td>PETROLINA</td>\n",
              "      <td>0133410</td>\n",
              "      <td>CULTIVO DE MANGA</td>\n",
              "      <td>MANDACARU AGROPECUÁRIA LTDA - EPP</td>\n",
              "      <td>10613545000127</td>\n",
              "      <td>FAZENDA MANDACARU</td>\n",
              "      <td>8</td>\n",
              "    </tr>\n",
              "    <tr>\n",
              "      <th>1198</th>\n",
              "      <td>2019</td>\n",
              "      <td>24</td>\n",
              "      <td>21/05/2019 a 31/05/2019</td>\n",
              "      <td>PE</td>\n",
              "      <td>ARARIPINA</td>\n",
              "      <td>1063500</td>\n",
              "      <td>FABRICAÇÃO DE FARINH</td>\n",
              "      <td>JOSÉ PEDRO DA SILVA</td>\n",
              "      <td>63333783304</td>\n",
              "      <td>CASA DE FARINHA SÃO PEDRO, RUA ATRAS DA RUA 06...</td>\n",
              "      <td>5</td>\n",
              "    </tr>\n",
              "    <tr>\n",
              "      <th>1218</th>\n",
              "      <td>2019</td>\n",
              "      <td>48</td>\n",
              "      <td>09/04/2019 a 30/05/2019</td>\n",
              "      <td>PE</td>\n",
              "      <td>ARCOVERDE</td>\n",
              "      <td>0119999</td>\n",
              "      <td>CULTIVO DE OUTRAS PL</td>\n",
              "      <td>EDSON PORFIRIO DE CARVALHO</td>\n",
              "      <td>50791532453</td>\n",
              "      <td>FAZENDA MALHADA - RODOVIA BR 232, KM 262/264, ...</td>\n",
              "      <td>10</td>\n",
              "    </tr>\n",
              "    <tr>\n",
              "      <th>1286</th>\n",
              "      <td>2019</td>\n",
              "      <td>159</td>\n",
              "      <td>28/08/2019 a 16/03/2020</td>\n",
              "      <td>PE</td>\n",
              "      <td>ARAÇOIABA</td>\n",
              "      <td>1071600</td>\n",
              "      <td>FABRICAÇÃO DE AÇÚCAR</td>\n",
              "      <td>USINA SAO JOSE S/A</td>\n",
              "      <td>10362820000187</td>\n",
              "      <td>ENGENHO CUMBE DE CIMA</td>\n",
              "      <td>45</td>\n",
              "    </tr>\n",
              "    <tr>\n",
              "      <th>1288</th>\n",
              "      <td>2019</td>\n",
              "      <td>162</td>\n",
              "      <td>28/08/2019 a 07/05/2020</td>\n",
              "      <td>PE</td>\n",
              "      <td>ARAÇOIABA</td>\n",
              "      <td>0113000</td>\n",
              "      <td>CULTIVO DE CANA-DE-A</td>\n",
              "      <td>USINA SÃO JOSÉ SA</td>\n",
              "      <td>10362820000187</td>\n",
              "      <td>ENGENHO CUMBE DE CIMA, SITUADO NA ZONA RURAL, DO</td>\n",
              "      <td>45</td>\n",
              "    </tr>\n",
              "    <tr>\n",
              "      <th>1301</th>\n",
              "      <td>2020</td>\n",
              "      <td>2</td>\n",
              "      <td>27/01/2020 a 07/02/2020</td>\n",
              "      <td>PE</td>\n",
              "      <td>OLINDA</td>\n",
              "      <td>4120400</td>\n",
              "      <td>CONSTRUÇÃO DE EDIFÍC</td>\n",
              "      <td>CONSTRUTORA INGAZEIRA LTDA</td>\n",
              "      <td>749205000174</td>\n",
              "      <td>OBRA LOCALIZADA NA AVENIDA BEIRA RIO, BAIRRO D...</td>\n",
              "      <td>10</td>\n",
              "    </tr>\n",
              "  </tbody>\n",
              "</table>\n",
              "</div>\n",
              "      <button class=\"colab-df-convert\" onclick=\"convertToInteractive('df-45a4c3f7-34dc-4554-ad27-4fe0d2694690')\"\n",
              "              title=\"Convert this dataframe to an interactive table.\"\n",
              "              style=\"display:none;\">\n",
              "        \n",
              "  <svg xmlns=\"http://www.w3.org/2000/svg\" height=\"24px\"viewBox=\"0 0 24 24\"\n",
              "       width=\"24px\">\n",
              "    <path d=\"M0 0h24v24H0V0z\" fill=\"none\"/>\n",
              "    <path d=\"M18.56 5.44l.94 2.06.94-2.06 2.06-.94-2.06-.94-.94-2.06-.94 2.06-2.06.94zm-11 1L8.5 8.5l.94-2.06 2.06-.94-2.06-.94L8.5 2.5l-.94 2.06-2.06.94zm10 10l.94 2.06.94-2.06 2.06-.94-2.06-.94-.94-2.06-.94 2.06-2.06.94z\"/><path d=\"M17.41 7.96l-1.37-1.37c-.4-.4-.92-.59-1.43-.59-.52 0-1.04.2-1.43.59L10.3 9.45l-7.72 7.72c-.78.78-.78 2.05 0 2.83L4 21.41c.39.39.9.59 1.41.59.51 0 1.02-.2 1.41-.59l7.78-7.78 2.81-2.81c.8-.78.8-2.07 0-2.86zM5.41 20L4 18.59l7.72-7.72 1.47 1.35L5.41 20z\"/>\n",
              "  </svg>\n",
              "      </button>\n",
              "      \n",
              "  <style>\n",
              "    .colab-df-container {\n",
              "      display:flex;\n",
              "      flex-wrap:wrap;\n",
              "      gap: 12px;\n",
              "    }\n",
              "\n",
              "    .colab-df-convert {\n",
              "      background-color: #E8F0FE;\n",
              "      border: none;\n",
              "      border-radius: 50%;\n",
              "      cursor: pointer;\n",
              "      display: none;\n",
              "      fill: #1967D2;\n",
              "      height: 32px;\n",
              "      padding: 0 0 0 0;\n",
              "      width: 32px;\n",
              "    }\n",
              "\n",
              "    .colab-df-convert:hover {\n",
              "      background-color: #E2EBFA;\n",
              "      box-shadow: 0px 1px 2px rgba(60, 64, 67, 0.3), 0px 1px 3px 1px rgba(60, 64, 67, 0.15);\n",
              "      fill: #174EA6;\n",
              "    }\n",
              "\n",
              "    [theme=dark] .colab-df-convert {\n",
              "      background-color: #3B4455;\n",
              "      fill: #D2E3FC;\n",
              "    }\n",
              "\n",
              "    [theme=dark] .colab-df-convert:hover {\n",
              "      background-color: #434B5C;\n",
              "      box-shadow: 0px 1px 3px 1px rgba(0, 0, 0, 0.15);\n",
              "      filter: drop-shadow(0px 1px 2px rgba(0, 0, 0, 0.3));\n",
              "      fill: #FFFFFF;\n",
              "    }\n",
              "  </style>\n",
              "\n",
              "      <script>\n",
              "        const buttonEl =\n",
              "          document.querySelector('#df-45a4c3f7-34dc-4554-ad27-4fe0d2694690 button.colab-df-convert');\n",
              "        buttonEl.style.display =\n",
              "          google.colab.kernel.accessAllowed ? 'block' : 'none';\n",
              "\n",
              "        async function convertToInteractive(key) {\n",
              "          const element = document.querySelector('#df-45a4c3f7-34dc-4554-ad27-4fe0d2694690');\n",
              "          const dataTable =\n",
              "            await google.colab.kernel.invokeFunction('convertToInteractive',\n",
              "                                                     [key], {});\n",
              "          if (!dataTable) return;\n",
              "\n",
              "          const docLinkHtml = 'Like what you see? Visit the ' +\n",
              "            '<a target=\"_blank\" href=https://colab.research.google.com/notebooks/data_table.ipynb>data table notebook</a>'\n",
              "            + ' to learn more about interactive tables.';\n",
              "          element.innerHTML = '';\n",
              "          dataTable['output_type'] = 'display_data';\n",
              "          await google.colab.output.renderOutput(dataTable, element);\n",
              "          const docLink = document.createElement('div');\n",
              "          docLink.innerHTML = docLinkHtml;\n",
              "          element.appendChild(docLink);\n",
              "        }\n",
              "      </script>\n",
              "    </div>\n",
              "  </div>\n",
              "  "
            ]
          },
          "metadata": {},
          "execution_count": 78
        }
      ],
      "source": [
        "df_empresas[df_empresas.UF == 'PE']"
      ]
    },
    {
      "cell_type": "markdown",
      "metadata": {
        "id": "OkCEKJks5nc2"
      },
      "source": [
        "**Filtro de linha**"
      ]
    },
    {
      "cell_type": "code",
      "execution_count": 79,
      "metadata": {
        "id": "IRqPkCnH5qr-",
        "colab": {
          "base_uri": "https://localhost:8080/",
          "height": 676
        },
        "outputId": "db504b40-df0a-4a38-dd5b-d46303bc9441"
      },
      "outputs": [
        {
          "output_type": "execute_result",
          "data": {
            "text/plain": [
              "       Ano  Operação                  Dia/Mês  UF                  Município  \\\n",
              "2     2010         1  19/01/2010 a 29/01/2010  TO                 NATIVIDADE   \n",
              "4     2010         3  27/01/2010 a 05/02/2010  PA  SANTA MARIA DAS BARREIRAS   \n",
              "5     2010         4  23/12/2010 a 29/01/2010  MG                   ARAGUARI   \n",
              "9     2010         9  03/03/2010 a 09/03/2010  RS                  BOM JESUS   \n",
              "13    2010        11  10/03/2010 a 19/03/2010  PA             RONDON DO PARÁ   \n",
              "...    ...       ...                      ...  ..                        ...   \n",
              "1371  2020       170  08/10/2020 a 11/01/2021  MG                      ARAXÁ   \n",
              "1372  2020       172  01/09/2020 a 12/01/2021  SC                 ITUPORANGA   \n",
              "1377  2020       180  02/09/2020 a 11/01/2021  PI                 PIRACURUCA   \n",
              "1384  2020       189  01/12/2020 a 12/01/2021  PA             RONDON DO PARÁ   \n",
              "1386  2020       195  03/12/2020 a 13/01/2021  MS                    NIOAQUE   \n",
              "\n",
              "           CNAE        Descrição CNAE  \\\n",
              "2       0151201  CRIAÇÃO DE BOVINOS P   \n",
              "4       0151201  CRIAÇÃO DE BOVINOS P   \n",
              "5       0119999  CULTIVO DE OUTRAS PL   \n",
              "9       0119903  CULTIVO DE BATATA-IN   \n",
              "13      0210108  PRODUÇÃO DE CARVÃO V   \n",
              "...         ...                   ...   \n",
              "1371    4292802  OBRAS DE MONTAGEM IN   \n",
              "1372  0119-9/04                   NaN   \n",
              "1377    0220999  COLETA DE PRODUTOS N   \n",
              "1384    4671100  COMÉRCIO ATACADISTA    \n",
              "1386    0115600       CULTIVO DE SOJA   \n",
              "\n",
              "                                           Proprietário    CNPJ/CEI/CPF  \\\n",
              "2                           EMIVAL RAMOS CAIADO FILHO\\n      9655298191   \n",
              "4                CSM AGROPECUÁRIA S.A\\n(FAZENDA TARUMÃ)   5303431000221   \n",
              "5                          PEDRO EUSTÁQUIO PELLEGRINI\\n     35048328604   \n",
              "9                                  PAULO CEZAR SEGALA\\n     73466778034   \n",
              "13                             CARVOARIA CHAPADÃO LTDA.  11007755000134   \n",
              "...                                                 ...             ...   \n",
              "1371                  MANSERV MONTAGEM E MANUTENÇÃO S/A  54183587000221   \n",
              "1372                                 PATRÍCIA POLICARPO     93566670987   \n",
              "1377                                 NILO FELIX CARDOSO     30625173368   \n",
              "1384  GUAMA COMÉRCIO DE COMPENSADOS E REPRESENTAÇÕES...   8724077000205   \n",
              "1386                           MAISA RODRIGUES DA COSTA      1385847107   \n",
              "\n",
              "                           Estabelecimento Inspecionado  \\\n",
              "2                                  FAZENDA SANTA MÔNICA   \n",
              "4                CSM AGROPECUÁRIA S.A\\n(FAZENDA TARUMÃ)   \n",
              "5                                        FAZENDA CUNHAS   \n",
              "9                                  PAULO CEZAR SEGALA\\n   \n",
              "13                             CARVOARIA CHAPADÃO LTDA.   \n",
              "...                                                 ...   \n",
              "1371                                                NaN   \n",
              "1372                                                NaN   \n",
              "1377                                                NaN   \n",
              "1384  FAZENDA MOREIRA, 4º31’16.4’’S – 48º15’03.2’’W,...   \n",
              "1386                                      FAZENDA SALTO   \n",
              "\n",
              "      Nº Trab. cond. analog escravo  \n",
              "2                                26  \n",
              "4                                28  \n",
              "5                                14  \n",
              "9                                24  \n",
              "13                               61  \n",
              "...                             ...  \n",
              "1371                             63  \n",
              "1372                             14  \n",
              "1377                             19  \n",
              "1384                             13  \n",
              "1386                             15  \n",
              "\n",
              "[490 rows x 11 columns]"
            ],
            "text/html": [
              "\n",
              "  <div id=\"df-6492469f-9ea3-41b4-9978-3c14c2f18966\">\n",
              "    <div class=\"colab-df-container\">\n",
              "      <div>\n",
              "<style scoped>\n",
              "    .dataframe tbody tr th:only-of-type {\n",
              "        vertical-align: middle;\n",
              "    }\n",
              "\n",
              "    .dataframe tbody tr th {\n",
              "        vertical-align: top;\n",
              "    }\n",
              "\n",
              "    .dataframe thead th {\n",
              "        text-align: right;\n",
              "    }\n",
              "</style>\n",
              "<table border=\"1\" class=\"dataframe\">\n",
              "  <thead>\n",
              "    <tr style=\"text-align: right;\">\n",
              "      <th></th>\n",
              "      <th>Ano</th>\n",
              "      <th>Operação</th>\n",
              "      <th>Dia/Mês</th>\n",
              "      <th>UF</th>\n",
              "      <th>Município</th>\n",
              "      <th>CNAE</th>\n",
              "      <th>Descrição CNAE</th>\n",
              "      <th>Proprietário</th>\n",
              "      <th>CNPJ/CEI/CPF</th>\n",
              "      <th>Estabelecimento Inspecionado</th>\n",
              "      <th>Nº Trab. cond. analog escravo</th>\n",
              "    </tr>\n",
              "  </thead>\n",
              "  <tbody>\n",
              "    <tr>\n",
              "      <th>2</th>\n",
              "      <td>2010</td>\n",
              "      <td>1</td>\n",
              "      <td>19/01/2010 a 29/01/2010</td>\n",
              "      <td>TO</td>\n",
              "      <td>NATIVIDADE</td>\n",
              "      <td>0151201</td>\n",
              "      <td>CRIAÇÃO DE BOVINOS P</td>\n",
              "      <td>EMIVAL RAMOS CAIADO FILHO\\n</td>\n",
              "      <td>9655298191</td>\n",
              "      <td>FAZENDA SANTA MÔNICA</td>\n",
              "      <td>26</td>\n",
              "    </tr>\n",
              "    <tr>\n",
              "      <th>4</th>\n",
              "      <td>2010</td>\n",
              "      <td>3</td>\n",
              "      <td>27/01/2010 a 05/02/2010</td>\n",
              "      <td>PA</td>\n",
              "      <td>SANTA MARIA DAS BARREIRAS</td>\n",
              "      <td>0151201</td>\n",
              "      <td>CRIAÇÃO DE BOVINOS P</td>\n",
              "      <td>CSM AGROPECUÁRIA S.A\\n(FAZENDA TARUMÃ)</td>\n",
              "      <td>5303431000221</td>\n",
              "      <td>CSM AGROPECUÁRIA S.A\\n(FAZENDA TARUMÃ)</td>\n",
              "      <td>28</td>\n",
              "    </tr>\n",
              "    <tr>\n",
              "      <th>5</th>\n",
              "      <td>2010</td>\n",
              "      <td>4</td>\n",
              "      <td>23/12/2010 a 29/01/2010</td>\n",
              "      <td>MG</td>\n",
              "      <td>ARAGUARI</td>\n",
              "      <td>0119999</td>\n",
              "      <td>CULTIVO DE OUTRAS PL</td>\n",
              "      <td>PEDRO EUSTÁQUIO PELLEGRINI\\n</td>\n",
              "      <td>35048328604</td>\n",
              "      <td>FAZENDA CUNHAS</td>\n",
              "      <td>14</td>\n",
              "    </tr>\n",
              "    <tr>\n",
              "      <th>9</th>\n",
              "      <td>2010</td>\n",
              "      <td>9</td>\n",
              "      <td>03/03/2010 a 09/03/2010</td>\n",
              "      <td>RS</td>\n",
              "      <td>BOM JESUS</td>\n",
              "      <td>0119903</td>\n",
              "      <td>CULTIVO DE BATATA-IN</td>\n",
              "      <td>PAULO CEZAR SEGALA\\n</td>\n",
              "      <td>73466778034</td>\n",
              "      <td>PAULO CEZAR SEGALA\\n</td>\n",
              "      <td>24</td>\n",
              "    </tr>\n",
              "    <tr>\n",
              "      <th>13</th>\n",
              "      <td>2010</td>\n",
              "      <td>11</td>\n",
              "      <td>10/03/2010 a 19/03/2010</td>\n",
              "      <td>PA</td>\n",
              "      <td>RONDON DO PARÁ</td>\n",
              "      <td>0210108</td>\n",
              "      <td>PRODUÇÃO DE CARVÃO V</td>\n",
              "      <td>CARVOARIA CHAPADÃO LTDA.</td>\n",
              "      <td>11007755000134</td>\n",
              "      <td>CARVOARIA CHAPADÃO LTDA.</td>\n",
              "      <td>61</td>\n",
              "    </tr>\n",
              "    <tr>\n",
              "      <th>...</th>\n",
              "      <td>...</td>\n",
              "      <td>...</td>\n",
              "      <td>...</td>\n",
              "      <td>...</td>\n",
              "      <td>...</td>\n",
              "      <td>...</td>\n",
              "      <td>...</td>\n",
              "      <td>...</td>\n",
              "      <td>...</td>\n",
              "      <td>...</td>\n",
              "      <td>...</td>\n",
              "    </tr>\n",
              "    <tr>\n",
              "      <th>1371</th>\n",
              "      <td>2020</td>\n",
              "      <td>170</td>\n",
              "      <td>08/10/2020 a 11/01/2021</td>\n",
              "      <td>MG</td>\n",
              "      <td>ARAXÁ</td>\n",
              "      <td>4292802</td>\n",
              "      <td>OBRAS DE MONTAGEM IN</td>\n",
              "      <td>MANSERV MONTAGEM E MANUTENÇÃO S/A</td>\n",
              "      <td>54183587000221</td>\n",
              "      <td>NaN</td>\n",
              "      <td>63</td>\n",
              "    </tr>\n",
              "    <tr>\n",
              "      <th>1372</th>\n",
              "      <td>2020</td>\n",
              "      <td>172</td>\n",
              "      <td>01/09/2020 a 12/01/2021</td>\n",
              "      <td>SC</td>\n",
              "      <td>ITUPORANGA</td>\n",
              "      <td>0119-9/04</td>\n",
              "      <td>NaN</td>\n",
              "      <td>PATRÍCIA POLICARPO</td>\n",
              "      <td>93566670987</td>\n",
              "      <td>NaN</td>\n",
              "      <td>14</td>\n",
              "    </tr>\n",
              "    <tr>\n",
              "      <th>1377</th>\n",
              "      <td>2020</td>\n",
              "      <td>180</td>\n",
              "      <td>02/09/2020 a 11/01/2021</td>\n",
              "      <td>PI</td>\n",
              "      <td>PIRACURUCA</td>\n",
              "      <td>0220999</td>\n",
              "      <td>COLETA DE PRODUTOS N</td>\n",
              "      <td>NILO FELIX CARDOSO</td>\n",
              "      <td>30625173368</td>\n",
              "      <td>NaN</td>\n",
              "      <td>19</td>\n",
              "    </tr>\n",
              "    <tr>\n",
              "      <th>1384</th>\n",
              "      <td>2020</td>\n",
              "      <td>189</td>\n",
              "      <td>01/12/2020 a 12/01/2021</td>\n",
              "      <td>PA</td>\n",
              "      <td>RONDON DO PARÁ</td>\n",
              "      <td>4671100</td>\n",
              "      <td>COMÉRCIO ATACADISTA</td>\n",
              "      <td>GUAMA COMÉRCIO DE COMPENSADOS E REPRESENTAÇÕES...</td>\n",
              "      <td>8724077000205</td>\n",
              "      <td>FAZENDA MOREIRA, 4º31’16.4’’S – 48º15’03.2’’W,...</td>\n",
              "      <td>13</td>\n",
              "    </tr>\n",
              "    <tr>\n",
              "      <th>1386</th>\n",
              "      <td>2020</td>\n",
              "      <td>195</td>\n",
              "      <td>03/12/2020 a 13/01/2021</td>\n",
              "      <td>MS</td>\n",
              "      <td>NIOAQUE</td>\n",
              "      <td>0115600</td>\n",
              "      <td>CULTIVO DE SOJA</td>\n",
              "      <td>MAISA RODRIGUES DA COSTA</td>\n",
              "      <td>1385847107</td>\n",
              "      <td>FAZENDA SALTO</td>\n",
              "      <td>15</td>\n",
              "    </tr>\n",
              "  </tbody>\n",
              "</table>\n",
              "<p>490 rows × 11 columns</p>\n",
              "</div>\n",
              "      <button class=\"colab-df-convert\" onclick=\"convertToInteractive('df-6492469f-9ea3-41b4-9978-3c14c2f18966')\"\n",
              "              title=\"Convert this dataframe to an interactive table.\"\n",
              "              style=\"display:none;\">\n",
              "        \n",
              "  <svg xmlns=\"http://www.w3.org/2000/svg\" height=\"24px\"viewBox=\"0 0 24 24\"\n",
              "       width=\"24px\">\n",
              "    <path d=\"M0 0h24v24H0V0z\" fill=\"none\"/>\n",
              "    <path d=\"M18.56 5.44l.94 2.06.94-2.06 2.06-.94-2.06-.94-.94-2.06-.94 2.06-2.06.94zm-11 1L8.5 8.5l.94-2.06 2.06-.94-2.06-.94L8.5 2.5l-.94 2.06-2.06.94zm10 10l.94 2.06.94-2.06 2.06-.94-2.06-.94-.94-2.06-.94 2.06-2.06.94z\"/><path d=\"M17.41 7.96l-1.37-1.37c-.4-.4-.92-.59-1.43-.59-.52 0-1.04.2-1.43.59L10.3 9.45l-7.72 7.72c-.78.78-.78 2.05 0 2.83L4 21.41c.39.39.9.59 1.41.59.51 0 1.02-.2 1.41-.59l7.78-7.78 2.81-2.81c.8-.78.8-2.07 0-2.86zM5.41 20L4 18.59l7.72-7.72 1.47 1.35L5.41 20z\"/>\n",
              "  </svg>\n",
              "      </button>\n",
              "      \n",
              "  <style>\n",
              "    .colab-df-container {\n",
              "      display:flex;\n",
              "      flex-wrap:wrap;\n",
              "      gap: 12px;\n",
              "    }\n",
              "\n",
              "    .colab-df-convert {\n",
              "      background-color: #E8F0FE;\n",
              "      border: none;\n",
              "      border-radius: 50%;\n",
              "      cursor: pointer;\n",
              "      display: none;\n",
              "      fill: #1967D2;\n",
              "      height: 32px;\n",
              "      padding: 0 0 0 0;\n",
              "      width: 32px;\n",
              "    }\n",
              "\n",
              "    .colab-df-convert:hover {\n",
              "      background-color: #E2EBFA;\n",
              "      box-shadow: 0px 1px 2px rgba(60, 64, 67, 0.3), 0px 1px 3px 1px rgba(60, 64, 67, 0.15);\n",
              "      fill: #174EA6;\n",
              "    }\n",
              "\n",
              "    [theme=dark] .colab-df-convert {\n",
              "      background-color: #3B4455;\n",
              "      fill: #D2E3FC;\n",
              "    }\n",
              "\n",
              "    [theme=dark] .colab-df-convert:hover {\n",
              "      background-color: #434B5C;\n",
              "      box-shadow: 0px 1px 3px 1px rgba(0, 0, 0, 0.15);\n",
              "      filter: drop-shadow(0px 1px 2px rgba(0, 0, 0, 0.3));\n",
              "      fill: #FFFFFF;\n",
              "    }\n",
              "  </style>\n",
              "\n",
              "      <script>\n",
              "        const buttonEl =\n",
              "          document.querySelector('#df-6492469f-9ea3-41b4-9978-3c14c2f18966 button.colab-df-convert');\n",
              "        buttonEl.style.display =\n",
              "          google.colab.kernel.accessAllowed ? 'block' : 'none';\n",
              "\n",
              "        async function convertToInteractive(key) {\n",
              "          const element = document.querySelector('#df-6492469f-9ea3-41b4-9978-3c14c2f18966');\n",
              "          const dataTable =\n",
              "            await google.colab.kernel.invokeFunction('convertToInteractive',\n",
              "                                                     [key], {});\n",
              "          if (!dataTable) return;\n",
              "\n",
              "          const docLinkHtml = 'Like what you see? Visit the ' +\n",
              "            '<a target=\"_blank\" href=https://colab.research.google.com/notebooks/data_table.ipynb>data table notebook</a>'\n",
              "            + ' to learn more about interactive tables.';\n",
              "          element.innerHTML = '';\n",
              "          dataTable['output_type'] = 'display_data';\n",
              "          await google.colab.output.renderOutput(dataTable, element);\n",
              "          const docLink = document.createElement('div');\n",
              "          docLink.innerHTML = docLinkHtml;\n",
              "          element.appendChild(docLink);\n",
              "        }\n",
              "      </script>\n",
              "    </div>\n",
              "  </div>\n",
              "  "
            ]
          },
          "metadata": {},
          "execution_count": 79
        }
      ],
      "source": [
        "df_empresas[df_empresas['Nº Trab. cond. analog escravo'] > 10]"
      ]
    },
    {
      "cell_type": "code",
      "execution_count": 80,
      "metadata": {
        "id": "7LsI6S9d6Gji",
        "colab": {
          "base_uri": "https://localhost:8080/",
          "height": 693
        },
        "outputId": "6fc5520f-305b-4182-edd2-860e9b26a2b3"
      },
      "outputs": [
        {
          "output_type": "execute_result",
          "data": {
            "text/plain": [
              "       Ano  Operação                  Dia/Mês  UF                Município  \\\n",
              "1075  2018         3  16/01/2018 a 26/01/2018  PA  SÃO GERALDO DO ARAGUAIA   \n",
              "1076  2018         6  29/01/2018 a 03/02/2018  GO   SÃO MIGUEL DO ARAGUAIA   \n",
              "1077  2018         8  01/02/2018 a 22/02/2018  ES           ALFREDO CHAVES   \n",
              "1078  2018         9  25/01/2018 a 19/03/2018  GO           COLINAS DO SUL   \n",
              "1079  2018        10  22/01/2018 a 28/03/2018  MG           BELO HORIZONTE   \n",
              "...    ...       ...                      ...  ..                      ...   \n",
              "1382  2020       188  05/10/2020 a 12/01/2021  MG            MONTES CLAROS   \n",
              "1383  2020       189  01/12/2020 a 12/01/2021  PA           RONDON DO PARÁ   \n",
              "1384  2020       189  01/12/2020 a 12/01/2021  PA           RONDON DO PARÁ   \n",
              "1385  2020       190  26/11/2020 a 15/12/2020  PI                 PARNAÍBA   \n",
              "1386  2020       195  03/12/2020 a 13/01/2021  MS                  NIOAQUE   \n",
              "\n",
              "         CNAE        Descrição CNAE  \\\n",
              "1075  0151201  CRIAÇÃO DE BOVINOS P   \n",
              "1076  0151201  CRIAÇÃO DE BOVINOS P   \n",
              "1077  0133402     CULTIVO DE BANANA   \n",
              "1078  0810006  EXTRAÇÃO DE AREIA, C   \n",
              "1079  4120400  CONSTRUÇÃO DE EDIFÍC   \n",
              "...       ...                   ...   \n",
              "1382  0810006  EXTRAÇÃO DE AREIA, C   \n",
              "1383  4211101  CONSTRUÇÃO DE RODOVI   \n",
              "1384  4671100  COMÉRCIO ATACADISTA    \n",
              "1385  1529700  FABRICAÇÃO DE ARTEFA   \n",
              "1386  0115600       CULTIVO DE SOJA   \n",
              "\n",
              "                                           Proprietário    CNPJ/CEI/CPF  \\\n",
              "1075                          SEBASTIÃO MARQUES DA MOTA      8148449104   \n",
              "1076                               JOSÉ EDUARDO SANCHES     14277580858   \n",
              "1077                           ANDRISSÃO ROQUE QUINTINO      7085262761   \n",
              "1078  RUI MATHILDES DOS REIS E LUIZ SÉRGIO MIRANDA L...  19977623000147   \n",
              "1079  SAMARTE ENGENHARIA - CONSTRUÇÕES E INCORPORAÇÕ...  21317426000143   \n",
              "...                                                 ...             ...   \n",
              "1382                              GILSON APARECIDO LIRA      6964476814   \n",
              "1383         CONSTRUTORA CAMILLO E EMPREENDIMENTOS LTDA  11022498000100   \n",
              "1384  GUAMA COMÉRCIO DE COMPENSADOS E REPRESENTAÇÕES...   8724077000205   \n",
              "1385                                     NR N SANTOS ME  63346605000159   \n",
              "1386                           MAISA RODRIGUES DA COSTA      1385847107   \n",
              "\n",
              "                           Estabelecimento Inspecionado  \\\n",
              "1075        FAZENDAS PEDRA BRANCA, ARCO VERDE E TALISMÃ   \n",
              "1076                    FAZENDAS ALAIA E SANTA ADELAIDE   \n",
              "1077  SITIO BOM RETIRO, BOM RETIRO, DISTRITO DE IBIT...   \n",
              "1078  RMR - MECAL CONSTRUÇÕES E LOCAÇÕES DE MÁQUINAS...   \n",
              "1079  SAMARTE ENGENHARIA - CONSTRUÇÕES E INCORPORAÇÕ...   \n",
              "...                                                 ...   \n",
              "1382                            AVENIDA CENTRAL, Nº 222   \n",
              "1383  FAZENDA MOREIRA, SITUADA EM COORDENADA GEOGRÁFICA   \n",
              "1384  FAZENDA MOREIRA, 4º31’16.4’’S – 48º15’03.2’’W,...   \n",
              "1385                                    CASA DOS COUROS   \n",
              "1386                                      FAZENDA SALTO   \n",
              "\n",
              "      Nº Trab. cond. analog escravo  \n",
              "1075                              5  \n",
              "1076                             15  \n",
              "1077                              6  \n",
              "1078                              5  \n",
              "1079                              5  \n",
              "...                             ...  \n",
              "1382                              2  \n",
              "1383                              8  \n",
              "1384                             13  \n",
              "1385                              1  \n",
              "1386                             15  \n",
              "\n",
              "[312 rows x 11 columns]"
            ],
            "text/html": [
              "\n",
              "  <div id=\"df-a3286524-0b18-4bae-854a-d35b728efd1c\">\n",
              "    <div class=\"colab-df-container\">\n",
              "      <div>\n",
              "<style scoped>\n",
              "    .dataframe tbody tr th:only-of-type {\n",
              "        vertical-align: middle;\n",
              "    }\n",
              "\n",
              "    .dataframe tbody tr th {\n",
              "        vertical-align: top;\n",
              "    }\n",
              "\n",
              "    .dataframe thead th {\n",
              "        text-align: right;\n",
              "    }\n",
              "</style>\n",
              "<table border=\"1\" class=\"dataframe\">\n",
              "  <thead>\n",
              "    <tr style=\"text-align: right;\">\n",
              "      <th></th>\n",
              "      <th>Ano</th>\n",
              "      <th>Operação</th>\n",
              "      <th>Dia/Mês</th>\n",
              "      <th>UF</th>\n",
              "      <th>Município</th>\n",
              "      <th>CNAE</th>\n",
              "      <th>Descrição CNAE</th>\n",
              "      <th>Proprietário</th>\n",
              "      <th>CNPJ/CEI/CPF</th>\n",
              "      <th>Estabelecimento Inspecionado</th>\n",
              "      <th>Nº Trab. cond. analog escravo</th>\n",
              "    </tr>\n",
              "  </thead>\n",
              "  <tbody>\n",
              "    <tr>\n",
              "      <th>1075</th>\n",
              "      <td>2018</td>\n",
              "      <td>3</td>\n",
              "      <td>16/01/2018 a 26/01/2018</td>\n",
              "      <td>PA</td>\n",
              "      <td>SÃO GERALDO DO ARAGUAIA</td>\n",
              "      <td>0151201</td>\n",
              "      <td>CRIAÇÃO DE BOVINOS P</td>\n",
              "      <td>SEBASTIÃO MARQUES DA MOTA</td>\n",
              "      <td>8148449104</td>\n",
              "      <td>FAZENDAS PEDRA BRANCA, ARCO VERDE E TALISMÃ</td>\n",
              "      <td>5</td>\n",
              "    </tr>\n",
              "    <tr>\n",
              "      <th>1076</th>\n",
              "      <td>2018</td>\n",
              "      <td>6</td>\n",
              "      <td>29/01/2018 a 03/02/2018</td>\n",
              "      <td>GO</td>\n",
              "      <td>SÃO MIGUEL DO ARAGUAIA</td>\n",
              "      <td>0151201</td>\n",
              "      <td>CRIAÇÃO DE BOVINOS P</td>\n",
              "      <td>JOSÉ EDUARDO SANCHES</td>\n",
              "      <td>14277580858</td>\n",
              "      <td>FAZENDAS ALAIA E SANTA ADELAIDE</td>\n",
              "      <td>15</td>\n",
              "    </tr>\n",
              "    <tr>\n",
              "      <th>1077</th>\n",
              "      <td>2018</td>\n",
              "      <td>8</td>\n",
              "      <td>01/02/2018 a 22/02/2018</td>\n",
              "      <td>ES</td>\n",
              "      <td>ALFREDO CHAVES</td>\n",
              "      <td>0133402</td>\n",
              "      <td>CULTIVO DE BANANA</td>\n",
              "      <td>ANDRISSÃO ROQUE QUINTINO</td>\n",
              "      <td>7085262761</td>\n",
              "      <td>SITIO BOM RETIRO, BOM RETIRO, DISTRITO DE IBIT...</td>\n",
              "      <td>6</td>\n",
              "    </tr>\n",
              "    <tr>\n",
              "      <th>1078</th>\n",
              "      <td>2018</td>\n",
              "      <td>9</td>\n",
              "      <td>25/01/2018 a 19/03/2018</td>\n",
              "      <td>GO</td>\n",
              "      <td>COLINAS DO SUL</td>\n",
              "      <td>0810006</td>\n",
              "      <td>EXTRAÇÃO DE AREIA, C</td>\n",
              "      <td>RUI MATHILDES DOS REIS E LUIZ SÉRGIO MIRANDA L...</td>\n",
              "      <td>19977623000147</td>\n",
              "      <td>RMR - MECAL CONSTRUÇÕES E LOCAÇÕES DE MÁQUINAS...</td>\n",
              "      <td>5</td>\n",
              "    </tr>\n",
              "    <tr>\n",
              "      <th>1079</th>\n",
              "      <td>2018</td>\n",
              "      <td>10</td>\n",
              "      <td>22/01/2018 a 28/03/2018</td>\n",
              "      <td>MG</td>\n",
              "      <td>BELO HORIZONTE</td>\n",
              "      <td>4120400</td>\n",
              "      <td>CONSTRUÇÃO DE EDIFÍC</td>\n",
              "      <td>SAMARTE ENGENHARIA - CONSTRUÇÕES E INCORPORAÇÕ...</td>\n",
              "      <td>21317426000143</td>\n",
              "      <td>SAMARTE ENGENHARIA - CONSTRUÇÕES E INCORPORAÇÕ...</td>\n",
              "      <td>5</td>\n",
              "    </tr>\n",
              "    <tr>\n",
              "      <th>...</th>\n",
              "      <td>...</td>\n",
              "      <td>...</td>\n",
              "      <td>...</td>\n",
              "      <td>...</td>\n",
              "      <td>...</td>\n",
              "      <td>...</td>\n",
              "      <td>...</td>\n",
              "      <td>...</td>\n",
              "      <td>...</td>\n",
              "      <td>...</td>\n",
              "      <td>...</td>\n",
              "    </tr>\n",
              "    <tr>\n",
              "      <th>1382</th>\n",
              "      <td>2020</td>\n",
              "      <td>188</td>\n",
              "      <td>05/10/2020 a 12/01/2021</td>\n",
              "      <td>MG</td>\n",
              "      <td>MONTES CLAROS</td>\n",
              "      <td>0810006</td>\n",
              "      <td>EXTRAÇÃO DE AREIA, C</td>\n",
              "      <td>GILSON APARECIDO LIRA</td>\n",
              "      <td>6964476814</td>\n",
              "      <td>AVENIDA CENTRAL, Nº 222</td>\n",
              "      <td>2</td>\n",
              "    </tr>\n",
              "    <tr>\n",
              "      <th>1383</th>\n",
              "      <td>2020</td>\n",
              "      <td>189</td>\n",
              "      <td>01/12/2020 a 12/01/2021</td>\n",
              "      <td>PA</td>\n",
              "      <td>RONDON DO PARÁ</td>\n",
              "      <td>4211101</td>\n",
              "      <td>CONSTRUÇÃO DE RODOVI</td>\n",
              "      <td>CONSTRUTORA CAMILLO E EMPREENDIMENTOS LTDA</td>\n",
              "      <td>11022498000100</td>\n",
              "      <td>FAZENDA MOREIRA, SITUADA EM COORDENADA GEOGRÁFICA</td>\n",
              "      <td>8</td>\n",
              "    </tr>\n",
              "    <tr>\n",
              "      <th>1384</th>\n",
              "      <td>2020</td>\n",
              "      <td>189</td>\n",
              "      <td>01/12/2020 a 12/01/2021</td>\n",
              "      <td>PA</td>\n",
              "      <td>RONDON DO PARÁ</td>\n",
              "      <td>4671100</td>\n",
              "      <td>COMÉRCIO ATACADISTA</td>\n",
              "      <td>GUAMA COMÉRCIO DE COMPENSADOS E REPRESENTAÇÕES...</td>\n",
              "      <td>8724077000205</td>\n",
              "      <td>FAZENDA MOREIRA, 4º31’16.4’’S – 48º15’03.2’’W,...</td>\n",
              "      <td>13</td>\n",
              "    </tr>\n",
              "    <tr>\n",
              "      <th>1385</th>\n",
              "      <td>2020</td>\n",
              "      <td>190</td>\n",
              "      <td>26/11/2020 a 15/12/2020</td>\n",
              "      <td>PI</td>\n",
              "      <td>PARNAÍBA</td>\n",
              "      <td>1529700</td>\n",
              "      <td>FABRICAÇÃO DE ARTEFA</td>\n",
              "      <td>NR N SANTOS ME</td>\n",
              "      <td>63346605000159</td>\n",
              "      <td>CASA DOS COUROS</td>\n",
              "      <td>1</td>\n",
              "    </tr>\n",
              "    <tr>\n",
              "      <th>1386</th>\n",
              "      <td>2020</td>\n",
              "      <td>195</td>\n",
              "      <td>03/12/2020 a 13/01/2021</td>\n",
              "      <td>MS</td>\n",
              "      <td>NIOAQUE</td>\n",
              "      <td>0115600</td>\n",
              "      <td>CULTIVO DE SOJA</td>\n",
              "      <td>MAISA RODRIGUES DA COSTA</td>\n",
              "      <td>1385847107</td>\n",
              "      <td>FAZENDA SALTO</td>\n",
              "      <td>15</td>\n",
              "    </tr>\n",
              "  </tbody>\n",
              "</table>\n",
              "<p>312 rows × 11 columns</p>\n",
              "</div>\n",
              "      <button class=\"colab-df-convert\" onclick=\"convertToInteractive('df-a3286524-0b18-4bae-854a-d35b728efd1c')\"\n",
              "              title=\"Convert this dataframe to an interactive table.\"\n",
              "              style=\"display:none;\">\n",
              "        \n",
              "  <svg xmlns=\"http://www.w3.org/2000/svg\" height=\"24px\"viewBox=\"0 0 24 24\"\n",
              "       width=\"24px\">\n",
              "    <path d=\"M0 0h24v24H0V0z\" fill=\"none\"/>\n",
              "    <path d=\"M18.56 5.44l.94 2.06.94-2.06 2.06-.94-2.06-.94-.94-2.06-.94 2.06-2.06.94zm-11 1L8.5 8.5l.94-2.06 2.06-.94-2.06-.94L8.5 2.5l-.94 2.06-2.06.94zm10 10l.94 2.06.94-2.06 2.06-.94-2.06-.94-.94-2.06-.94 2.06-2.06.94z\"/><path d=\"M17.41 7.96l-1.37-1.37c-.4-.4-.92-.59-1.43-.59-.52 0-1.04.2-1.43.59L10.3 9.45l-7.72 7.72c-.78.78-.78 2.05 0 2.83L4 21.41c.39.39.9.59 1.41.59.51 0 1.02-.2 1.41-.59l7.78-7.78 2.81-2.81c.8-.78.8-2.07 0-2.86zM5.41 20L4 18.59l7.72-7.72 1.47 1.35L5.41 20z\"/>\n",
              "  </svg>\n",
              "      </button>\n",
              "      \n",
              "  <style>\n",
              "    .colab-df-container {\n",
              "      display:flex;\n",
              "      flex-wrap:wrap;\n",
              "      gap: 12px;\n",
              "    }\n",
              "\n",
              "    .colab-df-convert {\n",
              "      background-color: #E8F0FE;\n",
              "      border: none;\n",
              "      border-radius: 50%;\n",
              "      cursor: pointer;\n",
              "      display: none;\n",
              "      fill: #1967D2;\n",
              "      height: 32px;\n",
              "      padding: 0 0 0 0;\n",
              "      width: 32px;\n",
              "    }\n",
              "\n",
              "    .colab-df-convert:hover {\n",
              "      background-color: #E2EBFA;\n",
              "      box-shadow: 0px 1px 2px rgba(60, 64, 67, 0.3), 0px 1px 3px 1px rgba(60, 64, 67, 0.15);\n",
              "      fill: #174EA6;\n",
              "    }\n",
              "\n",
              "    [theme=dark] .colab-df-convert {\n",
              "      background-color: #3B4455;\n",
              "      fill: #D2E3FC;\n",
              "    }\n",
              "\n",
              "    [theme=dark] .colab-df-convert:hover {\n",
              "      background-color: #434B5C;\n",
              "      box-shadow: 0px 1px 3px 1px rgba(0, 0, 0, 0.15);\n",
              "      filter: drop-shadow(0px 1px 2px rgba(0, 0, 0, 0.3));\n",
              "      fill: #FFFFFF;\n",
              "    }\n",
              "  </style>\n",
              "\n",
              "      <script>\n",
              "        const buttonEl =\n",
              "          document.querySelector('#df-a3286524-0b18-4bae-854a-d35b728efd1c button.colab-df-convert');\n",
              "        buttonEl.style.display =\n",
              "          google.colab.kernel.accessAllowed ? 'block' : 'none';\n",
              "\n",
              "        async function convertToInteractive(key) {\n",
              "          const element = document.querySelector('#df-a3286524-0b18-4bae-854a-d35b728efd1c');\n",
              "          const dataTable =\n",
              "            await google.colab.kernel.invokeFunction('convertToInteractive',\n",
              "                                                     [key], {});\n",
              "          if (!dataTable) return;\n",
              "\n",
              "          const docLinkHtml = 'Like what you see? Visit the ' +\n",
              "            '<a target=\"_blank\" href=https://colab.research.google.com/notebooks/data_table.ipynb>data table notebook</a>'\n",
              "            + ' to learn more about interactive tables.';\n",
              "          element.innerHTML = '';\n",
              "          dataTable['output_type'] = 'display_data';\n",
              "          await google.colab.output.renderOutput(dataTable, element);\n",
              "          const docLink = document.createElement('div');\n",
              "          docLink.innerHTML = docLinkHtml;\n",
              "          element.appendChild(docLink);\n",
              "        }\n",
              "      </script>\n",
              "    </div>\n",
              "  </div>\n",
              "  "
            ]
          },
          "metadata": {},
          "execution_count": 80
        }
      ],
      "source": [
        "df_empresas[df_empresas.Ano > 2017]"
      ]
    },
    {
      "cell_type": "code",
      "execution_count": 81,
      "metadata": {
        "id": "P1bd3ukF6g9y",
        "colab": {
          "base_uri": "https://localhost:8080/",
          "height": 389
        },
        "outputId": "26bfb164-746c-4ac4-88f7-bbab1dfd883f"
      },
      "outputs": [
        {
          "output_type": "stream",
          "name": "stderr",
          "text": [
            "/usr/local/lib/python3.7/dist-packages/ipykernel_launcher.py:5: UserWarning: Boolean Series key will be reindexed to match DataFrame index.\n",
            "  \"\"\"\n"
          ]
        },
        {
          "output_type": "execute_result",
          "data": {
            "text/plain": [
              "       Ano  Operação                  Dia/Mês  UF               Município  \\\n",
              "1076  2018         6  29/01/2018 a 03/02/2018  GO  SÃO MIGUEL DO ARAGUAIA   \n",
              "1084  2018        16  05/02/2018 a 18/04/2018  MG    SÃO VICENTE DE MINAS   \n",
              "1085  2018        16  05/02/2018 a 18/04/2018  MG    SÃO VICENTE DE MINAS   \n",
              "1086  2018        20  23/07/2018 a 03/08/2018  MA                  CAXIAS   \n",
              "1090  2018        27  22/03/2018 a 13/04/2018  MG        SÃO JOÃO DEL REI   \n",
              "\n",
              "         CNAE        Descrição CNAE  \\\n",
              "1076  0151201  CRIAÇÃO DE BOVINOS P   \n",
              "1084  7020400  ATIVIDADES DE CONSUL   \n",
              "1085  0151201  CRIAÇÃO DE BOVINOS P   \n",
              "1086  0220999  COLETA DE PRODUTOS N   \n",
              "1090  0210108  PRODUÇÃO DE CARVÃO V   \n",
              "\n",
              "                                           Proprietário    CNPJ/CEI/CPF  \\\n",
              "1076                               JOSÉ EDUARDO SANCHES     14277580858   \n",
              "1084  CÍCERO VICENTE DE ARAÚJO, MIGUEL DONISETE GONÇ...  11626418000125   \n",
              "1085    NOVA VISÃO ASSESSORIA E CONSULTORIA EMPRESARIAL  11626418000125   \n",
              "1086                      RAIMUNDO DE OLIVEIRA NOGUEIRA     27511529372   \n",
              "1090                                EDUARDO ABREU SILVA      3075549614   \n",
              "\n",
              "                         Estabelecimento Inspecionado  \\\n",
              "1076                  FAZENDAS ALAIA E SANTA ADELAIDE   \n",
              "1084  NOVA VISÃO ASSESSORIA E CONSULTORIA EMPRESARIAL   \n",
              "1085                              OPERAÇÃO NOVA CANAÃ   \n",
              "1086                    RAIMUNDO DE OLIVEIRA NOGUEIRA   \n",
              "1090                                   FAZENDA SULAIZ   \n",
              "\n",
              "      Nº Trab. cond. analog escravo  \n",
              "1076                             15  \n",
              "1084                            132  \n",
              "1085                            433  \n",
              "1086                             20  \n",
              "1090                             15  "
            ],
            "text/html": [
              "\n",
              "  <div id=\"df-970234dd-a743-462b-a57a-839294a84f5a\">\n",
              "    <div class=\"colab-df-container\">\n",
              "      <div>\n",
              "<style scoped>\n",
              "    .dataframe tbody tr th:only-of-type {\n",
              "        vertical-align: middle;\n",
              "    }\n",
              "\n",
              "    .dataframe tbody tr th {\n",
              "        vertical-align: top;\n",
              "    }\n",
              "\n",
              "    .dataframe thead th {\n",
              "        text-align: right;\n",
              "    }\n",
              "</style>\n",
              "<table border=\"1\" class=\"dataframe\">\n",
              "  <thead>\n",
              "    <tr style=\"text-align: right;\">\n",
              "      <th></th>\n",
              "      <th>Ano</th>\n",
              "      <th>Operação</th>\n",
              "      <th>Dia/Mês</th>\n",
              "      <th>UF</th>\n",
              "      <th>Município</th>\n",
              "      <th>CNAE</th>\n",
              "      <th>Descrição CNAE</th>\n",
              "      <th>Proprietário</th>\n",
              "      <th>CNPJ/CEI/CPF</th>\n",
              "      <th>Estabelecimento Inspecionado</th>\n",
              "      <th>Nº Trab. cond. analog escravo</th>\n",
              "    </tr>\n",
              "  </thead>\n",
              "  <tbody>\n",
              "    <tr>\n",
              "      <th>1076</th>\n",
              "      <td>2018</td>\n",
              "      <td>6</td>\n",
              "      <td>29/01/2018 a 03/02/2018</td>\n",
              "      <td>GO</td>\n",
              "      <td>SÃO MIGUEL DO ARAGUAIA</td>\n",
              "      <td>0151201</td>\n",
              "      <td>CRIAÇÃO DE BOVINOS P</td>\n",
              "      <td>JOSÉ EDUARDO SANCHES</td>\n",
              "      <td>14277580858</td>\n",
              "      <td>FAZENDAS ALAIA E SANTA ADELAIDE</td>\n",
              "      <td>15</td>\n",
              "    </tr>\n",
              "    <tr>\n",
              "      <th>1084</th>\n",
              "      <td>2018</td>\n",
              "      <td>16</td>\n",
              "      <td>05/02/2018 a 18/04/2018</td>\n",
              "      <td>MG</td>\n",
              "      <td>SÃO VICENTE DE MINAS</td>\n",
              "      <td>7020400</td>\n",
              "      <td>ATIVIDADES DE CONSUL</td>\n",
              "      <td>CÍCERO VICENTE DE ARAÚJO, MIGUEL DONISETE GONÇ...</td>\n",
              "      <td>11626418000125</td>\n",
              "      <td>NOVA VISÃO ASSESSORIA E CONSULTORIA EMPRESARIAL</td>\n",
              "      <td>132</td>\n",
              "    </tr>\n",
              "    <tr>\n",
              "      <th>1085</th>\n",
              "      <td>2018</td>\n",
              "      <td>16</td>\n",
              "      <td>05/02/2018 a 18/04/2018</td>\n",
              "      <td>MG</td>\n",
              "      <td>SÃO VICENTE DE MINAS</td>\n",
              "      <td>0151201</td>\n",
              "      <td>CRIAÇÃO DE BOVINOS P</td>\n",
              "      <td>NOVA VISÃO ASSESSORIA E CONSULTORIA EMPRESARIAL</td>\n",
              "      <td>11626418000125</td>\n",
              "      <td>OPERAÇÃO NOVA CANAÃ</td>\n",
              "      <td>433</td>\n",
              "    </tr>\n",
              "    <tr>\n",
              "      <th>1086</th>\n",
              "      <td>2018</td>\n",
              "      <td>20</td>\n",
              "      <td>23/07/2018 a 03/08/2018</td>\n",
              "      <td>MA</td>\n",
              "      <td>CAXIAS</td>\n",
              "      <td>0220999</td>\n",
              "      <td>COLETA DE PRODUTOS N</td>\n",
              "      <td>RAIMUNDO DE OLIVEIRA NOGUEIRA</td>\n",
              "      <td>27511529372</td>\n",
              "      <td>RAIMUNDO DE OLIVEIRA NOGUEIRA</td>\n",
              "      <td>20</td>\n",
              "    </tr>\n",
              "    <tr>\n",
              "      <th>1090</th>\n",
              "      <td>2018</td>\n",
              "      <td>27</td>\n",
              "      <td>22/03/2018 a 13/04/2018</td>\n",
              "      <td>MG</td>\n",
              "      <td>SÃO JOÃO DEL REI</td>\n",
              "      <td>0210108</td>\n",
              "      <td>PRODUÇÃO DE CARVÃO V</td>\n",
              "      <td>EDUARDO ABREU SILVA</td>\n",
              "      <td>3075549614</td>\n",
              "      <td>FAZENDA SULAIZ</td>\n",
              "      <td>15</td>\n",
              "    </tr>\n",
              "  </tbody>\n",
              "</table>\n",
              "</div>\n",
              "      <button class=\"colab-df-convert\" onclick=\"convertToInteractive('df-970234dd-a743-462b-a57a-839294a84f5a')\"\n",
              "              title=\"Convert this dataframe to an interactive table.\"\n",
              "              style=\"display:none;\">\n",
              "        \n",
              "  <svg xmlns=\"http://www.w3.org/2000/svg\" height=\"24px\"viewBox=\"0 0 24 24\"\n",
              "       width=\"24px\">\n",
              "    <path d=\"M0 0h24v24H0V0z\" fill=\"none\"/>\n",
              "    <path d=\"M18.56 5.44l.94 2.06.94-2.06 2.06-.94-2.06-.94-.94-2.06-.94 2.06-2.06.94zm-11 1L8.5 8.5l.94-2.06 2.06-.94-2.06-.94L8.5 2.5l-.94 2.06-2.06.94zm10 10l.94 2.06.94-2.06 2.06-.94-2.06-.94-.94-2.06-.94 2.06-2.06.94z\"/><path d=\"M17.41 7.96l-1.37-1.37c-.4-.4-.92-.59-1.43-.59-.52 0-1.04.2-1.43.59L10.3 9.45l-7.72 7.72c-.78.78-.78 2.05 0 2.83L4 21.41c.39.39.9.59 1.41.59.51 0 1.02-.2 1.41-.59l7.78-7.78 2.81-2.81c.8-.78.8-2.07 0-2.86zM5.41 20L4 18.59l7.72-7.72 1.47 1.35L5.41 20z\"/>\n",
              "  </svg>\n",
              "      </button>\n",
              "      \n",
              "  <style>\n",
              "    .colab-df-container {\n",
              "      display:flex;\n",
              "      flex-wrap:wrap;\n",
              "      gap: 12px;\n",
              "    }\n",
              "\n",
              "    .colab-df-convert {\n",
              "      background-color: #E8F0FE;\n",
              "      border: none;\n",
              "      border-radius: 50%;\n",
              "      cursor: pointer;\n",
              "      display: none;\n",
              "      fill: #1967D2;\n",
              "      height: 32px;\n",
              "      padding: 0 0 0 0;\n",
              "      width: 32px;\n",
              "    }\n",
              "\n",
              "    .colab-df-convert:hover {\n",
              "      background-color: #E2EBFA;\n",
              "      box-shadow: 0px 1px 2px rgba(60, 64, 67, 0.3), 0px 1px 3px 1px rgba(60, 64, 67, 0.15);\n",
              "      fill: #174EA6;\n",
              "    }\n",
              "\n",
              "    [theme=dark] .colab-df-convert {\n",
              "      background-color: #3B4455;\n",
              "      fill: #D2E3FC;\n",
              "    }\n",
              "\n",
              "    [theme=dark] .colab-df-convert:hover {\n",
              "      background-color: #434B5C;\n",
              "      box-shadow: 0px 1px 3px 1px rgba(0, 0, 0, 0.15);\n",
              "      filter: drop-shadow(0px 1px 2px rgba(0, 0, 0, 0.3));\n",
              "      fill: #FFFFFF;\n",
              "    }\n",
              "  </style>\n",
              "\n",
              "      <script>\n",
              "        const buttonEl =\n",
              "          document.querySelector('#df-970234dd-a743-462b-a57a-839294a84f5a button.colab-df-convert');\n",
              "        buttonEl.style.display =\n",
              "          google.colab.kernel.accessAllowed ? 'block' : 'none';\n",
              "\n",
              "        async function convertToInteractive(key) {\n",
              "          const element = document.querySelector('#df-970234dd-a743-462b-a57a-839294a84f5a');\n",
              "          const dataTable =\n",
              "            await google.colab.kernel.invokeFunction('convertToInteractive',\n",
              "                                                     [key], {});\n",
              "          if (!dataTable) return;\n",
              "\n",
              "          const docLinkHtml = 'Like what you see? Visit the ' +\n",
              "            '<a target=\"_blank\" href=https://colab.research.google.com/notebooks/data_table.ipynb>data table notebook</a>'\n",
              "            + ' to learn more about interactive tables.';\n",
              "          element.innerHTML = '';\n",
              "          dataTable['output_type'] = 'display_data';\n",
              "          await google.colab.output.renderOutput(dataTable, element);\n",
              "          const docLink = document.createElement('div');\n",
              "          docLink.innerHTML = docLinkHtml;\n",
              "          element.appendChild(docLink);\n",
              "        }\n",
              "      </script>\n",
              "    </div>\n",
              "  </div>\n",
              "  "
            ]
          },
          "metadata": {},
          "execution_count": 81
        }
      ],
      "source": [
        "#Filtros compostos\n",
        "\n",
        "acima_dez_libertos = df_empresas[df_empresas['Nº Trab. cond. analog escravo'] > 10]\n",
        "\n",
        "acima_dez_libertos[df_empresas.Ano > 2017].head()"
      ]
    },
    {
      "cell_type": "markdown",
      "metadata": {
        "id": "cy-n96aD_nwm"
      },
      "source": [
        "### Agrupar e agregar dados"
      ]
    },
    {
      "cell_type": "code",
      "execution_count": 82,
      "metadata": {
        "id": "NklFoy1T8zvy",
        "colab": {
          "base_uri": "https://localhost:8080/"
        },
        "outputId": "bb508191-68f0-4a2f-932e-cd1629fa72ab"
      },
      "outputs": [
        {
          "output_type": "execute_result",
          "data": {
            "text/plain": [
              "<pandas.core.groupby.generic.DataFrameGroupBy object at 0x7fd8ed9c29d0>"
            ]
          },
          "metadata": {},
          "execution_count": 82
        }
      ],
      "source": [
        "df_empresas.groupby('Ano')"
      ]
    },
    {
      "cell_type": "code",
      "execution_count": 83,
      "metadata": {
        "id": "tXmHdj6f9V7-",
        "colab": {
          "base_uri": "https://localhost:8080/",
          "height": 426
        },
        "outputId": "b7041bbe-1a3a-4d05-96b6-3e80ff22d547"
      },
      "outputs": [
        {
          "output_type": "execute_result",
          "data": {
            "text/plain": [
              "      Operação      CNPJ/CEI/CPF  Nº Trab. cond. analog escravo\n",
              "Ano                                                            \n",
              "2010     10154  1040533081000965                           2640\n",
              "2011     14893  1065494547474719                           2496\n",
              "2012     10558   944432500457519                           2775\n",
              "2013     13431  1466077410472069                           2808\n",
              "2014     10446  1021003436487168                           1754\n",
              "2015      8748   640933496658111                           1205\n",
              "2016      6538   673443503759778                            972\n",
              "2017      6653   397391511965390                            648\n",
              "2018      8794   368787256184814                           1752\n",
              "2019     10327   907281028163963                           1193\n",
              "2020      7628   450493791395519                            821"
            ],
            "text/html": [
              "\n",
              "  <div id=\"df-31ef7490-3d59-4b4a-9096-0acadca8d025\">\n",
              "    <div class=\"colab-df-container\">\n",
              "      <div>\n",
              "<style scoped>\n",
              "    .dataframe tbody tr th:only-of-type {\n",
              "        vertical-align: middle;\n",
              "    }\n",
              "\n",
              "    .dataframe tbody tr th {\n",
              "        vertical-align: top;\n",
              "    }\n",
              "\n",
              "    .dataframe thead th {\n",
              "        text-align: right;\n",
              "    }\n",
              "</style>\n",
              "<table border=\"1\" class=\"dataframe\">\n",
              "  <thead>\n",
              "    <tr style=\"text-align: right;\">\n",
              "      <th></th>\n",
              "      <th>Operação</th>\n",
              "      <th>CNPJ/CEI/CPF</th>\n",
              "      <th>Nº Trab. cond. analog escravo</th>\n",
              "    </tr>\n",
              "    <tr>\n",
              "      <th>Ano</th>\n",
              "      <th></th>\n",
              "      <th></th>\n",
              "      <th></th>\n",
              "    </tr>\n",
              "  </thead>\n",
              "  <tbody>\n",
              "    <tr>\n",
              "      <th>2010</th>\n",
              "      <td>10154</td>\n",
              "      <td>1040533081000965</td>\n",
              "      <td>2640</td>\n",
              "    </tr>\n",
              "    <tr>\n",
              "      <th>2011</th>\n",
              "      <td>14893</td>\n",
              "      <td>1065494547474719</td>\n",
              "      <td>2496</td>\n",
              "    </tr>\n",
              "    <tr>\n",
              "      <th>2012</th>\n",
              "      <td>10558</td>\n",
              "      <td>944432500457519</td>\n",
              "      <td>2775</td>\n",
              "    </tr>\n",
              "    <tr>\n",
              "      <th>2013</th>\n",
              "      <td>13431</td>\n",
              "      <td>1466077410472069</td>\n",
              "      <td>2808</td>\n",
              "    </tr>\n",
              "    <tr>\n",
              "      <th>2014</th>\n",
              "      <td>10446</td>\n",
              "      <td>1021003436487168</td>\n",
              "      <td>1754</td>\n",
              "    </tr>\n",
              "    <tr>\n",
              "      <th>2015</th>\n",
              "      <td>8748</td>\n",
              "      <td>640933496658111</td>\n",
              "      <td>1205</td>\n",
              "    </tr>\n",
              "    <tr>\n",
              "      <th>2016</th>\n",
              "      <td>6538</td>\n",
              "      <td>673443503759778</td>\n",
              "      <td>972</td>\n",
              "    </tr>\n",
              "    <tr>\n",
              "      <th>2017</th>\n",
              "      <td>6653</td>\n",
              "      <td>397391511965390</td>\n",
              "      <td>648</td>\n",
              "    </tr>\n",
              "    <tr>\n",
              "      <th>2018</th>\n",
              "      <td>8794</td>\n",
              "      <td>368787256184814</td>\n",
              "      <td>1752</td>\n",
              "    </tr>\n",
              "    <tr>\n",
              "      <th>2019</th>\n",
              "      <td>10327</td>\n",
              "      <td>907281028163963</td>\n",
              "      <td>1193</td>\n",
              "    </tr>\n",
              "    <tr>\n",
              "      <th>2020</th>\n",
              "      <td>7628</td>\n",
              "      <td>450493791395519</td>\n",
              "      <td>821</td>\n",
              "    </tr>\n",
              "  </tbody>\n",
              "</table>\n",
              "</div>\n",
              "      <button class=\"colab-df-convert\" onclick=\"convertToInteractive('df-31ef7490-3d59-4b4a-9096-0acadca8d025')\"\n",
              "              title=\"Convert this dataframe to an interactive table.\"\n",
              "              style=\"display:none;\">\n",
              "        \n",
              "  <svg xmlns=\"http://www.w3.org/2000/svg\" height=\"24px\"viewBox=\"0 0 24 24\"\n",
              "       width=\"24px\">\n",
              "    <path d=\"M0 0h24v24H0V0z\" fill=\"none\"/>\n",
              "    <path d=\"M18.56 5.44l.94 2.06.94-2.06 2.06-.94-2.06-.94-.94-2.06-.94 2.06-2.06.94zm-11 1L8.5 8.5l.94-2.06 2.06-.94-2.06-.94L8.5 2.5l-.94 2.06-2.06.94zm10 10l.94 2.06.94-2.06 2.06-.94-2.06-.94-.94-2.06-.94 2.06-2.06.94z\"/><path d=\"M17.41 7.96l-1.37-1.37c-.4-.4-.92-.59-1.43-.59-.52 0-1.04.2-1.43.59L10.3 9.45l-7.72 7.72c-.78.78-.78 2.05 0 2.83L4 21.41c.39.39.9.59 1.41.59.51 0 1.02-.2 1.41-.59l7.78-7.78 2.81-2.81c.8-.78.8-2.07 0-2.86zM5.41 20L4 18.59l7.72-7.72 1.47 1.35L5.41 20z\"/>\n",
              "  </svg>\n",
              "      </button>\n",
              "      \n",
              "  <style>\n",
              "    .colab-df-container {\n",
              "      display:flex;\n",
              "      flex-wrap:wrap;\n",
              "      gap: 12px;\n",
              "    }\n",
              "\n",
              "    .colab-df-convert {\n",
              "      background-color: #E8F0FE;\n",
              "      border: none;\n",
              "      border-radius: 50%;\n",
              "      cursor: pointer;\n",
              "      display: none;\n",
              "      fill: #1967D2;\n",
              "      height: 32px;\n",
              "      padding: 0 0 0 0;\n",
              "      width: 32px;\n",
              "    }\n",
              "\n",
              "    .colab-df-convert:hover {\n",
              "      background-color: #E2EBFA;\n",
              "      box-shadow: 0px 1px 2px rgba(60, 64, 67, 0.3), 0px 1px 3px 1px rgba(60, 64, 67, 0.15);\n",
              "      fill: #174EA6;\n",
              "    }\n",
              "\n",
              "    [theme=dark] .colab-df-convert {\n",
              "      background-color: #3B4455;\n",
              "      fill: #D2E3FC;\n",
              "    }\n",
              "\n",
              "    [theme=dark] .colab-df-convert:hover {\n",
              "      background-color: #434B5C;\n",
              "      box-shadow: 0px 1px 3px 1px rgba(0, 0, 0, 0.15);\n",
              "      filter: drop-shadow(0px 1px 2px rgba(0, 0, 0, 0.3));\n",
              "      fill: #FFFFFF;\n",
              "    }\n",
              "  </style>\n",
              "\n",
              "      <script>\n",
              "        const buttonEl =\n",
              "          document.querySelector('#df-31ef7490-3d59-4b4a-9096-0acadca8d025 button.colab-df-convert');\n",
              "        buttonEl.style.display =\n",
              "          google.colab.kernel.accessAllowed ? 'block' : 'none';\n",
              "\n",
              "        async function convertToInteractive(key) {\n",
              "          const element = document.querySelector('#df-31ef7490-3d59-4b4a-9096-0acadca8d025');\n",
              "          const dataTable =\n",
              "            await google.colab.kernel.invokeFunction('convertToInteractive',\n",
              "                                                     [key], {});\n",
              "          if (!dataTable) return;\n",
              "\n",
              "          const docLinkHtml = 'Like what you see? Visit the ' +\n",
              "            '<a target=\"_blank\" href=https://colab.research.google.com/notebooks/data_table.ipynb>data table notebook</a>'\n",
              "            + ' to learn more about interactive tables.';\n",
              "          element.innerHTML = '';\n",
              "          dataTable['output_type'] = 'display_data';\n",
              "          await google.colab.output.renderOutput(dataTable, element);\n",
              "          const docLink = document.createElement('div');\n",
              "          docLink.innerHTML = docLinkHtml;\n",
              "          element.appendChild(docLink);\n",
              "        }\n",
              "      </script>\n",
              "    </div>\n",
              "  </div>\n",
              "  "
            ]
          },
          "metadata": {},
          "execution_count": 83
        }
      ],
      "source": [
        "df_empresas.groupby('Ano').sum()"
      ]
    },
    {
      "cell_type": "code",
      "execution_count": 84,
      "metadata": {
        "id": "cjKCTqh39vys",
        "colab": {
          "base_uri": "https://localhost:8080/",
          "height": 426
        },
        "outputId": "202848ff-86f4-47f4-c7bf-3efb8fa5a25f"
      },
      "outputs": [
        {
          "output_type": "execute_result",
          "data": {
            "text/plain": [
              "      Nº Trab. cond. analog escravo\n",
              "Ano                                \n",
              "2013                           2808\n",
              "2012                           2775\n",
              "2010                           2640\n",
              "2011                           2496\n",
              "2014                           1754\n",
              "2018                           1752\n",
              "2015                           1205\n",
              "2019                           1193\n",
              "2016                            972\n",
              "2020                            821\n",
              "2017                            648"
            ],
            "text/html": [
              "\n",
              "  <div id=\"df-875cd019-59fa-47af-83d5-63c4acd35454\">\n",
              "    <div class=\"colab-df-container\">\n",
              "      <div>\n",
              "<style scoped>\n",
              "    .dataframe tbody tr th:only-of-type {\n",
              "        vertical-align: middle;\n",
              "    }\n",
              "\n",
              "    .dataframe tbody tr th {\n",
              "        vertical-align: top;\n",
              "    }\n",
              "\n",
              "    .dataframe thead th {\n",
              "        text-align: right;\n",
              "    }\n",
              "</style>\n",
              "<table border=\"1\" class=\"dataframe\">\n",
              "  <thead>\n",
              "    <tr style=\"text-align: right;\">\n",
              "      <th></th>\n",
              "      <th>Nº Trab. cond. analog escravo</th>\n",
              "    </tr>\n",
              "    <tr>\n",
              "      <th>Ano</th>\n",
              "      <th></th>\n",
              "    </tr>\n",
              "  </thead>\n",
              "  <tbody>\n",
              "    <tr>\n",
              "      <th>2013</th>\n",
              "      <td>2808</td>\n",
              "    </tr>\n",
              "    <tr>\n",
              "      <th>2012</th>\n",
              "      <td>2775</td>\n",
              "    </tr>\n",
              "    <tr>\n",
              "      <th>2010</th>\n",
              "      <td>2640</td>\n",
              "    </tr>\n",
              "    <tr>\n",
              "      <th>2011</th>\n",
              "      <td>2496</td>\n",
              "    </tr>\n",
              "    <tr>\n",
              "      <th>2014</th>\n",
              "      <td>1754</td>\n",
              "    </tr>\n",
              "    <tr>\n",
              "      <th>2018</th>\n",
              "      <td>1752</td>\n",
              "    </tr>\n",
              "    <tr>\n",
              "      <th>2015</th>\n",
              "      <td>1205</td>\n",
              "    </tr>\n",
              "    <tr>\n",
              "      <th>2019</th>\n",
              "      <td>1193</td>\n",
              "    </tr>\n",
              "    <tr>\n",
              "      <th>2016</th>\n",
              "      <td>972</td>\n",
              "    </tr>\n",
              "    <tr>\n",
              "      <th>2020</th>\n",
              "      <td>821</td>\n",
              "    </tr>\n",
              "    <tr>\n",
              "      <th>2017</th>\n",
              "      <td>648</td>\n",
              "    </tr>\n",
              "  </tbody>\n",
              "</table>\n",
              "</div>\n",
              "      <button class=\"colab-df-convert\" onclick=\"convertToInteractive('df-875cd019-59fa-47af-83d5-63c4acd35454')\"\n",
              "              title=\"Convert this dataframe to an interactive table.\"\n",
              "              style=\"display:none;\">\n",
              "        \n",
              "  <svg xmlns=\"http://www.w3.org/2000/svg\" height=\"24px\"viewBox=\"0 0 24 24\"\n",
              "       width=\"24px\">\n",
              "    <path d=\"M0 0h24v24H0V0z\" fill=\"none\"/>\n",
              "    <path d=\"M18.56 5.44l.94 2.06.94-2.06 2.06-.94-2.06-.94-.94-2.06-.94 2.06-2.06.94zm-11 1L8.5 8.5l.94-2.06 2.06-.94-2.06-.94L8.5 2.5l-.94 2.06-2.06.94zm10 10l.94 2.06.94-2.06 2.06-.94-2.06-.94-.94-2.06-.94 2.06-2.06.94z\"/><path d=\"M17.41 7.96l-1.37-1.37c-.4-.4-.92-.59-1.43-.59-.52 0-1.04.2-1.43.59L10.3 9.45l-7.72 7.72c-.78.78-.78 2.05 0 2.83L4 21.41c.39.39.9.59 1.41.59.51 0 1.02-.2 1.41-.59l7.78-7.78 2.81-2.81c.8-.78.8-2.07 0-2.86zM5.41 20L4 18.59l7.72-7.72 1.47 1.35L5.41 20z\"/>\n",
              "  </svg>\n",
              "      </button>\n",
              "      \n",
              "  <style>\n",
              "    .colab-df-container {\n",
              "      display:flex;\n",
              "      flex-wrap:wrap;\n",
              "      gap: 12px;\n",
              "    }\n",
              "\n",
              "    .colab-df-convert {\n",
              "      background-color: #E8F0FE;\n",
              "      border: none;\n",
              "      border-radius: 50%;\n",
              "      cursor: pointer;\n",
              "      display: none;\n",
              "      fill: #1967D2;\n",
              "      height: 32px;\n",
              "      padding: 0 0 0 0;\n",
              "      width: 32px;\n",
              "    }\n",
              "\n",
              "    .colab-df-convert:hover {\n",
              "      background-color: #E2EBFA;\n",
              "      box-shadow: 0px 1px 2px rgba(60, 64, 67, 0.3), 0px 1px 3px 1px rgba(60, 64, 67, 0.15);\n",
              "      fill: #174EA6;\n",
              "    }\n",
              "\n",
              "    [theme=dark] .colab-df-convert {\n",
              "      background-color: #3B4455;\n",
              "      fill: #D2E3FC;\n",
              "    }\n",
              "\n",
              "    [theme=dark] .colab-df-convert:hover {\n",
              "      background-color: #434B5C;\n",
              "      box-shadow: 0px 1px 3px 1px rgba(0, 0, 0, 0.15);\n",
              "      filter: drop-shadow(0px 1px 2px rgba(0, 0, 0, 0.3));\n",
              "      fill: #FFFFFF;\n",
              "    }\n",
              "  </style>\n",
              "\n",
              "      <script>\n",
              "        const buttonEl =\n",
              "          document.querySelector('#df-875cd019-59fa-47af-83d5-63c4acd35454 button.colab-df-convert');\n",
              "        buttonEl.style.display =\n",
              "          google.colab.kernel.accessAllowed ? 'block' : 'none';\n",
              "\n",
              "        async function convertToInteractive(key) {\n",
              "          const element = document.querySelector('#df-875cd019-59fa-47af-83d5-63c4acd35454');\n",
              "          const dataTable =\n",
              "            await google.colab.kernel.invokeFunction('convertToInteractive',\n",
              "                                                     [key], {});\n",
              "          if (!dataTable) return;\n",
              "\n",
              "          const docLinkHtml = 'Like what you see? Visit the ' +\n",
              "            '<a target=\"_blank\" href=https://colab.research.google.com/notebooks/data_table.ipynb>data table notebook</a>'\n",
              "            + ' to learn more about interactive tables.';\n",
              "          element.innerHTML = '';\n",
              "          dataTable['output_type'] = 'display_data';\n",
              "          await google.colab.output.renderOutput(dataTable, element);\n",
              "          const docLink = document.createElement('div');\n",
              "          docLink.innerHTML = docLinkHtml;\n",
              "          element.appendChild(docLink);\n",
              "        }\n",
              "      </script>\n",
              "    </div>\n",
              "  </div>\n",
              "  "
            ]
          },
          "metadata": {},
          "execution_count": 84
        }
      ],
      "source": [
        "df_empresas[['Ano','Nº Trab. cond. analog escravo']].groupby('Ano').sum().sort_values('Nº Trab. cond. analog escravo', ascending=False)"
      ]
    },
    {
      "cell_type": "markdown",
      "metadata": {
        "id": "jiHaRn618PQA"
      },
      "source": [
        "### Bora Investigar? 🔎🕵🏾‍♀️"
      ]
    },
    {
      "cell_type": "code",
      "execution_count": null,
      "metadata": {
        "id": "9FhBEhT3D2l9"
      },
      "outputs": [],
      "source": [
        "#Total de pessoas em libertas do trabalho escravo de 2010 a 2020\n",
        "df_empresas['Nº Trab. cond. analog escravo'].sum()"
      ]
    },
    {
      "cell_type": "code",
      "execution_count": null,
      "metadata": {
        "id": "Z1xU62GA8GER"
      },
      "outputs": [],
      "source": [
        "#rancking de empresas (CNAE)\n",
        "df_empresas['Descrição CNAE'].value_counts().head(5)"
      ]
    },
    {
      "cell_type": "code",
      "execution_count": null,
      "metadata": {
        "id": "q39pGYa67doj"
      },
      "outputs": [],
      "source": [
        "#Qual os 10 estados com mais operações\n",
        "\n",
        "df_empresas[['UF','Operação']].groupby('UF').sum().sort_values('Operação', ascending=False).head(10)"
      ]
    },
    {
      "cell_type": "code",
      "execution_count": null,
      "metadata": {
        "id": "a9R7HIyW_D7c"
      },
      "outputs": [],
      "source": [
        "#Ano em que mais houve altuação\n",
        "df_empresas[['Ano','Operação']].groupby('Ano').sum().sort_values('Operação', ascending=False)\n"
      ]
    },
    {
      "cell_type": "code",
      "execution_count": null,
      "metadata": {
        "id": "K-XbAAluEWun"
      },
      "outputs": [],
      "source": [
        "#Numero total de pessoas libertas através dos anos por estado\n",
        "df_empresas[['UF','Nº Trab. cond. analog escravo']].groupby('UF').sum().sort_values('Nº Trab. cond. analog escravo', ascending=False)"
      ]
    },
    {
      "cell_type": "code",
      "execution_count": null,
      "metadata": {
        "id": "8u-jPzXFE4Rd"
      },
      "outputs": [],
      "source": [
        "#Qual ano que mais houveram pessoas libertadas\n",
        "df_empresas[['Ano','Nº Trab. cond. analog escravo']].groupby('Ano').sum().sort_values('Nº Trab. cond. analog escravo', ascending=False)"
      ]
    },
    {
      "cell_type": "markdown",
      "metadata": {
        "id": "wsVhE5A7_0pj"
      },
      "source": [
        "### Saaalvandooo 💾"
      ]
    },
    {
      "cell_type": "code",
      "execution_count": null,
      "metadata": {
        "id": "36v7H2LaAMn_"
      },
      "outputs": [],
      "source": [
        "df_empresas.to_csv('meu_arquivo.csv', index=False)"
      ]
    },
    {
      "cell_type": "markdown",
      "metadata": {
        "id": "SFJMdLjT30m_"
      },
      "source": [
        "# **MilkShake dos Dados** 🥤"
      ]
    },
    {
      "cell_type": "markdown",
      "metadata": {
        "id": "HYbfFpmN30m_"
      },
      "source": [
        "### Agenda"
      ]
    },
    {
      "cell_type": "markdown",
      "metadata": {
        "id": "Q-vubNCi30m_"
      },
      "source": [
        "*  Importar requests (interação com sites e APIs) e querido_diario_toolbox (utilitários do QD)\n",
        "*  Indentificar apenas os CNPJs dentre CNPJs, CEIs e CPFs\n",
        "*  Buscar CNPJs no Querido Diário\n",
        "*  Cruzar nossa base de dados com a da Receita Federal usando o Minha Receita"
      ]
    },
    {
      "cell_type": "markdown",
      "metadata": {
        "id": "thVPATbI30m_"
      },
      "source": [
        "### Imports"
      ]
    },
    {
      "cell_type": "code",
      "execution_count": 85,
      "metadata": {
        "colab": {
          "base_uri": "https://localhost:8080/"
        },
        "id": "g1hpkq0O30m_",
        "outputId": "aa3e394a-7152-4530-aa61-195cdda9420b"
      },
      "outputs": [
        {
          "output_type": "stream",
          "name": "stdout",
          "text": [
            "Reading package lists... Done\n",
            "Building dependency tree       \n",
            "Reading state information... Done\n",
            "The following package was automatically installed and is no longer required:\n",
            "  libnvidia-common-460\n",
            "Use 'apt autoremove' to remove it.\n",
            "The following additional packages will be installed:\n",
            "  libmagic-mgc libmagic1\n",
            "Suggested packages:\n",
            "  file\n",
            "The following NEW packages will be installed:\n",
            "  libmagic-dev libmagic-mgc libmagic1\n",
            "0 upgraded, 3 newly installed, 0 to remove and 20 not upgraded.\n",
            "Need to get 332 kB of archives.\n",
            "After this operation, 5,552 kB of additional disk space will be used.\n",
            "Get:1 http://archive.ubuntu.com/ubuntu bionic-updates/main amd64 libmagic-mgc amd64 1:5.32-2ubuntu0.4 [184 kB]\n",
            "Get:2 http://archive.ubuntu.com/ubuntu bionic-updates/main amd64 libmagic1 amd64 1:5.32-2ubuntu0.4 [68.6 kB]\n",
            "Get:3 http://archive.ubuntu.com/ubuntu bionic-updates/main amd64 libmagic-dev amd64 1:5.32-2ubuntu0.4 [79.7 kB]\n",
            "Fetched 332 kB in 0s (935 kB/s)\n",
            "Selecting previously unselected package libmagic-mgc.\n",
            "(Reading database ... 155569 files and directories currently installed.)\n",
            "Preparing to unpack .../libmagic-mgc_1%3a5.32-2ubuntu0.4_amd64.deb ...\n",
            "Unpacking libmagic-mgc (1:5.32-2ubuntu0.4) ...\n",
            "Selecting previously unselected package libmagic1:amd64.\n",
            "Preparing to unpack .../libmagic1_1%3a5.32-2ubuntu0.4_amd64.deb ...\n",
            "Unpacking libmagic1:amd64 (1:5.32-2ubuntu0.4) ...\n",
            "Selecting previously unselected package libmagic-dev:amd64.\n",
            "Preparing to unpack .../libmagic-dev_1%3a5.32-2ubuntu0.4_amd64.deb ...\n",
            "Unpacking libmagic-dev:amd64 (1:5.32-2ubuntu0.4) ...\n",
            "Setting up libmagic-mgc (1:5.32-2ubuntu0.4) ...\n",
            "Setting up libmagic1:amd64 (1:5.32-2ubuntu0.4) ...\n",
            "Setting up libmagic-dev:amd64 (1:5.32-2ubuntu0.4) ...\n",
            "Processing triggers for man-db (2.8.3-2ubuntu0.1) ...\n",
            "Processing triggers for libc-bin (2.27-3ubuntu1.5) ...\n",
            "Looking in indexes: https://pypi.org/simple, https://us-python.pkg.dev/colab-wheels/public/simple/\n",
            "Collecting querido-diario-toolbox\n",
            "  Downloading querido_diario_toolbox-0.2.0-py2.py3-none-any.whl (11 kB)\n",
            "Collecting python-magic\n",
            "  Downloading python_magic-0.4.27-py2.py3-none-any.whl (13 kB)\n",
            "Installing collected packages: python-magic, querido-diario-toolbox\n",
            "Successfully installed python-magic-0.4.27 querido-diario-toolbox-0.2.0\n"
          ]
        }
      ],
      "source": [
        "# Se não tiver o querido-diario-toolbox instalado (no Google Colab não tem), execute essa célula\n",
        "!apt-get install libmagic-dev\n",
        "!pip install --ignore-requires-python querido-diario-toolbox"
      ]
    },
    {
      "cell_type": "code",
      "execution_count": 86,
      "metadata": {
        "id": "skJk0tjQLr-9"
      },
      "outputs": [],
      "source": [
        "import requests\n",
        "from querido_diario_toolbox.process.edition_process import is_valid_cnpj"
      ]
    },
    {
      "cell_type": "markdown",
      "metadata": {
        "id": "B-83a7bD30nA"
      },
      "source": [
        "### Identificando CNPJs"
      ]
    },
    {
      "cell_type": "code",
      "execution_count": null,
      "metadata": {
        "id": "eBqifx7H30nA"
      },
      "outputs": [],
      "source": [
        "df_empresas['CNPJ/CEI/CPF']"
      ]
    },
    {
      "cell_type": "code",
      "execution_count": null,
      "metadata": {
        "id": "HW_cCSnQ30nA"
      },
      "outputs": [],
      "source": [
        "# Observando o tipo da coluna\n",
        "df_empresas['CNPJ/CEI/CPF'].dtype"
      ]
    },
    {
      "cell_type": "code",
      "execution_count": null,
      "metadata": {
        "id": "VN8K29IQ30nA"
      },
      "outputs": [],
      "source": [
        "# A função de checar se é um CNPJ válido pede uma string (ou \"object\", como o pandas gosta de chamar)\n",
        "df_empresas['CNPJ/CEI/CPF'].apply(is_valid_cnpj)"
      ]
    },
    {
      "cell_type": "code",
      "execution_count": null,
      "metadata": {
        "id": "4ZbqNaY-30nA"
      },
      "outputs": [],
      "source": [
        "# Convertendo tipo da coluna\n",
        "df_empresas['CNPJ/CEI/CPF'] = df_empresas['CNPJ/CEI/CPF'].astype('str')\n",
        "df_empresas['CNPJ/CEI/CPF'].apply(is_valid_cnpj)"
      ]
    },
    {
      "cell_type": "code",
      "execution_count": null,
      "metadata": {
        "id": "yF3YQTgs30nA"
      },
      "outputs": [],
      "source": [
        "# Filtrando DataFrame apenas pelas linhas que tem empresas com CNPJ válido\n",
        "df_empresas = df_empresas[df_empresas['CNPJ/CEI/CPF'].apply(is_valid_cnpj)]"
      ]
    },
    {
      "cell_type": "markdown",
      "metadata": {
        "id": "Gts_6LLE30nA"
      },
      "source": [
        "### Buscando CNPJs no Querido Diário"
      ]
    },
    {
      "cell_type": "code",
      "execution_count": null,
      "metadata": {
        "id": "MW56L7Hg30nA"
      },
      "outputs": [],
      "source": [
        "# Selecionando linha específica\n",
        "df_empresas['CNPJ/CEI/CPF'].iloc[20]"
      ]
    },
    {
      "cell_type": "code",
      "execution_count": null,
      "metadata": {
        "id": "H7n1fCkI30nA"
      },
      "outputs": [],
      "source": [
        "# Inserindo código dentro de uma string com f-strings\n",
        "url = f\"https://queridodiario.ok.org.br/api/gazettes/?keywords={df_empresas['CNPJ/CEI/CPF'].iloc[20]}&size=10&fragment_size=1000&pre_tags=@@@&post_tags=@@@\"\n",
        "url"
      ]
    },
    {
      "cell_type": "code",
      "execution_count": null,
      "metadata": {
        "id": "sq1d9vrD30nB"
      },
      "outputs": [],
      "source": [
        "# Com requests, fica fácil fazer requisições para qualquer site na internet e assim podemos interagir com a API do QD\n",
        "response = requests.get(url)\n",
        "response.json()"
      ]
    },
    {
      "cell_type": "code",
      "execution_count": null,
      "metadata": {
        "id": "s_crGcIB30nB"
      },
      "outputs": [],
      "source": [
        "# Repetindo a busca no QD para todos os CNPJs\n",
        "ocorrencias = []\n",
        "for cnpj in df_empresas['CNPJ/CEI/CPF']:\n",
        "    url = f\"https://queridodiario.ok.org.br/api/gazettes/?keywords={cnpj}&size=10&fragment_size=1000\"\n",
        "    response_json = requests.get(url).json()\n",
        "    ocorrencia = {'cnpj': cnpj, 'n_ocorrencias': response_json['total_gazettes']}\n",
        "    ocorrencias.append(ocorrencia)\n",
        "\n",
        "# Criando um DataFrame a partir de uma lista de dicionários (ocorrencias)\n",
        "ocorrencias_por_cnpj = pd.DataFrame(ocorrencias)\n",
        "ocorrencias_por_cnpj"
      ]
    },
    {
      "cell_type": "code",
      "execution_count": null,
      "metadata": {
        "id": "0GcHgvvC30nB"
      },
      "outputs": [],
      "source": [
        "n_ocorrencias_positivo = ocorrencias_por_cnpj[ocorrencias_por_cnpj['n_ocorrencias'] > 0]\n",
        "n_ocorrencias_positivo"
      ]
    },
    {
      "cell_type": "code",
      "execution_count": null,
      "metadata": {
        "id": "b_2g91Ok30nB"
      },
      "outputs": [],
      "source": [
        "# Podemos excluir linhas duplicadas\n",
        "n_ocorrencias_positivo = n_ocorrencias_positivo.drop_duplicates()\n",
        "n_ocorrencias_positivo"
      ]
    },
    {
      "cell_type": "code",
      "execution_count": null,
      "metadata": {
        "id": "PV8O5M9h30nB"
      },
      "outputs": [],
      "source": [
        "# Também podemos visualizar em gráfico!\n",
        "n_ocorrencias_positivo.plot.barh(x='cnpj')"
      ]
    },
    {
      "cell_type": "code",
      "execution_count": null,
      "metadata": {
        "id": "cUgNOhx930nB"
      },
      "outputs": [],
      "source": [
        "n_ocorrencias_positivo['cnpj'].iloc[0]"
      ]
    },
    {
      "cell_type": "markdown",
      "metadata": {
        "id": "9uXQThNi30nB"
      },
      "source": [
        "### Cruzando dados com a RFB usando Minha Receita"
      ]
    },
    {
      "cell_type": "code",
      "execution_count": null,
      "metadata": {
        "id": "15M8pwCn30nB"
      },
      "outputs": [],
      "source": [
        "url = f\"https://minhareceita.org/{n_ocorrencias_positivo['cnpj'].iloc[0]}\"\n",
        "response = requests.get(url)\n",
        "response.json()"
      ]
    },
    {
      "cell_type": "code",
      "execution_count": null,
      "metadata": {
        "id": "NsEYeVn430nB"
      },
      "outputs": [],
      "source": [
        "cnpj_infos = []\n",
        "for cnpj in n_ocorrencias_positivo['cnpj']:\n",
        "    url = f\"https://minhareceita.org/{cnpj}\"\n",
        "    response_json = requests.get(url).json()\n",
        "    cnpj_infos.append(response_json)\n",
        "    \n",
        "cnpj_infos = pd.DataFrame(cnpj_infos)\n",
        "cnpj_infos"
      ]
    },
    {
      "cell_type": "code",
      "execution_count": null,
      "metadata": {
        "id": "UPNvv7zx30nB"
      },
      "outputs": [],
      "source": [
        "# Quando temos colunas com a mesma informação em dois DataFrames, podemos mesclá-los\n",
        "cnpj_infos = n_ocorrencias_positivo.merge(cnpj_infos, left_on='cnpj', right_on='cnpj')\n",
        "cnpj_infos"
      ]
    },
    {
      "cell_type": "code",
      "execution_count": null,
      "metadata": {
        "scrolled": true,
        "id": "DLwehywa30nC"
      },
      "outputs": [],
      "source": [
        "# E isso pode ser repetido até cruzarmos todas as informações que coletamos\n",
        "cnpj_infos.merge(df_empresas, left_on='cnpj', right_on='CNPJ/CEI/CPF')"
      ]
    }
  ],
  "metadata": {
    "colab": {
      "name": "oficina_codabr21.ipynb",
      "provenance": [],
      "include_colab_link": true
    },
    "kernelspec": {
      "display_name": "Python 3 (ipykernel)",
      "language": "python",
      "name": "python3"
    },
    "language_info": {
      "codemirror_mode": {
        "name": "ipython",
        "version": 3
      },
      "file_extension": ".py",
      "mimetype": "text/x-python",
      "name": "python",
      "nbconvert_exporter": "python",
      "pygments_lexer": "ipython3",
      "version": "3.9.7"
    }
  },
  "nbformat": 4,
  "nbformat_minor": 0
}