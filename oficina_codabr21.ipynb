{
  "nbformat": 4,
  "nbformat_minor": 0,
  "metadata": {
    "colab": {
      "name": "oficina_codabr21.ipynb",
      "provenance": [],
      "mount_file_id": "1ekjp3P0CDRahFn1vfmIBattOlDJnTh4c",
      "authorship_tag": "ABX9TyPfpFsQbtElIGFeiDfCoxsT",
      "include_colab_link": true
    },
    "kernelspec": {
      "name": "python3",
      "display_name": "Python 3"
    },
    "language_info": {
      "name": "python"
    }
  },
  "cells": [
    {
      "cell_type": "markdown",
      "metadata": {
        "id": "view-in-github",
        "colab_type": "text"
      },
      "source": [
        "<a href=\"https://colab.research.google.com/github/anicelysantos/oficina-codabr21/blob/main/oficina_codabr21.ipynb\" target=\"_parent\"><img src=\"https://colab.research.google.com/assets/colab-badge.svg\" alt=\"Open In Colab\"/></a>"
      ]
    },
    {
      "cell_type": "markdown",
      "metadata": {
        "id": "o3aw455X5MXf"
      },
      "source": [
        "# **Programação do zero a prática: Primeiros passos com Python** 🐍🎲🐼"
      ]
    },
    {
      "cell_type": "markdown",
      "metadata": {
        "id": "LSC0aDZy52SM"
      },
      "source": [
        "## Notebooks 💻"
      ]
    },
    {
      "cell_type": "markdown",
      "metadata": {
        "id": "Pknz2Rup56p2"
      },
      "source": [
        "\n",
        "\n",
        "*   O que são\n",
        "*   Como funcionam\n",
        "*   Mini tour pelos principais lugares\n",
        "*   Erros comuns:\n",
        "  *  Congelar a célula\n",
        "  *  Erro na célula\n",
        "\n"
      ]
    },
    {
      "cell_type": "markdown",
      "metadata": {
        "id": "PeH8HQvT2SuR"
      },
      "source": [
        "## Python, bem basiquinho 🐍"
      ]
    },
    {
      "cell_type": "markdown",
      "metadata": {
        "id": "AKh7duJomW_D"
      },
      "source": [
        "### Agenda"
      ]
    },
    {
      "cell_type": "markdown",
      "metadata": {
        "id": "6_sfJ0dH6fOL"
      },
      "source": [
        "*    O que é o Python\n",
        "*    Comentários\n",
        "*    Import\n",
        "  *  Zen do Python\n",
        "*    Tipos de dados\n",
        "  *  Type\n",
        "  *  String\n",
        "      *  Funções\n",
        "  *  Números \n",
        "  *  Booleanos\n",
        "*    Variável\n",
        "*    Método\n",
        "*    Função Print\n",
        "* Coleção de dados\n",
        "  *  Listas\n",
        "  * Dicionários\n",
        "* For\n",
        "* If e Else\n",
        "\n",
        "\n",
        "\n"
      ]
    },
    {
      "cell_type": "markdown",
      "metadata": {
        "id": "HLeQ3P_2mfQ5"
      },
      "source": [
        "### Import"
      ]
    },
    {
      "cell_type": "code",
      "metadata": {
        "id": "l7SKQx7Y2qj2"
      },
      "source": [
        "#Zen do Python\n",
        "#import this"
      ],
      "execution_count": null,
      "outputs": []
    },
    {
      "cell_type": "markdown",
      "metadata": {
        "id": "q9HwlFviQFg3"
      },
      "source": [
        "### String"
      ]
    },
    {
      "cell_type": "code",
      "metadata": {
        "id": "qJhRi0tCQX_8"
      },
      "source": [
        "#'Olá Mundo'"
      ],
      "execution_count": null,
      "outputs": []
    },
    {
      "cell_type": "code",
      "metadata": {
        "id": "rJVt-fYuQdpk"
      },
      "source": [
        "#\"Olá, pessoal!\""
      ],
      "execution_count": null,
      "outputs": []
    },
    {
      "cell_type": "code",
      "metadata": {
        "id": "M3zmmQNVSMJF"
      },
      "source": [
        "#'Quinta'+'-'+'Feira'"
      ],
      "execution_count": null,
      "outputs": []
    },
    {
      "cell_type": "code",
      "metadata": {
        "id": "NfJXHnGRQ4_W"
      },
      "source": [
        "#type('Oie')"
      ],
      "execution_count": null,
      "outputs": []
    },
    {
      "cell_type": "code",
      "metadata": {
        "id": "dJSFtgMsSdgF"
      },
      "source": [
        "#Qual a diferença?\n",
        "#2+3 / '2'+'3'"
      ],
      "execution_count": null,
      "outputs": []
    },
    {
      "cell_type": "markdown",
      "metadata": {
        "id": "SnVrJqd7QWuw"
      },
      "source": [
        "### Números"
      ]
    },
    {
      "cell_type": "code",
      "metadata": {
        "id": "nsEzGSFiR-LS"
      },
      "source": [
        "#Inteiros\n",
        "#type(21)"
      ],
      "execution_count": null,
      "outputs": []
    },
    {
      "cell_type": "code",
      "metadata": {
        "id": "wHLUI1B9W-t6"
      },
      "source": [
        "type(21.2)"
      ],
      "execution_count": null,
      "outputs": []
    },
    {
      "cell_type": "markdown",
      "metadata": {
        "id": "jPJEVHVgXZOa"
      },
      "source": [
        "**Operações matemáticas**"
      ]
    },
    {
      "cell_type": "code",
      "metadata": {
        "id": "o6RSlfBtXFJl"
      },
      "source": [
        "#Soma\n",
        "#2 + 2"
      ],
      "execution_count": null,
      "outputs": []
    },
    {
      "cell_type": "code",
      "metadata": {
        "id": "GNuSronLXidb"
      },
      "source": [
        "#Subtração\n",
        "#2-2"
      ],
      "execution_count": null,
      "outputs": []
    },
    {
      "cell_type": "code",
      "metadata": {
        "id": "DjxtY33_XpsS"
      },
      "source": [
        "#Divisão\n",
        "#2/2"
      ],
      "execution_count": null,
      "outputs": []
    },
    {
      "cell_type": "code",
      "metadata": {
        "id": "HjsSnH6HX2-N"
      },
      "source": [
        "#Multiplicação\n",
        "#2*2"
      ],
      "execution_count": null,
      "outputs": []
    },
    {
      "cell_type": "code",
      "metadata": {
        "id": "TYQHlWb-X-k9"
      },
      "source": [
        "#Potência\n",
        "#2**2"
      ],
      "execution_count": null,
      "outputs": []
    },
    {
      "cell_type": "code",
      "metadata": {
        "id": "I0Lysd_tYLyx"
      },
      "source": [
        "#Qual o resultado?\n",
        "2+4/2"
      ],
      "execution_count": null,
      "outputs": []
    },
    {
      "cell_type": "markdown",
      "metadata": {
        "id": "lM6AMQZlY_Q9"
      },
      "source": [
        "### Booleano"
      ]
    },
    {
      "cell_type": "code",
      "metadata": {
        "id": "qPNS9hNXZERE"
      },
      "source": [
        "type(False)"
      ],
      "execution_count": null,
      "outputs": []
    },
    {
      "cell_type": "code",
      "metadata": {
        "id": "G88_f0ICZUub"
      },
      "source": [
        "type(True)"
      ],
      "execution_count": null,
      "outputs": []
    },
    {
      "cell_type": "markdown",
      "metadata": {
        "id": "gZR98mv7bn9z"
      },
      "source": [
        "### Variáveis"
      ]
    },
    {
      "cell_type": "code",
      "metadata": {
        "id": "DKJ6WTF-bvUQ"
      },
      "source": [
        "#numero = 35"
      ],
      "execution_count": null,
      "outputs": []
    },
    {
      "cell_type": "markdown",
      "metadata": {
        "id": "7jfB1jfaZgVb"
      },
      "source": [
        "**Operadores lógicos**"
      ]
    },
    {
      "cell_type": "code",
      "metadata": {
        "id": "yWKjui3CcU7S"
      },
      "source": [
        "#Comparação\n",
        "#numero == 34"
      ],
      "execution_count": null,
      "outputs": []
    },
    {
      "cell_type": "code",
      "metadata": {
        "id": "jXsexwB6dSNz"
      },
      "source": [
        "#Diferente\n",
        "#numero != 15"
      ],
      "execution_count": null,
      "outputs": []
    },
    {
      "cell_type": "code",
      "metadata": {
        "id": "F2zOSRH3Zfrs"
      },
      "source": [
        "#Maior que\n",
        "#2 > 4"
      ],
      "execution_count": null,
      "outputs": []
    },
    {
      "cell_type": "code",
      "metadata": {
        "id": "nURbtZWXZqlM"
      },
      "source": [
        "#Menor que\n",
        "#2 < 4"
      ],
      "execution_count": null,
      "outputs": []
    },
    {
      "cell_type": "code",
      "metadata": {
        "id": "ym9Mp5ULbM6z"
      },
      "source": [
        "#Maior igual\n",
        "#numero >= 8"
      ],
      "execution_count": null,
      "outputs": []
    },
    {
      "cell_type": "code",
      "metadata": {
        "id": "qOUidzyXbhyn"
      },
      "source": [
        "#Menor igual\n",
        "#numero <= 100"
      ],
      "execution_count": null,
      "outputs": []
    },
    {
      "cell_type": "markdown",
      "metadata": {
        "id": "o2NEBmkGebuN"
      },
      "source": [
        "### Métodos"
      ]
    },
    {
      "cell_type": "code",
      "metadata": {
        "id": "d3_H30ykfVYT"
      },
      "source": [
        "#minha_fruta =  'banana'"
      ],
      "execution_count": null,
      "outputs": []
    },
    {
      "cell_type": "code",
      "metadata": {
        "id": "p9S85QiNfvFU"
      },
      "source": [
        "#minha_fruta.upper()"
      ],
      "execution_count": null,
      "outputs": []
    },
    {
      "cell_type": "code",
      "metadata": {
        "id": "XeRr27rKf21q"
      },
      "source": [
        "#minha_fruta.lower()"
      ],
      "execution_count": null,
      "outputs": []
    },
    {
      "cell_type": "code",
      "metadata": {
        "id": "jRagsc0xgNal"
      },
      "source": [
        "#minha_fruta.count('a')"
      ],
      "execution_count": null,
      "outputs": []
    },
    {
      "cell_type": "code",
      "metadata": {
        "colab": {
          "base_uri": "https://localhost:8080/",
          "height": 35
        },
        "id": "rDLhJB5YhQbM",
        "outputId": "537956d4-d1b6-4397-a6f9-375c8f75e56b"
      },
      "source": [
        "#bebida = 'água de coco'\n",
        "#bebida"
      ],
      "execution_count": null,
      "outputs": [
        {
          "output_type": "execute_result",
          "data": {
            "application/vnd.google.colaboratory.intrinsic+json": {
              "type": "string"
            },
            "text/plain": [
              "'água de coco'"
            ]
          },
          "metadata": {},
          "execution_count": 44
        }
      ]
    },
    {
      "cell_type": "code",
      "metadata": {
        "colab": {
          "base_uri": "https://localhost:8080/"
        },
        "id": "7_5n3qS9hiG0",
        "outputId": "33b5a9c7-8c79-441e-96c9-57edd96a95a8"
      },
      "source": [
        "#Separar\n",
        "#bebida.split()"
      ],
      "execution_count": null,
      "outputs": [
        {
          "output_type": "execute_result",
          "data": {
            "text/plain": [
              "['água', 'de', 'coco']"
            ]
          },
          "metadata": {},
          "execution_count": 35
        }
      ]
    },
    {
      "cell_type": "code",
      "metadata": {
        "id": "BUooZvyyhrDl"
      },
      "source": [
        "#Métodos encandeados\n",
        "#bebida.upper().split()"
      ],
      "execution_count": null,
      "outputs": []
    },
    {
      "cell_type": "code",
      "metadata": {
        "id": "YJxZUz_OikVk"
      },
      "source": [
        "#Mudanças na String\n",
        "#bebida_grande = bebida.upper().split()\n",
        "#bebida_grande"
      ],
      "execution_count": null,
      "outputs": []
    },
    {
      "cell_type": "markdown",
      "metadata": {
        "id": "AlWV8GmCjCnf"
      },
      "source": [
        "### Print"
      ]
    },
    {
      "cell_type": "code",
      "metadata": {
        "id": "lcZ1NohJjFzE"
      },
      "source": [
        "#print('bom dia') "
      ],
      "execution_count": null,
      "outputs": []
    },
    {
      "cell_type": "code",
      "metadata": {
        "id": "MVjRSuGljURo"
      },
      "source": [
        "#evento = 'Coda'"
      ],
      "execution_count": null,
      "outputs": []
    },
    {
      "cell_type": "code",
      "metadata": {
        "id": "bwPdT2R8lkui"
      },
      "source": [
        "#print(f'bom dia, {evento}')"
      ],
      "execution_count": null,
      "outputs": []
    },
    {
      "cell_type": "markdown",
      "metadata": {
        "id": "VO4-8HRAsJOB"
      },
      "source": [
        "###Listas"
      ]
    },
    {
      "cell_type": "code",
      "metadata": {
        "id": "jMoT_D-0sOIX"
      },
      "source": [
        "#frutas = ['pera', 'uva', 'maçã','laranja']"
      ],
      "execution_count": null,
      "outputs": []
    },
    {
      "cell_type": "code",
      "metadata": {
        "id": "hEIy0voYskSz"
      },
      "source": [
        "#Pegar o segundo elemento\n",
        "#frutas[2]"
      ],
      "execution_count": null,
      "outputs": []
    },
    {
      "cell_type": "code",
      "metadata": {
        "id": "liMHYxC0ss9Q"
      },
      "source": [
        "#Pegar o último elemento\n",
        "#frutas[-1]"
      ],
      "execution_count": null,
      "outputs": []
    },
    {
      "cell_type": "markdown",
      "metadata": {
        "id": "raHCbb2vuzkC"
      },
      "source": [
        "**Fatiamento de listas**"
      ]
    },
    {
      "cell_type": "code",
      "metadata": {
        "id": "o9WJJ5kZs18X"
      },
      "source": [
        "#frutas[0:2]"
      ],
      "execution_count": null,
      "outputs": []
    },
    {
      "cell_type": "code",
      "metadata": {
        "id": "M4ncQU9ftIkz"
      },
      "source": [
        "#frutas[:1]"
      ],
      "execution_count": null,
      "outputs": []
    },
    {
      "cell_type": "code",
      "metadata": {
        "id": "pzXVu8actZ5G"
      },
      "source": [
        "#frutas[3:]"
      ],
      "execution_count": null,
      "outputs": []
    },
    {
      "cell_type": "code",
      "metadata": {
        "id": "_wOCunk5tsSs"
      },
      "source": [
        "#Tamanho de uma lista\n",
        "#len(frutas)"
      ],
      "execution_count": null,
      "outputs": []
    },
    {
      "cell_type": "code",
      "metadata": {
        "id": "0z1i5oLUtwhn"
      },
      "source": [
        "#Incluir um item\n",
        "#frutas.append('melancia')"
      ],
      "execution_count": null,
      "outputs": []
    },
    {
      "cell_type": "code",
      "metadata": {
        "id": "JaarEYrkt08f"
      },
      "source": [
        "#Excluir um item\n",
        "#frutas.pop()"
      ],
      "execution_count": null,
      "outputs": []
    },
    {
      "cell_type": "markdown",
      "metadata": {
        "id": "je3NQKdRxlWD"
      },
      "source": [
        "###Dicionário"
      ]
    },
    {
      "cell_type": "code",
      "metadata": {
        "id": "Z9DRA3uZt_33"
      },
      "source": [
        "salada_de_frutas = {'ingredientes': frutas,\n",
        "                    'preparo':'corte tudo e misture',\n",
        "                    'tempo':60\n",
        "                    }\n"
      ],
      "execution_count": null,
      "outputs": []
    },
    {
      "cell_type": "code",
      "metadata": {
        "id": "czfbnt0nyZfz"
      },
      "source": [
        "#pegar um item\n",
        "#salada_de_frutas['ingredientes']"
      ],
      "execution_count": null,
      "outputs": []
    },
    {
      "cell_type": "code",
      "metadata": {
        "id": "jJWLs4WnypPo"
      },
      "source": [
        "#adicionar item \n",
        "#salada_de_frutas['porções'] = 7"
      ],
      "execution_count": null,
      "outputs": []
    },
    {
      "cell_type": "code",
      "metadata": {
        "id": "aw06ygBsyvqm"
      },
      "source": [
        "#excluir item\n",
        "del salada_de_frutas['tempo']"
      ],
      "execution_count": null,
      "outputs": []
    },
    {
      "cell_type": "markdown",
      "metadata": {
        "id": "WCSgJGvdzbPY"
      },
      "source": [
        "### Estrutura de repetição `For`"
      ]
    },
    {
      "cell_type": "code",
      "metadata": {
        "id": "4FdRAfc51jLo"
      },
      "source": [
        "#iterando em listas\n",
        "for fruta in frutas:\n",
        "  print(fruta)"
      ],
      "execution_count": null,
      "outputs": []
    },
    {
      "cell_type": "code",
      "metadata": {
        "id": "-A5IbDK_3BOp"
      },
      "source": [
        "#Pegar as chaves do dicionário\n",
        "for chave in salada_de_frutas:\n",
        "  print(chave)"
      ],
      "execution_count": null,
      "outputs": []
    },
    {
      "cell_type": "code",
      "metadata": {
        "id": "bkyqGJu43fDP"
      },
      "source": [
        "#Pegar valor das chaves no dicionário\n",
        "for chave in salada_de_frutas:\n",
        "  print(salada_de_frutas[chave])"
      ],
      "execution_count": null,
      "outputs": []
    },
    {
      "cell_type": "code",
      "metadata": {
        "id": "QH_itNsA2Kh6"
      },
      "source": [
        "#Iterando em elementos de uma string\n",
        "for letra in evento:\n",
        "  print(letra)"
      ],
      "execution_count": null,
      "outputs": []
    },
    {
      "cell_type": "markdown",
      "metadata": {
        "id": "F1o4dtZR2F9I"
      },
      "source": [
        "### Estrutura condicional `if`"
      ]
    },
    {
      "cell_type": "code",
      "metadata": {
        "id": "1TOsBM274-7r"
      },
      "source": [
        "if 4 > 3:\n",
        "  print('É maior sim!')"
      ],
      "execution_count": null,
      "outputs": []
    },
    {
      "cell_type": "code",
      "metadata": {
        "id": "qn0aSzyM5MpV"
      },
      "source": [
        "if 4 >= 7:\n",
        "  print('É maior sim!')\n",
        "else:\n",
        "  print('Claro que não!')"
      ],
      "execution_count": null,
      "outputs": []
    },
    {
      "cell_type": "code",
      "metadata": {
        "id": "rDKJHAMb5fXq"
      },
      "source": [
        "idade = 21\n",
        "\n",
        "if idade > 30:\n",
        "  print('Sou adulto')\n",
        "elif idade > 19 & idade <= 30:\n",
        "  print('sou jovem')\n",
        "else:\n",
        "  print('sou adolas')\n",
        "\n"
      ],
      "execution_count": null,
      "outputs": []
    },
    {
      "cell_type": "markdown",
      "metadata": {
        "id": "xo7NFdsf0Id5"
      },
      "source": [
        "## Pandas 🐼🎲"
      ]
    },
    {
      "cell_type": "markdown",
      "metadata": {
        "id": "uTpW1Kil0Vlf"
      },
      "source": [
        "*  Importar o pandas\n",
        "*  Carga de dados\n",
        "*  Detalhando os dados\n",
        "*  Organizando os dados\n",
        "*  Filtrando os dados\n",
        "*  Agrupando e agregando\n",
        "*  Exportando "
      ]
    },
    {
      "cell_type": "markdown",
      "metadata": {
        "id": "wR2nJ5Rj7PpM"
      },
      "source": [
        "### Importar a `Biblioteca`"
      ]
    },
    {
      "cell_type": "code",
      "metadata": {
        "id": "rWDNuStL41Te"
      },
      "source": [
        "import pandas as pd"
      ],
      "execution_count": 1,
      "outputs": []
    },
    {
      "cell_type": "markdown",
      "metadata": {
        "id": "87TxFyGU7Zm1"
      },
      "source": [
        "### Carga de dados"
      ]
    },
    {
      "cell_type": "code",
      "metadata": {
        "id": "n36diWCK43nk"
      },
      "source": [
        "df_empresas = pd.read_csv('https://raw.githubusercontent.com/anicelysantos/oficina-codabr21/main/empresas_trabalho_escravo.csv')"
      ],
      "execution_count": 4,
      "outputs": []
    },
    {
      "cell_type": "markdown",
      "metadata": {
        "id": "tkqPwgdO9mmX"
      },
      "source": [
        "### Detalhando os dados"
      ]
    },
    {
      "cell_type": "code",
      "metadata": {
        "id": "2lFuqije9lGb"
      },
      "source": [
        "df_empresas.head(10)"
      ],
      "execution_count": null,
      "outputs": []
    },
    {
      "cell_type": "code",
      "metadata": {
        "id": "HcVqxZaO9vwB"
      },
      "source": [
        "df_empresas.sample(3)"
      ],
      "execution_count": null,
      "outputs": []
    },
    {
      "cell_type": "code",
      "metadata": {
        "id": "P8MBZ68J915b"
      },
      "source": [
        "df_empresas.tail(3)"
      ],
      "execution_count": null,
      "outputs": []
    },
    {
      "cell_type": "code",
      "metadata": {
        "id": "-hHkp0ba-Fsi"
      },
      "source": [
        "#resumo estatístico\n",
        "df_empresas.describe()"
      ],
      "execution_count": null,
      "outputs": []
    },
    {
      "cell_type": "code",
      "metadata": {
        "id": "Y0Dszx3m-RjJ"
      },
      "source": [
        "#Quantidade de linhas e colunas\n",
        "df_empresas.shape"
      ],
      "execution_count": null,
      "outputs": []
    },
    {
      "cell_type": "code",
      "metadata": {
        "id": "9EBTXADx-nZb"
      },
      "source": [
        "#Nome das colunas e tipos de dados\n",
        "df_empresas.dtypes"
      ],
      "execution_count": null,
      "outputs": []
    },
    {
      "cell_type": "code",
      "metadata": {
        "id": "SN5JhRCV-1QY"
      },
      "source": [
        "#Nome das colunas\n",
        "df_empresas.columns"
      ],
      "execution_count": null,
      "outputs": []
    },
    {
      "cell_type": "markdown",
      "metadata": {
        "id": "yfOIgKuT0zea"
      },
      "source": [
        "### Organizando os dados"
      ]
    },
    {
      "cell_type": "code",
      "metadata": {
        "id": "-NlClOYp04bF"
      },
      "source": [
        "#Ordena os dados\n",
        "df_empresas.sort_values('UF')"
      ],
      "execution_count": null,
      "outputs": []
    },
    {
      "cell_type": "code",
      "metadata": {
        "id": "3SL5N9f11c_t"
      },
      "source": [
        "#ordena decrescentemente\n",
        "df_empresas.sort_values('UF', ascending=False)"
      ],
      "execution_count": null,
      "outputs": []
    },
    {
      "cell_type": "code",
      "metadata": {
        "id": "oYMXid4N1mtF"
      },
      "source": [
        "#As 10 primeiras linhas\n",
        "df_empresas.sort_values('UF').head(10)"
      ],
      "execution_count": null,
      "outputs": []
    },
    {
      "cell_type": "code",
      "metadata": {
        "id": "FI5uul4O2HuP"
      },
      "source": [
        "#Ordenas por mais de uma coluna\n",
        "df_empresas.sort_values(['UF','Ano'])"
      ],
      "execution_count": null,
      "outputs": []
    },
    {
      "cell_type": "markdown",
      "metadata": {
        "id": "e7yLrQS13VLq"
      },
      "source": [
        "### Filtrando os dados"
      ]
    },
    {
      "cell_type": "markdown",
      "metadata": {
        "id": "2ARSqtmC3ghn"
      },
      "source": [
        "**Filtro de coluna**"
      ]
    },
    {
      "cell_type": "code",
      "metadata": {
        "id": "Lw2dmiQG3UmQ"
      },
      "source": [
        "df_empresas.UF"
      ],
      "execution_count": null,
      "outputs": []
    },
    {
      "cell_type": "code",
      "metadata": {
        "id": "hfCpLyHS3s6T"
      },
      "source": [
        "df_empresas['Município']"
      ],
      "execution_count": null,
      "outputs": []
    },
    {
      "cell_type": "code",
      "metadata": {
        "id": "01Us8vXb3-J-"
      },
      "source": [
        "df_empresas['Descrição CNAE'].unique()"
      ],
      "execution_count": null,
      "outputs": []
    },
    {
      "cell_type": "code",
      "metadata": {
        "id": "KVlIlDvv4QVH"
      },
      "source": [
        "#Contar valores\n",
        "df_empresas['Município'].value_counts()"
      ],
      "execution_count": null,
      "outputs": []
    },
    {
      "cell_type": "markdown",
      "metadata": {
        "id": "c-zQMcSD4m_3"
      },
      "source": [
        "Para colunas numérias:\n",
        "\n",
        "*  `min()` pega o menor valor\n",
        "*  `max()` pega o maior valor\n",
        "*  `median()` pega a mediana\n",
        "*  `mean()` pega a média\n",
        "*  `mode()` pega o valor mais comum"
      ]
    },
    {
      "cell_type": "code",
      "metadata": {
        "id": "L5_UxMR24k0H"
      },
      "source": [
        "df_empresas['Nº Trab. cond. analog escravo'].max()"
      ],
      "execution_count": null,
      "outputs": []
    },
    {
      "cell_type": "code",
      "metadata": {
        "id": "J7tjlM_G7iSM"
      },
      "source": [
        "df_empresas[df_empresas.UF == 'PE']"
      ],
      "execution_count": null,
      "outputs": []
    },
    {
      "cell_type": "markdown",
      "metadata": {
        "id": "OkCEKJks5nc2"
      },
      "source": [
        "**Filtro de linha**"
      ]
    },
    {
      "cell_type": "code",
      "metadata": {
        "id": "IRqPkCnH5qr-"
      },
      "source": [
        "df_empresas[df_empresas['Nº Trab. cond. analog escravo'] > 10]"
      ],
      "execution_count": null,
      "outputs": []
    },
    {
      "cell_type": "code",
      "metadata": {
        "id": "7LsI6S9d6Gji"
      },
      "source": [
        "df_empresas[df_empresas.Ano > 2017]"
      ],
      "execution_count": null,
      "outputs": []
    },
    {
      "cell_type": "code",
      "metadata": {
        "id": "P1bd3ukF6g9y"
      },
      "source": [
        "#Filtros compostos\n",
        "\n",
        "acima_dez_libertos = df_empresas[df_empresas['Nº Trab. cond. analog escravo'] > 10]\n",
        "\n",
        "acima_dez_libertos[df_empresas.Ano > 2017].head()"
      ],
      "execution_count": null,
      "outputs": []
    },
    {
      "cell_type": "markdown",
      "metadata": {
        "id": "cy-n96aD_nwm"
      },
      "source": [
        "### Agrupar e agregar dados"
      ]
    },
    {
      "cell_type": "code",
      "metadata": {
        "id": "NklFoy1T8zvy"
      },
      "source": [
        "df_empresas.groupby('Ano')"
      ],
      "execution_count": null,
      "outputs": []
    },
    {
      "cell_type": "code",
      "metadata": {
        "id": "tXmHdj6f9V7-"
      },
      "source": [
        "df_empresas.groupby('Ano').sum()"
      ],
      "execution_count": null,
      "outputs": []
    },
    {
      "cell_type": "code",
      "metadata": {
        "id": "cjKCTqh39vys"
      },
      "source": [
        "df_empresas[['Ano','Nº Trab. cond. analog escravo']].groupby('Ano').sum().sort_values('Nº Trab. cond. analog escravo', ascending=False)"
      ],
      "execution_count": null,
      "outputs": []
    },
    {
      "cell_type": "markdown",
      "metadata": {
        "id": "jiHaRn618PQA"
      },
      "source": [
        "### Bora Investigar? 🔎🕵🏾‍♀️"
      ]
    },
    {
      "cell_type": "code",
      "metadata": {
        "id": "9FhBEhT3D2l9"
      },
      "source": [
        "#Total de pessoas em libertas do trabalho escravo de 2010 a 2020\n",
        "df_empresas['Nº Trab. cond. analog escravo'].sum()"
      ],
      "execution_count": null,
      "outputs": []
    },
    {
      "cell_type": "code",
      "metadata": {
        "id": "Z1xU62GA8GER"
      },
      "source": [
        "#rancking de empresas (CNAE)\n",
        "df_empresas['Descrição CNAE'].value_counts().head(5)"
      ],
      "execution_count": null,
      "outputs": []
    },
    {
      "cell_type": "code",
      "metadata": {
        "id": "q39pGYa67doj"
      },
      "source": [
        "#Qual os 10 estados com mais operações\n",
        "\n",
        "df_empresas[['UF','Operação']].groupby('UF').sum().sort_values('Operação', ascending=False).head(10)"
      ],
      "execution_count": null,
      "outputs": []
    },
    {
      "cell_type": "code",
      "metadata": {
        "id": "a9R7HIyW_D7c"
      },
      "source": [
        "#Ano em que mais houve altuação\n",
        "df_empresas[['Ano','Operação']].groupby('Ano').sum().sort_values('Operação', ascending=False)\n"
      ],
      "execution_count": null,
      "outputs": []
    },
    {
      "cell_type": "code",
      "metadata": {
        "id": "K-XbAAluEWun"
      },
      "source": [
        "#Numero total de pessoas libertas através dos anos por estado\n",
        "df_empresas[['UF','Nº Trab. cond. analog escravo']].groupby('UF').sum().sort_values('Nº Trab. cond. analog escravo', ascending=False)"
      ],
      "execution_count": null,
      "outputs": []
    },
    {
      "cell_type": "code",
      "metadata": {
        "id": "8u-jPzXFE4Rd"
      },
      "source": [
        "#Qual ano que mais houveram pessoas libertadas\n",
        "df_empresas[['Ano','Nº Trab. cond. analog escravo']].groupby('Ano').sum().sort_values('Nº Trab. cond. analog escravo', ascending=False)"
      ],
      "execution_count": null,
      "outputs": []
    },
    {
      "cell_type": "markdown",
      "metadata": {
        "id": "wsVhE5A7_0pj"
      },
      "source": [
        "### Saaalvandooo 💾"
      ]
    },
    {
      "cell_type": "code",
      "metadata": {
        "id": "36v7H2LaAMn_"
      },
      "source": [
        "df_empresas.to_csv('meu_arquivo.csv', index=False)"
      ],
      "execution_count": 73,
      "outputs": []
    }
  ]
}