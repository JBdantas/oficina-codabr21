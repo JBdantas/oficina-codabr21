{
  "nbformat": 4,
  "nbformat_minor": 0,
  "metadata": {
    "colab": {
      "name": "oficina_codabr21.ipynb",
      "provenance": [],
      "mount_file_id": "1ekjp3P0CDRahFn1vfmIBattOlDJnTh4c",
      "authorship_tag": "ABX9TyNRMK02yNwQGpBKYrTS3QYH",
      "include_colab_link": true
    },
    "kernelspec": {
      "name": "python3",
      "display_name": "Python 3"
    },
    "language_info": {
      "name": "python"
    }
  },
  "cells": [
    {
      "cell_type": "markdown",
      "metadata": {
        "id": "view-in-github",
        "colab_type": "text"
      },
      "source": [
        "<a href=\"https://colab.research.google.com/github/anicelysantos/oficina-codabr/blob/main/oficina_codabr21.ipynb\" target=\"_parent\"><img src=\"https://colab.research.google.com/assets/colab-badge.svg\" alt=\"Open In Colab\"/></a>"
      ]
    },
    {
      "cell_type": "markdown",
      "metadata": {
        "id": "o3aw455X5MXf"
      },
      "source": [
        "# **Programação do zero a prática: Primeiros passos com Python** 🐍🎲🐼"
      ]
    },
    {
      "cell_type": "markdown",
      "metadata": {
        "id": "LSC0aDZy52SM"
      },
      "source": [
        "## Notebooks 💻"
      ]
    },
    {
      "cell_type": "markdown",
      "metadata": {
        "id": "Pknz2Rup56p2"
      },
      "source": [
        "\n",
        "\n",
        "*   O que são\n",
        "*   Como funcionam\n",
        "*   Mini tour pelos principais lugares\n",
        "*   Erros comuns:\n",
        "  *  Congelar a célula\n",
        "  *  Erro na célula\n",
        "\n"
      ]
    },
    {
      "cell_type": "markdown",
      "metadata": {
        "id": "PeH8HQvT2SuR"
      },
      "source": [
        "## Python, bem basiquinho 🐍"
      ]
    },
    {
      "cell_type": "markdown",
      "metadata": {
        "id": "AKh7duJomW_D"
      },
      "source": [
        "### Agenda"
      ]
    },
    {
      "cell_type": "markdown",
      "metadata": {
        "id": "6_sfJ0dH6fOL"
      },
      "source": [
        "*    O que é o Python\n",
        "*    Comentários\n",
        "*    Import\n",
        "  *  Zen do Python\n",
        "*    Tipos de dados\n",
        "  *  Type\n",
        "  *  String\n",
        "      *  Funções\n",
        "  *  Números \n",
        "  *  Booleanos\n",
        "*    Variável\n",
        "*    Método\n",
        "*    Função Print\n",
        "* Coleção de dados\n",
        "  *  Listas\n",
        "  * Dicionários\n",
        "* For\n",
        "* If e Else\n",
        "\n",
        "\n",
        "\n"
      ]
    },
    {
      "cell_type": "markdown",
      "metadata": {
        "id": "HLeQ3P_2mfQ5"
      },
      "source": [
        "### Import"
      ]
    },
    {
      "cell_type": "code",
      "metadata": {
        "id": "l7SKQx7Y2qj2"
      },
      "source": [
        "#Zen do Python\n",
        "#import this"
      ],
      "execution_count": null,
      "outputs": []
    },
    {
      "cell_type": "markdown",
      "metadata": {
        "id": "q9HwlFviQFg3"
      },
      "source": [
        "### String"
      ]
    },
    {
      "cell_type": "code",
      "metadata": {
        "id": "qJhRi0tCQX_8"
      },
      "source": [
        "#'Olá Mundo'"
      ],
      "execution_count": null,
      "outputs": []
    },
    {
      "cell_type": "code",
      "metadata": {
        "id": "rJVt-fYuQdpk"
      },
      "source": [
        "#\"Olá, pessoal!\""
      ],
      "execution_count": null,
      "outputs": []
    },
    {
      "cell_type": "code",
      "metadata": {
        "id": "M3zmmQNVSMJF"
      },
      "source": [
        "#'Quinta'+'-'+'Feira'"
      ],
      "execution_count": null,
      "outputs": []
    },
    {
      "cell_type": "code",
      "metadata": {
        "id": "NfJXHnGRQ4_W"
      },
      "source": [
        "#type('Oie')"
      ],
      "execution_count": null,
      "outputs": []
    },
    {
      "cell_type": "code",
      "metadata": {
        "id": "dJSFtgMsSdgF"
      },
      "source": [
        "#Qual a diferença?\n",
        "#2+3 / '2'+'3'"
      ],
      "execution_count": null,
      "outputs": []
    },
    {
      "cell_type": "markdown",
      "metadata": {
        "id": "SnVrJqd7QWuw"
      },
      "source": [
        "### Números"
      ]
    },
    {
      "cell_type": "code",
      "metadata": {
        "id": "nsEzGSFiR-LS"
      },
      "source": [
        "#Inteiros\n",
        "#type(21)"
      ],
      "execution_count": null,
      "outputs": []
    },
    {
      "cell_type": "code",
      "metadata": {
        "id": "wHLUI1B9W-t6"
      },
      "source": [
        "type(21.2)"
      ],
      "execution_count": null,
      "outputs": []
    },
    {
      "cell_type": "markdown",
      "metadata": {
        "id": "jPJEVHVgXZOa"
      },
      "source": [
        "**Operações matemáticas**"
      ]
    },
    {
      "cell_type": "code",
      "metadata": {
        "id": "o6RSlfBtXFJl"
      },
      "source": [
        "#Soma\n",
        "#2 + 2"
      ],
      "execution_count": null,
      "outputs": []
    },
    {
      "cell_type": "code",
      "metadata": {
        "id": "GNuSronLXidb"
      },
      "source": [
        "#Subtração\n",
        "#2-2"
      ],
      "execution_count": null,
      "outputs": []
    },
    {
      "cell_type": "code",
      "metadata": {
        "id": "DjxtY33_XpsS"
      },
      "source": [
        "#Divisão\n",
        "#2/2"
      ],
      "execution_count": null,
      "outputs": []
    },
    {
      "cell_type": "code",
      "metadata": {
        "id": "HjsSnH6HX2-N"
      },
      "source": [
        "#Multiplicação\n",
        "#2*2"
      ],
      "execution_count": null,
      "outputs": []
    },
    {
      "cell_type": "code",
      "metadata": {
        "id": "TYQHlWb-X-k9"
      },
      "source": [
        "#Potência\n",
        "#2**2"
      ],
      "execution_count": null,
      "outputs": []
    },
    {
      "cell_type": "code",
      "metadata": {
        "id": "I0Lysd_tYLyx"
      },
      "source": [
        "#Qual o resultado?\n",
        "2+4/2"
      ],
      "execution_count": null,
      "outputs": []
    },
    {
      "cell_type": "markdown",
      "metadata": {
        "id": "lM6AMQZlY_Q9"
      },
      "source": [
        "### Booleano"
      ]
    },
    {
      "cell_type": "code",
      "metadata": {
        "id": "qPNS9hNXZERE"
      },
      "source": [
        "type(False)"
      ],
      "execution_count": null,
      "outputs": []
    },
    {
      "cell_type": "code",
      "metadata": {
        "id": "G88_f0ICZUub"
      },
      "source": [
        "type(True)"
      ],
      "execution_count": null,
      "outputs": []
    },
    {
      "cell_type": "markdown",
      "metadata": {
        "id": "gZR98mv7bn9z"
      },
      "source": [
        "### Variáveis"
      ]
    },
    {
      "cell_type": "code",
      "metadata": {
        "id": "DKJ6WTF-bvUQ"
      },
      "source": [
        "#numero = 35"
      ],
      "execution_count": 16,
      "outputs": []
    },
    {
      "cell_type": "markdown",
      "metadata": {
        "id": "7jfB1jfaZgVb"
      },
      "source": [
        "**Operadores lógicos**"
      ]
    },
    {
      "cell_type": "code",
      "metadata": {
        "id": "yWKjui3CcU7S"
      },
      "source": [
        "#Comparação\n",
        "#numero == 34"
      ],
      "execution_count": null,
      "outputs": []
    },
    {
      "cell_type": "code",
      "metadata": {
        "id": "jXsexwB6dSNz"
      },
      "source": [
        "#Diferente\n",
        "#numero != 15"
      ],
      "execution_count": null,
      "outputs": []
    },
    {
      "cell_type": "code",
      "metadata": {
        "id": "F2zOSRH3Zfrs"
      },
      "source": [
        "#Maior que\n",
        "#2 > 4"
      ],
      "execution_count": null,
      "outputs": []
    },
    {
      "cell_type": "code",
      "metadata": {
        "id": "nURbtZWXZqlM"
      },
      "source": [
        "#Menor que\n",
        "#2 < 4"
      ],
      "execution_count": null,
      "outputs": []
    },
    {
      "cell_type": "code",
      "metadata": {
        "id": "ym9Mp5ULbM6z"
      },
      "source": [
        "#Maior igual\n",
        "#numero >= 8"
      ],
      "execution_count": null,
      "outputs": []
    },
    {
      "cell_type": "code",
      "metadata": {
        "id": "qOUidzyXbhyn"
      },
      "source": [
        "#Menor igual\n",
        "#numero <= 100"
      ],
      "execution_count": null,
      "outputs": []
    },
    {
      "cell_type": "markdown",
      "metadata": {
        "id": "o2NEBmkGebuN"
      },
      "source": [
        "### Métodos"
      ]
    },
    {
      "cell_type": "code",
      "metadata": {
        "id": "d3_H30ykfVYT"
      },
      "source": [
        "#minha_fruta =  'banana'"
      ],
      "execution_count": 25,
      "outputs": []
    },
    {
      "cell_type": "code",
      "metadata": {
        "id": "p9S85QiNfvFU"
      },
      "source": [
        "#minha_fruta.upper()"
      ],
      "execution_count": null,
      "outputs": []
    },
    {
      "cell_type": "code",
      "metadata": {
        "id": "XeRr27rKf21q"
      },
      "source": [
        "#minha_fruta.lower()"
      ],
      "execution_count": null,
      "outputs": []
    },
    {
      "cell_type": "code",
      "metadata": {
        "id": "jRagsc0xgNal"
      },
      "source": [
        "#minha_fruta.count('a')"
      ],
      "execution_count": null,
      "outputs": []
    },
    {
      "cell_type": "code",
      "metadata": {
        "colab": {
          "base_uri": "https://localhost:8080/",
          "height": 35
        },
        "id": "rDLhJB5YhQbM",
        "outputId": "537956d4-d1b6-4397-a6f9-375c8f75e56b"
      },
      "source": [
        "#bebida = 'água de coco'\n",
        "#bebida"
      ],
      "execution_count": 44,
      "outputs": [
        {
          "output_type": "execute_result",
          "data": {
            "application/vnd.google.colaboratory.intrinsic+json": {
              "type": "string"
            },
            "text/plain": [
              "'água de coco'"
            ]
          },
          "metadata": {},
          "execution_count": 44
        }
      ]
    },
    {
      "cell_type": "code",
      "metadata": {
        "colab": {
          "base_uri": "https://localhost:8080/"
        },
        "id": "7_5n3qS9hiG0",
        "outputId": "33b5a9c7-8c79-441e-96c9-57edd96a95a8"
      },
      "source": [
        "#Separar\n",
        "#bebida.split()"
      ],
      "execution_count": 35,
      "outputs": [
        {
          "output_type": "execute_result",
          "data": {
            "text/plain": [
              "['água', 'de', 'coco']"
            ]
          },
          "metadata": {},
          "execution_count": 35
        }
      ]
    },
    {
      "cell_type": "code",
      "metadata": {
        "id": "BUooZvyyhrDl"
      },
      "source": [
        "#Métodos encandeados\n",
        "#bebida.upper().split()"
      ],
      "execution_count": null,
      "outputs": []
    },
    {
      "cell_type": "code",
      "metadata": {
        "id": "YJxZUz_OikVk"
      },
      "source": [
        "#Mudanças na String\n",
        "#bebida_grande = bebida.upper().split()\n",
        "#bebida_grande"
      ],
      "execution_count": null,
      "outputs": []
    },
    {
      "cell_type": "markdown",
      "metadata": {
        "id": "AlWV8GmCjCnf"
      },
      "source": [
        "### Print"
      ]
    },
    {
      "cell_type": "code",
      "metadata": {
        "id": "lcZ1NohJjFzE"
      },
      "source": [
        "#print('bom dia') "
      ],
      "execution_count": null,
      "outputs": []
    },
    {
      "cell_type": "code",
      "metadata": {
        "id": "MVjRSuGljURo"
      },
      "source": [
        "#evento = 'Coda'"
      ],
      "execution_count": 60,
      "outputs": []
    },
    {
      "cell_type": "code",
      "metadata": {
        "id": "bwPdT2R8lkui"
      },
      "source": [
        "#print(f'bom dia, {evento}')"
      ],
      "execution_count": null,
      "outputs": []
    },
    {
      "cell_type": "markdown",
      "metadata": {
        "id": "VO4-8HRAsJOB"
      },
      "source": [
        "###Listas"
      ]
    },
    {
      "cell_type": "code",
      "metadata": {
        "id": "jMoT_D-0sOIX"
      },
      "source": [
        "#frutas = ['pera', 'uva', 'maçã','laranja']"
      ],
      "execution_count": 75,
      "outputs": []
    },
    {
      "cell_type": "code",
      "metadata": {
        "id": "hEIy0voYskSz"
      },
      "source": [
        "#Pegar o segundo elemento\n",
        "#frutas[2]"
      ],
      "execution_count": null,
      "outputs": []
    },
    {
      "cell_type": "code",
      "metadata": {
        "id": "liMHYxC0ss9Q"
      },
      "source": [
        "#Pegar o último elemento\n",
        "#frutas[-1]"
      ],
      "execution_count": null,
      "outputs": []
    },
    {
      "cell_type": "markdown",
      "metadata": {
        "id": "raHCbb2vuzkC"
      },
      "source": [
        "**Fatiamento de listas**"
      ]
    },
    {
      "cell_type": "code",
      "metadata": {
        "id": "o9WJJ5kZs18X"
      },
      "source": [
        "#frutas[0:2]"
      ],
      "execution_count": null,
      "outputs": []
    },
    {
      "cell_type": "code",
      "metadata": {
        "id": "M4ncQU9ftIkz"
      },
      "source": [
        "#frutas[:1]"
      ],
      "execution_count": null,
      "outputs": []
    },
    {
      "cell_type": "code",
      "metadata": {
        "id": "pzXVu8actZ5G"
      },
      "source": [
        "#frutas[3:]"
      ],
      "execution_count": null,
      "outputs": []
    },
    {
      "cell_type": "code",
      "metadata": {
        "id": "_wOCunk5tsSs"
      },
      "source": [
        "#Tamanho de uma lista\n",
        "#len(frutas)"
      ],
      "execution_count": null,
      "outputs": []
    },
    {
      "cell_type": "code",
      "metadata": {
        "id": "0z1i5oLUtwhn"
      },
      "source": [
        "#Incluir um item\n",
        "#frutas.append('melancia')"
      ],
      "execution_count": 86,
      "outputs": []
    },
    {
      "cell_type": "code",
      "metadata": {
        "id": "JaarEYrkt08f"
      },
      "source": [
        "#Excluir um item\n",
        "#frutas.pop()"
      ],
      "execution_count": null,
      "outputs": []
    },
    {
      "cell_type": "markdown",
      "metadata": {
        "id": "je3NQKdRxlWD"
      },
      "source": [
        "###Dicionário"
      ]
    },
    {
      "cell_type": "code",
      "metadata": {
        "id": "Z9DRA3uZt_33"
      },
      "source": [
        "salada_de_frutas = {'ingredientes': frutas,\n",
        "                    'preparo':'corte tudo e misture',\n",
        "                    'tempo':60\n",
        "                    }\n"
      ],
      "execution_count": 91,
      "outputs": []
    },
    {
      "cell_type": "code",
      "metadata": {
        "id": "czfbnt0nyZfz"
      },
      "source": [
        "#pegar um item\n",
        "#salada_de_frutas['ingredientes']"
      ],
      "execution_count": null,
      "outputs": []
    },
    {
      "cell_type": "code",
      "metadata": {
        "id": "jJWLs4WnypPo"
      },
      "source": [
        "#adicionar item \n",
        "#salada_de_frutas['porções'] = 7"
      ],
      "execution_count": 94,
      "outputs": []
    },
    {
      "cell_type": "code",
      "metadata": {
        "id": "aw06ygBsyvqm"
      },
      "source": [
        "#excluir item\n",
        "del salada_de_frutas['tempo']"
      ],
      "execution_count": 97,
      "outputs": []
    },
    {
      "cell_type": "markdown",
      "metadata": {
        "id": "WCSgJGvdzbPY"
      },
      "source": [
        "### Estrutura de repetição `For`"
      ]
    },
    {
      "cell_type": "code",
      "metadata": {
        "id": "4FdRAfc51jLo"
      },
      "source": [
        "#iterando em listas\n",
        "for fruta in frutas:\n",
        "  print(fruta)"
      ],
      "execution_count": null,
      "outputs": []
    },
    {
      "cell_type": "code",
      "metadata": {
        "id": "-A5IbDK_3BOp"
      },
      "source": [
        "#Pegar as chaves do dicionário\n",
        "for chave in salada_de_frutas:\n",
        "  print(chave)"
      ],
      "execution_count": null,
      "outputs": []
    },
    {
      "cell_type": "code",
      "metadata": {
        "id": "bkyqGJu43fDP"
      },
      "source": [
        "#Pegar valor das chaves no dicionário\n",
        "for chave in salada_de_frutas:\n",
        "  print(salada_de_frutas[chave])"
      ],
      "execution_count": null,
      "outputs": []
    },
    {
      "cell_type": "code",
      "metadata": {
        "id": "QH_itNsA2Kh6"
      },
      "source": [
        "#Iterando em elementos de uma string\n",
        "for letra in evento:\n",
        "  print(letra)"
      ],
      "execution_count": null,
      "outputs": []
    },
    {
      "cell_type": "markdown",
      "metadata": {
        "id": "F1o4dtZR2F9I"
      },
      "source": [
        "### Estrutura condicional `if`"
      ]
    },
    {
      "cell_type": "code",
      "metadata": {
        "id": "1TOsBM274-7r"
      },
      "source": [
        "if 4 > 3:\n",
        "  print('É maior sim!')"
      ],
      "execution_count": null,
      "outputs": []
    },
    {
      "cell_type": "code",
      "metadata": {
        "id": "qn0aSzyM5MpV"
      },
      "source": [
        "if 4 >= 7:\n",
        "  print('É maior sim!')\n",
        "else:\n",
        "  print('Claro que não!')"
      ],
      "execution_count": null,
      "outputs": []
    },
    {
      "cell_type": "code",
      "metadata": {
        "id": "rDKJHAMb5fXq"
      },
      "source": [
        "idade = 21\n",
        "\n",
        "if idade > 30:\n",
        "  print('Sou adulto')\n",
        "elif idade > 19 & idade <= 30:\n",
        "  print('sou jovem')\n",
        "else:\n",
        "  print('sou adolas')\n",
        "\n"
      ],
      "execution_count": null,
      "outputs": []
    },
    {
      "cell_type": "markdown",
      "metadata": {
        "id": "xo7NFdsf0Id5"
      },
      "source": [
        "## Pandas 🐼🎲"
      ]
    },
    {
      "cell_type": "markdown",
      "metadata": {
        "id": "uTpW1Kil0Vlf"
      },
      "source": [
        "*  Importar o pandas\n",
        "*  Carga de dados\n",
        "*  Detalhando os dados\n",
        "*  Organizando os dados\n",
        "*  Filtrando os dados\n",
        "*  Agrupando e agregando\n",
        "*  Exportando "
      ]
    },
    {
      "cell_type": "markdown",
      "metadata": {
        "id": "wR2nJ5Rj7PpM"
      },
      "source": [
        "### Importar a `Biblioteca`"
      ]
    },
    {
      "cell_type": "code",
      "metadata": {
        "id": "rWDNuStL41Te"
      },
      "source": [
        "import pandas as pd"
      ],
      "execution_count": 118,
      "outputs": []
    },
    {
      "cell_type": "markdown",
      "metadata": {
        "id": "87TxFyGU7Zm1"
      },
      "source": [
        "### Carga de dados"
      ]
    },
    {
      "cell_type": "code",
      "metadata": {
        "id": "n36diWCK43nk"
      },
      "source": [
        "df_empresas = pd.read_csv('/content/drive/MyDrive/dados_pandas/empresas_trabalho_escravo.csv')"
      ],
      "execution_count": 119,
      "outputs": []
    },
    {
      "cell_type": "markdown",
      "metadata": {
        "id": "tkqPwgdO9mmX"
      },
      "source": [
        "### Detalhando os dados"
      ]
    },
    {
      "cell_type": "code",
      "metadata": {
        "id": "2lFuqije9lGb"
      },
      "source": [
        "df_empresas.head(10)"
      ],
      "execution_count": null,
      "outputs": []
    },
    {
      "cell_type": "code",
      "metadata": {
        "id": "HcVqxZaO9vwB"
      },
      "source": [
        "df_empresas.sample(3)"
      ],
      "execution_count": null,
      "outputs": []
    },
    {
      "cell_type": "code",
      "metadata": {
        "id": "P8MBZ68J915b"
      },
      "source": [
        "df_empresas.tail(3)"
      ],
      "execution_count": null,
      "outputs": []
    },
    {
      "cell_type": "code",
      "metadata": {
        "id": "-hHkp0ba-Fsi"
      },
      "source": [
        "#resumo estatístico\n",
        "df_empresas.describe()"
      ],
      "execution_count": null,
      "outputs": []
    },
    {
      "cell_type": "code",
      "metadata": {
        "colab": {
          "base_uri": "https://localhost:8080/"
        },
        "id": "Y0Dszx3m-RjJ",
        "outputId": "f3fe0647-16fa-4c62-810a-4c968d2f0f9e"
      },
      "source": [
        "#Quantidade de linhas e colunas\n",
        "df_empresas.shape"
      ],
      "execution_count": 128,
      "outputs": [
        {
          "output_type": "execute_result",
          "data": {
            "text/plain": [
              "(1387, 11)"
            ]
          },
          "metadata": {},
          "execution_count": 128
        }
      ]
    },
    {
      "cell_type": "code",
      "metadata": {
        "id": "9EBTXADx-nZb"
      },
      "source": [
        "#Nome das colunas e tipos de dados\n",
        "df_empresas.dtypes"
      ],
      "execution_count": null,
      "outputs": []
    },
    {
      "cell_type": "code",
      "metadata": {
        "id": "SN5JhRCV-1QY"
      },
      "source": [
        "#Nome das colunas\n",
        "df_empresas.columns"
      ],
      "execution_count": null,
      "outputs": []
    },
    {
      "cell_type": "markdown",
      "metadata": {
        "id": "eZ88ypr__DFK"
      },
      "source": [
        "# **CONTINUE AQUI!**"
      ]
    },
    {
      "cell_type": "markdown",
      "metadata": {
        "id": "cy-n96aD_nwm"
      },
      "source": [
        "https://colab.research.google.com/github/escola-de-dados/notebooks-python-pandas/blob/master/Pandas.ipynb?hl=pt-BR#scrollTo=rPQDjya2DUxJ"
      ]
    },
    {
      "cell_type": "code",
      "metadata": {
        "colab": {
          "base_uri": "https://localhost:8080/"
        },
        "id": "bnDouys46k-7",
        "outputId": "4b117908-3981-4418-a952-0396aaef2440"
      },
      "source": [
        "#rancking de empresas (CNAE)\n",
        "\n",
        "df['Descrição CNAE'].value_counts().head(5)"
      ],
      "execution_count": null,
      "outputs": [
        {
          "output_type": "execute_result",
          "data": {
            "text/plain": [
              "CRIAÇÃO DE BOVINOS P    357\n",
              "PRODUÇÃO DE CARVÃO V    147\n",
              "CONSTRUÇÃO DE EDIFÍC     90\n",
              "CULTIVO DE CAFÉ          79\n",
              "EXTRAÇÃO DE MADEIRA      72\n",
              "Name: Descrição CNAE, dtype: int64"
            ]
          },
          "metadata": {},
          "execution_count": 36
        }
      ]
    },
    {
      "cell_type": "code",
      "metadata": {
        "colab": {
          "base_uri": "https://localhost:8080/",
          "height": 388
        },
        "id": "q39pGYa67doj",
        "outputId": "d81afcc8-1c2c-4d34-befc-984d4937920b"
      },
      "source": [
        "#Qual estado teve mais operações\n",
        "\n",
        "df[['UF','Operação']].groupby('UF').sum().sort_values('Operação', ascending=False).head(10)"
      ],
      "execution_count": null,
      "outputs": [
        {
          "output_type": "execute_result",
          "data": {
            "text/html": [
              "<div>\n",
              "<style scoped>\n",
              "    .dataframe tbody tr th:only-of-type {\n",
              "        vertical-align: middle;\n",
              "    }\n",
              "\n",
              "    .dataframe tbody tr th {\n",
              "        vertical-align: top;\n",
              "    }\n",
              "\n",
              "    .dataframe thead th {\n",
              "        text-align: right;\n",
              "    }\n",
              "</style>\n",
              "<table border=\"1\" class=\"dataframe\">\n",
              "  <thead>\n",
              "    <tr style=\"text-align: right;\">\n",
              "      <th></th>\n",
              "      <th>Operação</th>\n",
              "    </tr>\n",
              "    <tr>\n",
              "      <th>UF</th>\n",
              "      <th></th>\n",
              "    </tr>\n",
              "  </thead>\n",
              "  <tbody>\n",
              "    <tr>\n",
              "      <th>MG</th>\n",
              "      <td>19173</td>\n",
              "    </tr>\n",
              "    <tr>\n",
              "      <th>PA</th>\n",
              "      <td>14810</td>\n",
              "    </tr>\n",
              "    <tr>\n",
              "      <th>SP</th>\n",
              "      <td>10773</td>\n",
              "    </tr>\n",
              "    <tr>\n",
              "      <th>GO</th>\n",
              "      <td>6598</td>\n",
              "    </tr>\n",
              "    <tr>\n",
              "      <th>BA</th>\n",
              "      <td>6450</td>\n",
              "    </tr>\n",
              "    <tr>\n",
              "      <th>RJ</th>\n",
              "      <td>6095</td>\n",
              "    </tr>\n",
              "    <tr>\n",
              "      <th>MT</th>\n",
              "      <td>5993</td>\n",
              "    </tr>\n",
              "    <tr>\n",
              "      <th>MA</th>\n",
              "      <td>4920</td>\n",
              "    </tr>\n",
              "    <tr>\n",
              "      <th>TO</th>\n",
              "      <td>4330</td>\n",
              "    </tr>\n",
              "    <tr>\n",
              "      <th>PI</th>\n",
              "      <td>4112</td>\n",
              "    </tr>\n",
              "  </tbody>\n",
              "</table>\n",
              "</div>"
            ],
            "text/plain": [
              "    Operação\n",
              "UF          \n",
              "MG     19173\n",
              "PA     14810\n",
              "SP     10773\n",
              "GO      6598\n",
              "BA      6450\n",
              "RJ      6095\n",
              "MT      5993\n",
              "MA      4920\n",
              "TO      4330\n",
              "PI      4112"
            ]
          },
          "metadata": {},
          "execution_count": 37
        }
      ]
    },
    {
      "cell_type": "code",
      "metadata": {
        "colab": {
          "base_uri": "https://localhost:8080/",
          "height": 418
        },
        "id": "a9R7HIyW_D7c",
        "outputId": "d1c31872-fdad-409b-d944-5f1867a5096d"
      },
      "source": [
        "#Ano em que mais houve altuação\n",
        "df[['Ano','Operação']].groupby('Ano').sum().sort_values('Operação', ascending=False)\n"
      ],
      "execution_count": null,
      "outputs": [
        {
          "output_type": "execute_result",
          "data": {
            "text/html": [
              "<div>\n",
              "<style scoped>\n",
              "    .dataframe tbody tr th:only-of-type {\n",
              "        vertical-align: middle;\n",
              "    }\n",
              "\n",
              "    .dataframe tbody tr th {\n",
              "        vertical-align: top;\n",
              "    }\n",
              "\n",
              "    .dataframe thead th {\n",
              "        text-align: right;\n",
              "    }\n",
              "</style>\n",
              "<table border=\"1\" class=\"dataframe\">\n",
              "  <thead>\n",
              "    <tr style=\"text-align: right;\">\n",
              "      <th></th>\n",
              "      <th>Operação</th>\n",
              "    </tr>\n",
              "    <tr>\n",
              "      <th>Ano</th>\n",
              "      <th></th>\n",
              "    </tr>\n",
              "  </thead>\n",
              "  <tbody>\n",
              "    <tr>\n",
              "      <th>2011</th>\n",
              "      <td>14893</td>\n",
              "    </tr>\n",
              "    <tr>\n",
              "      <th>2013</th>\n",
              "      <td>13431</td>\n",
              "    </tr>\n",
              "    <tr>\n",
              "      <th>2012</th>\n",
              "      <td>10558</td>\n",
              "    </tr>\n",
              "    <tr>\n",
              "      <th>2014</th>\n",
              "      <td>10446</td>\n",
              "    </tr>\n",
              "    <tr>\n",
              "      <th>2019</th>\n",
              "      <td>10327</td>\n",
              "    </tr>\n",
              "    <tr>\n",
              "      <th>2010</th>\n",
              "      <td>10154</td>\n",
              "    </tr>\n",
              "    <tr>\n",
              "      <th>2018</th>\n",
              "      <td>8794</td>\n",
              "    </tr>\n",
              "    <tr>\n",
              "      <th>2015</th>\n",
              "      <td>8748</td>\n",
              "    </tr>\n",
              "    <tr>\n",
              "      <th>2020</th>\n",
              "      <td>7628</td>\n",
              "    </tr>\n",
              "    <tr>\n",
              "      <th>2017</th>\n",
              "      <td>6653</td>\n",
              "    </tr>\n",
              "    <tr>\n",
              "      <th>2016</th>\n",
              "      <td>6538</td>\n",
              "    </tr>\n",
              "  </tbody>\n",
              "</table>\n",
              "</div>"
            ],
            "text/plain": [
              "      Operação\n",
              "Ano           \n",
              "2011     14893\n",
              "2013     13431\n",
              "2012     10558\n",
              "2014     10446\n",
              "2019     10327\n",
              "2010     10154\n",
              "2018      8794\n",
              "2015      8748\n",
              "2020      7628\n",
              "2017      6653\n",
              "2016      6538"
            ]
          },
          "metadata": {},
          "execution_count": 38
        }
      ]
    },
    {
      "cell_type": "code",
      "metadata": {
        "colab": {
          "base_uri": "https://localhost:8080/"
        },
        "id": "9FhBEhT3D2l9",
        "outputId": "d739f491-e134-45ae-976d-10bd1fbb79ad"
      },
      "source": [
        "#Total de pessoas em libertas do trabalho escravo de 2010 a 2020\n",
        "df['Nº Trab. cond. analog escravo'].sum()"
      ],
      "execution_count": null,
      "outputs": [
        {
          "output_type": "execute_result",
          "data": {
            "text/plain": [
              "19064"
            ]
          },
          "metadata": {},
          "execution_count": 39
        }
      ]
    },
    {
      "cell_type": "code",
      "metadata": {
        "colab": {
          "base_uri": "https://localhost:8080/",
          "height": 881
        },
        "id": "K-XbAAluEWun",
        "outputId": "c8141d40-cd35-43bb-990c-19d56ca30eff"
      },
      "source": [
        "#Numero total de pessoas libertas através dos anos por estado\n",
        "df[['UF','Nº Trab. cond. analog escravo']].groupby('UF').sum().sort_values('Nº Trab. cond. analog escravo', ascending=False)"
      ],
      "execution_count": null,
      "outputs": [
        {
          "output_type": "execute_result",
          "data": {
            "text/html": [
              "<div>\n",
              "<style scoped>\n",
              "    .dataframe tbody tr th:only-of-type {\n",
              "        vertical-align: middle;\n",
              "    }\n",
              "\n",
              "    .dataframe tbody tr th {\n",
              "        vertical-align: top;\n",
              "    }\n",
              "\n",
              "    .dataframe thead th {\n",
              "        text-align: right;\n",
              "    }\n",
              "</style>\n",
              "<table border=\"1\" class=\"dataframe\">\n",
              "  <thead>\n",
              "    <tr style=\"text-align: right;\">\n",
              "      <th></th>\n",
              "      <th>Nº Trab. cond. analog escravo</th>\n",
              "    </tr>\n",
              "    <tr>\n",
              "      <th>UF</th>\n",
              "      <th></th>\n",
              "    </tr>\n",
              "  </thead>\n",
              "  <tbody>\n",
              "    <tr>\n",
              "      <th>MG</th>\n",
              "      <td>5505</td>\n",
              "    </tr>\n",
              "    <tr>\n",
              "      <th>PA</th>\n",
              "      <td>2091</td>\n",
              "    </tr>\n",
              "    <tr>\n",
              "      <th>SP</th>\n",
              "      <td>1600</td>\n",
              "    </tr>\n",
              "    <tr>\n",
              "      <th>GO</th>\n",
              "      <td>1448</td>\n",
              "    </tr>\n",
              "    <tr>\n",
              "      <th>TO</th>\n",
              "      <td>790</td>\n",
              "    </tr>\n",
              "    <tr>\n",
              "      <th>MA</th>\n",
              "      <td>776</td>\n",
              "    </tr>\n",
              "    <tr>\n",
              "      <th>MS</th>\n",
              "      <td>770</td>\n",
              "    </tr>\n",
              "    <tr>\n",
              "      <th>BA</th>\n",
              "      <td>767</td>\n",
              "    </tr>\n",
              "    <tr>\n",
              "      <th>PI</th>\n",
              "      <td>678</td>\n",
              "    </tr>\n",
              "    <tr>\n",
              "      <th>SC</th>\n",
              "      <td>633</td>\n",
              "    </tr>\n",
              "    <tr>\n",
              "      <th>RJ</th>\n",
              "      <td>605</td>\n",
              "    </tr>\n",
              "    <tr>\n",
              "      <th>MT</th>\n",
              "      <td>569</td>\n",
              "    </tr>\n",
              "    <tr>\n",
              "      <th>PR</th>\n",
              "      <td>538</td>\n",
              "    </tr>\n",
              "    <tr>\n",
              "      <th>AM</th>\n",
              "      <td>351</td>\n",
              "    </tr>\n",
              "    <tr>\n",
              "      <th>ES</th>\n",
              "      <td>348</td>\n",
              "    </tr>\n",
              "    <tr>\n",
              "      <th>CE</th>\n",
              "      <td>289</td>\n",
              "    </tr>\n",
              "    <tr>\n",
              "      <th>RO</th>\n",
              "      <td>249</td>\n",
              "    </tr>\n",
              "    <tr>\n",
              "      <th>RS</th>\n",
              "      <td>215</td>\n",
              "    </tr>\n",
              "    <tr>\n",
              "      <th>AL</th>\n",
              "      <td>184</td>\n",
              "    </tr>\n",
              "    <tr>\n",
              "      <th>DF</th>\n",
              "      <td>158</td>\n",
              "    </tr>\n",
              "    <tr>\n",
              "      <th>PE</th>\n",
              "      <td>156</td>\n",
              "    </tr>\n",
              "    <tr>\n",
              "      <th>AC</th>\n",
              "      <td>127</td>\n",
              "    </tr>\n",
              "    <tr>\n",
              "      <th>PB</th>\n",
              "      <td>72</td>\n",
              "    </tr>\n",
              "    <tr>\n",
              "      <th>RR</th>\n",
              "      <td>65</td>\n",
              "    </tr>\n",
              "    <tr>\n",
              "      <th>RN</th>\n",
              "      <td>43</td>\n",
              "    </tr>\n",
              "    <tr>\n",
              "      <th>AP</th>\n",
              "      <td>37</td>\n",
              "    </tr>\n",
              "  </tbody>\n",
              "</table>\n",
              "</div>"
            ],
            "text/plain": [
              "    Nº Trab. cond. analog escravo\n",
              "UF                               \n",
              "MG                           5505\n",
              "PA                           2091\n",
              "SP                           1600\n",
              "GO                           1448\n",
              "TO                            790\n",
              "MA                            776\n",
              "MS                            770\n",
              "BA                            767\n",
              "PI                            678\n",
              "SC                            633\n",
              "RJ                            605\n",
              "MT                            569\n",
              "PR                            538\n",
              "AM                            351\n",
              "ES                            348\n",
              "CE                            289\n",
              "RO                            249\n",
              "RS                            215\n",
              "AL                            184\n",
              "DF                            158\n",
              "PE                            156\n",
              "AC                            127\n",
              "PB                             72\n",
              "RR                             65\n",
              "RN                             43\n",
              "AP                             37"
            ]
          },
          "metadata": {},
          "execution_count": 40
        }
      ]
    },
    {
      "cell_type": "code",
      "metadata": {
        "colab": {
          "base_uri": "https://localhost:8080/",
          "height": 418
        },
        "id": "8u-jPzXFE4Rd",
        "outputId": "8c202e25-9702-4dcb-a9a1-b5f415a90cd6"
      },
      "source": [
        "#Qual ano que mais houveram pessoas libertadas\n",
        "df[['Ano','Nº Trab. cond. analog escravo']].groupby('Ano').sum().sort_values('Nº Trab. cond. analog escravo', ascending=False)"
      ],
      "execution_count": null,
      "outputs": [
        {
          "output_type": "execute_result",
          "data": {
            "text/html": [
              "<div>\n",
              "<style scoped>\n",
              "    .dataframe tbody tr th:only-of-type {\n",
              "        vertical-align: middle;\n",
              "    }\n",
              "\n",
              "    .dataframe tbody tr th {\n",
              "        vertical-align: top;\n",
              "    }\n",
              "\n",
              "    .dataframe thead th {\n",
              "        text-align: right;\n",
              "    }\n",
              "</style>\n",
              "<table border=\"1\" class=\"dataframe\">\n",
              "  <thead>\n",
              "    <tr style=\"text-align: right;\">\n",
              "      <th></th>\n",
              "      <th>Nº Trab. cond. analog escravo</th>\n",
              "    </tr>\n",
              "    <tr>\n",
              "      <th>Ano</th>\n",
              "      <th></th>\n",
              "    </tr>\n",
              "  </thead>\n",
              "  <tbody>\n",
              "    <tr>\n",
              "      <th>2013</th>\n",
              "      <td>2808</td>\n",
              "    </tr>\n",
              "    <tr>\n",
              "      <th>2012</th>\n",
              "      <td>2775</td>\n",
              "    </tr>\n",
              "    <tr>\n",
              "      <th>2010</th>\n",
              "      <td>2640</td>\n",
              "    </tr>\n",
              "    <tr>\n",
              "      <th>2011</th>\n",
              "      <td>2496</td>\n",
              "    </tr>\n",
              "    <tr>\n",
              "      <th>2014</th>\n",
              "      <td>1754</td>\n",
              "    </tr>\n",
              "    <tr>\n",
              "      <th>2018</th>\n",
              "      <td>1752</td>\n",
              "    </tr>\n",
              "    <tr>\n",
              "      <th>2015</th>\n",
              "      <td>1205</td>\n",
              "    </tr>\n",
              "    <tr>\n",
              "      <th>2019</th>\n",
              "      <td>1193</td>\n",
              "    </tr>\n",
              "    <tr>\n",
              "      <th>2016</th>\n",
              "      <td>972</td>\n",
              "    </tr>\n",
              "    <tr>\n",
              "      <th>2020</th>\n",
              "      <td>821</td>\n",
              "    </tr>\n",
              "    <tr>\n",
              "      <th>2017</th>\n",
              "      <td>648</td>\n",
              "    </tr>\n",
              "  </tbody>\n",
              "</table>\n",
              "</div>"
            ],
            "text/plain": [
              "      Nº Trab. cond. analog escravo\n",
              "Ano                                \n",
              "2013                           2808\n",
              "2012                           2775\n",
              "2010                           2640\n",
              "2011                           2496\n",
              "2014                           1754\n",
              "2018                           1752\n",
              "2015                           1205\n",
              "2019                           1193\n",
              "2016                            972\n",
              "2020                            821\n",
              "2017                            648"
            ]
          },
          "metadata": {},
          "execution_count": 41
        }
      ]
    },
    {
      "cell_type": "code",
      "metadata": {
        "colab": {
          "base_uri": "https://localhost:8080/"
        },
        "id": "ao5WFZvyFSC3",
        "outputId": "d0fb1616-bd25-4266-f6be-f6fcc6e17ca9"
      },
      "source": [
        "df.columns"
      ],
      "execution_count": null,
      "outputs": [
        {
          "output_type": "execute_result",
          "data": {
            "text/plain": [
              "Index(['Ano', 'Operação', 'Dia/Mês', 'UF', 'Município', 'CNAE',\n",
              "       'Descrição CNAE', 'Proprietário', 'CNPJ/CEI/CPF',\n",
              "       'Estabelecimento Inspecionado', 'Nº Trab. cond. analog escravo'],\n",
              "      dtype='object')"
            ]
          },
          "metadata": {},
          "execution_count": 42
        }
      ]
    },
    {
      "cell_type": "code",
      "metadata": {
        "colab": {
          "base_uri": "https://localhost:8080/",
          "height": 602
        },
        "id": "eTpTYec5Hbau",
        "outputId": "9a5fd4c8-a102-410d-cb35-296d25c19bc6"
      },
      "source": [
        "df[df.UF == 'RJ']"
      ],
      "execution_count": null,
      "outputs": [
        {
          "output_type": "execute_result",
          "data": {
            "text/html": [
              "<div>\n",
              "<style scoped>\n",
              "    .dataframe tbody tr th:only-of-type {\n",
              "        vertical-align: middle;\n",
              "    }\n",
              "\n",
              "    .dataframe tbody tr th {\n",
              "        vertical-align: top;\n",
              "    }\n",
              "\n",
              "    .dataframe thead th {\n",
              "        text-align: right;\n",
              "    }\n",
              "</style>\n",
              "<table border=\"1\" class=\"dataframe\">\n",
              "  <thead>\n",
              "    <tr style=\"text-align: right;\">\n",
              "      <th></th>\n",
              "      <th>Ano</th>\n",
              "      <th>Operação</th>\n",
              "      <th>Dia/Mês</th>\n",
              "      <th>UF</th>\n",
              "      <th>Município</th>\n",
              "      <th>CNAE</th>\n",
              "      <th>Descrição CNAE</th>\n",
              "      <th>Proprietário</th>\n",
              "      <th>CNPJ/CEI/CPF</th>\n",
              "      <th>Estabelecimento Inspecionado</th>\n",
              "      <th>Nº Trab. cond. analog escravo</th>\n",
              "    </tr>\n",
              "  </thead>\n",
              "  <tbody>\n",
              "    <tr>\n",
              "      <th>106</th>\n",
              "      <td>2010</td>\n",
              "      <td>85</td>\n",
              "      <td>22/06/2010 a 08/07/2010</td>\n",
              "      <td>RJ</td>\n",
              "      <td>CONCEIÇÃO DE MACABU</td>\n",
              "      <td>0151202</td>\n",
              "      <td>CRIAÇÃO DE BOVINOS P</td>\n",
              "      <td>NEIDE TEREZINHA SILVA GUIMARÃES</td>\n",
              "      <td>83002260797</td>\n",
              "      <td>FAZ. NEIDE TEREZINHA SILVA GUIMARÃES</td>\n",
              "      <td>1</td>\n",
              "    </tr>\n",
              "    <tr>\n",
              "      <th>131</th>\n",
              "      <td>2010</td>\n",
              "      <td>105</td>\n",
              "      <td>13/09/2010 a 18/09/2010</td>\n",
              "      <td>RJ</td>\n",
              "      <td>CAMPOS DOS GOYTACAZES</td>\n",
              "      <td>0113000</td>\n",
              "      <td>CULTIVO DE CANA-DE-A</td>\n",
              "      <td>CONSÓRCIO SIMPLIFICADO DE EMPREGADORES RURAIS</td>\n",
              "      <td>12034923000143</td>\n",
              "      <td>CONSÓRCIO SIMPLIFICADO DE EMPREGADORES RURAIS</td>\n",
              "      <td>33</td>\n",
              "    </tr>\n",
              "    <tr>\n",
              "      <th>132</th>\n",
              "      <td>2010</td>\n",
              "      <td>107</td>\n",
              "      <td>19/10/2010 a 27/10/2010</td>\n",
              "      <td>RJ</td>\n",
              "      <td>SÃO FRANCISCO DE ITABAPOANA</td>\n",
              "      <td>0113000</td>\n",
              "      <td>CULTIVO DE CANA-DE-A</td>\n",
              "      <td>JOSÉ RENATO ELIAS PONTES</td>\n",
              "      <td>718400798</td>\n",
              "      <td>FAZENDA SÃO LUÍS</td>\n",
              "      <td>24</td>\n",
              "    </tr>\n",
              "    <tr>\n",
              "      <th>220</th>\n",
              "      <td>2011</td>\n",
              "      <td>48</td>\n",
              "      <td>12/04/2011 a 15/04/2011</td>\n",
              "      <td>RJ</td>\n",
              "      <td>SANTO ANTÔNIO DE PÁDUA</td>\n",
              "      <td>0810099</td>\n",
              "      <td>EXTRAÇÃO E BRITAMENT</td>\n",
              "      <td>QUATRO IRMÃOS PEDRAS DECORATIVAS LTDA - ME</td>\n",
              "      <td>901527000197</td>\n",
              "      <td>QUATRO IRMÃOS PEDRAS DECORATIVAS LTDA - ME</td>\n",
              "      <td>5</td>\n",
              "    </tr>\n",
              "    <tr>\n",
              "      <th>221</th>\n",
              "      <td>2011</td>\n",
              "      <td>48</td>\n",
              "      <td>12/04/2011 a 15/04/2011</td>\n",
              "      <td>RJ</td>\n",
              "      <td>SANTO ANTÔNIO DE PÁDUA</td>\n",
              "      <td>0810099</td>\n",
              "      <td>EXTRAÇÃO E BRITAMENT</td>\n",
              "      <td>PEDRAS DECORATIVAS ALVES E ANDRADE LTDA</td>\n",
              "      <td>5887637000165</td>\n",
              "      <td>PEDRAS DECORATIVAS ALVES E ANDRADE LTDA</td>\n",
              "      <td>1</td>\n",
              "    </tr>\n",
              "    <tr>\n",
              "      <th>...</th>\n",
              "      <td>...</td>\n",
              "      <td>...</td>\n",
              "      <td>...</td>\n",
              "      <td>...</td>\n",
              "      <td>...</td>\n",
              "      <td>...</td>\n",
              "      <td>...</td>\n",
              "      <td>...</td>\n",
              "      <td>...</td>\n",
              "      <td>...</td>\n",
              "      <td>...</td>\n",
              "    </tr>\n",
              "    <tr>\n",
              "      <th>1247</th>\n",
              "      <td>2019</td>\n",
              "      <td>89</td>\n",
              "      <td>01/04/2019 a 15/07/2019</td>\n",
              "      <td>RJ</td>\n",
              "      <td>RIO DE JANEIRO</td>\n",
              "      <td>5611201</td>\n",
              "      <td>RESTAURANTES E SIMIL</td>\n",
              "      <td>MANA MINEIRO RESTAURANTE LTDA</td>\n",
              "      <td>4967234000163</td>\n",
              "      <td>RUA DO RIACHUELO, 405, LOJA H, CENTRO, RIO DE ...</td>\n",
              "      <td>3</td>\n",
              "    </tr>\n",
              "    <tr>\n",
              "      <th>1248</th>\n",
              "      <td>2019</td>\n",
              "      <td>89</td>\n",
              "      <td>01/04/2019 a 15/07/2019</td>\n",
              "      <td>RJ</td>\n",
              "      <td>RIO DE JANEIRO</td>\n",
              "      <td>5611201</td>\n",
              "      <td>RESTAURANTES E SIMIL</td>\n",
              "      <td>RESTAURANTE TUBARÃO DO KILO LTDA.</td>\n",
              "      <td>9639552000119</td>\n",
              "      <td>AVENIDA MARECHAL FLORIANO, 154, CENTRO, RIO DE...</td>\n",
              "      <td>1</td>\n",
              "    </tr>\n",
              "    <tr>\n",
              "      <th>1249</th>\n",
              "      <td>2019</td>\n",
              "      <td>89</td>\n",
              "      <td>01/04/2019 a 15/07/2019</td>\n",
              "      <td>RJ</td>\n",
              "      <td>RIO DE JANEIRO</td>\n",
              "      <td>5611203</td>\n",
              "      <td>LANCHONETES, CASAS D</td>\n",
              "      <td>CAFÉ E BAR CABALERO LTDA ME</td>\n",
              "      <td>33184409000164</td>\n",
              "      <td>RUA FREI CANECA, 448, CENTRO, RIO DE JANEIRO, ...</td>\n",
              "      <td>3</td>\n",
              "    </tr>\n",
              "    <tr>\n",
              "      <th>1277</th>\n",
              "      <td>2019</td>\n",
              "      <td>132</td>\n",
              "      <td>22/08/2019 a 04/10/2019</td>\n",
              "      <td>RJ</td>\n",
              "      <td>RIO DE JANEIRO</td>\n",
              "      <td>4120400</td>\n",
              "      <td>CONSTRUÇÃO DE EDIFÍC</td>\n",
              "      <td>V W CONSULTORIA E CONSTRUÇÃO CIVIL EIRELI</td>\n",
              "      <td>29986236000120</td>\n",
              "      <td>CONSTRUÇÃO CIVIL ( RUA CONCEIÇÃO DE IPANEMA, 1...</td>\n",
              "      <td>13</td>\n",
              "    </tr>\n",
              "    <tr>\n",
              "      <th>1374</th>\n",
              "      <td>2020</td>\n",
              "      <td>177</td>\n",
              "      <td>09/10/2020 a 30/11/2020</td>\n",
              "      <td>RJ</td>\n",
              "      <td>RIO DE JANEIRO</td>\n",
              "      <td>5611203</td>\n",
              "      <td>LANCHONETES, CASAS D</td>\n",
              "      <td>PASTELARIA RECANTO DA PRAIA DO LEME LTDA ME</td>\n",
              "      <td>18785644000106</td>\n",
              "      <td>RUA GUSTAVO SAMPAIO, N. 448, LEME, RIO DE JANE...</td>\n",
              "      <td>2</td>\n",
              "    </tr>\n",
              "  </tbody>\n",
              "</table>\n",
              "<p>62 rows × 11 columns</p>\n",
              "</div>"
            ],
            "text/plain": [
              "       Ano  ...  Nº Trab. cond. analog escravo\n",
              "106   2010  ...                              1\n",
              "131   2010  ...                             33\n",
              "132   2010  ...                             24\n",
              "220   2011  ...                              5\n",
              "221   2011  ...                              1\n",
              "...    ...  ...                            ...\n",
              "1247  2019  ...                              3\n",
              "1248  2019  ...                              1\n",
              "1249  2019  ...                              3\n",
              "1277  2019  ...                             13\n",
              "1374  2020  ...                              2\n",
              "\n",
              "[62 rows x 11 columns]"
            ]
          },
          "metadata": {},
          "execution_count": 3
        }
      ]
    },
    {
      "cell_type": "markdown",
      "metadata": {
        "id": "mFaq7TWQMlj5"
      },
      "source": [
        "# **MilkShake dos Dados** 🥤"
      ]
    },
    {
      "cell_type": "code",
      "metadata": {
        "id": "skJk0tjQLr-9"
      },
      "source": [
        ""
      ],
      "execution_count": null,
      "outputs": []
    }
  ]
}